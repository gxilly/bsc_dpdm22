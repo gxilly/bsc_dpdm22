{
  "nbformat": 4,
  "nbformat_minor": 0,
  "metadata": {
    "colab": {
      "provenance": [],
      "authorship_tag": "ABX9TyN0ueP9FMQGm1WDs+2w44kF",
      "include_colab_link": true
    },
    "kernelspec": {
      "name": "python3",
      "display_name": "Python 3"
    },
    "language_info": {
      "name": "python"
    }
  },
  "cells": [
    {
      "cell_type": "markdown",
      "metadata": {
        "id": "view-in-github",
        "colab_type": "text"
      },
      "source": [
        "<a href=\"https://colab.research.google.com/github/gxilly/bsc_dpdm22/blob/main/%5Bdataprep1%5D_property_estimator.ipynb\" target=\"_parent\"><img src=\"https://colab.research.google.com/assets/colab-badge.svg\" alt=\"Open In Colab\"/></a>"
      ]
    },
    {
      "cell_type": "code",
      "execution_count": 1,
      "metadata": {
        "id": "3fdDOOVoZork"
      },
      "outputs": [],
      "source": [
        "import gspread as gs\n",
        "import pandas as pd\n",
        "import numpy as np\n",
        "\n",
        "from matplotlib import pyplot as plt\n",
        "import matplotlib"
      ]
    },
    {
      "cell_type": "code",
      "source": [
        "#from google.colab import drive \n",
        "#drive.mount('/content/gdrive')"
      ],
      "metadata": {
        "colab": {
          "base_uri": "https://localhost:8080/"
        },
        "outputId": "4ee2f9fc-fbf7-4c86-9b22-864208e4c3ec",
        "id": "qz-mCJpOZorm"
      },
      "execution_count": 2,
      "outputs": [
        {
          "output_type": "stream",
          "name": "stdout",
          "text": [
            "Mounted at /content/gdrive\n"
          ]
        }
      ]
    },
    {
      "cell_type": "code",
      "source": [
        "#import os\n",
        "#os.chdir('/content/gdrive/MyDrive/bscdata')\n",
        "\n",
        "#!pwd #เช็ค paht ที่กำลังทำงานอยู่"
      ],
      "metadata": {
        "colab": {
          "base_uri": "https://localhost:8080/"
        },
        "outputId": "abf76103-b0e1-454a-8bb0-133f17c3d91b",
        "id": "27J_0RR7Zorn"
      },
      "execution_count": 3,
      "outputs": [
        {
          "output_type": "stream",
          "name": "stdout",
          "text": [
            "/content/gdrive/MyDrive/bscdata\n"
          ]
        }
      ]
    },
    {
      "cell_type": "code",
      "source": [
        "# open file\n",
        "#house = pd.read_excel('คำตอบนักประเมินaj.xlsx',sheet_name=0)\n",
        "#print(house.shape) # shown number of (row, column)\n",
        "#house.head()"
      ],
      "metadata": {
        "id": "ZoOYjnQjZoro"
      },
      "execution_count": 9,
      "outputs": []
    },
    {
      "cell_type": "markdown",
      "source": [
        "- ดูจากค่าอื่นๆ ที่ดินนี้อยู่ที่ไหน พื้นที่เท่าไหร่ ตร.ละเท่าไหร่ feature ต่างๆ เอาค่าพวกนี้มาสร้าง model ก่อน แล้วเอาค่าที่มีอยู่ มาทำนายค่าที่หายไป ## ดีเยี่ยม!!\n",
        "- 0 เกิน 0 ขาด ส่วนใหญ่น่าจะตกแค่ตัวเดียว ต่างกัน 10 เท่า\n",
        "ควรเอาราคาสองอันมาหารกัน (ประเมิน/ตั้งขาย, ตั้งขาย/ประเมิน) ห่างกัน 9-10,0.1 "
      ],
      "metadata": {
        "id": "k1sb3PTKCMsv"
      }
    },
    {
      "cell_type": "markdown",
      "source": [
        "# import ข้อมูล"
      ],
      "metadata": {
        "id": "BHvWUGwfROnW"
      }
    },
    {
      "cell_type": "markdown",
      "source": [
        "export?format=xlsx"
      ],
      "metadata": {
        "id": "HvoRcIvfBrds"
      }
    },
    {
      "cell_type": "code",
      "source": [
        "link = 'https://docs.google.com/spreadsheets/d/1hRZ_CnkB0tZDDgW_pXS-aw61X1PIxZDdeT1q2SXXIIs/export?format=xlsx'"
      ],
      "metadata": {
        "id": "gk_Ya4czA9vJ"
      },
      "execution_count": 2,
      "outputs": []
    },
    {
      "cell_type": "code",
      "source": [
        "house = pd.read_excel(link,sheet_name='house')\n",
        "land = pd.read_excel(link,sheet_name='land')\n",
        "condo = pd.read_excel(link,sheet_name='condo')\n",
        "tw = pd.read_excel(link,sheet_name='town home')\n",
        "sh = pd.read_excel(link,sheet_name='shop house')"
      ],
      "metadata": {
        "id": "IFhwiKN9BEOw"
      },
      "execution_count": 3,
      "outputs": []
    },
    {
      "cell_type": "markdown",
      "source": [
        "# สรุปข้อมูลของนักประเมินแต่ละคน โดยพิจารณาจาก ความมั่นใจในการประเมิน ประเมินราคาซื้อ-ขาย ให้คะแนนทรัพย์"
      ],
      "metadata": {
        "id": "PUmD43ExZorr"
      }
    },
    {
      "cell_type": "markdown",
      "source": [
        "df['Name'].unique() #ในคอลัมน์นั้น มีค่าอะไรบ้าง"
      ],
      "metadata": {
        "id": "tkTQiBnKYwKt"
      }
    },
    {
      "cell_type": "markdown",
      "source": [
        "## House"
      ],
      "metadata": {
        "id": "tE7Tie_Ppdp8"
      }
    },
    {
      "cell_type": "code",
      "source": [
        "house"
      ],
      "metadata": {
        "id": "FqG6luTGST22",
        "outputId": "6ba2f55a-c710-411c-dc55-8dcdddbe0afa",
        "colab": {
          "base_uri": "https://localhost:8080/",
          "height": 658
        }
      },
      "execution_count": 108,
      "outputs": [
        {
          "output_type": "execute_result",
          "data": {
            "text/plain": [
              "      ID ผู้ประเมิน                               post id property_type  \\\n",
              "0                 1    https://nayoo.co/khonkaen/posts/25    บ้านเดี่ยว   \n",
              "1                 2    https://nayoo.co/khonkaen/posts/25    บ้านเดี่ยว   \n",
              "2                 1    https://nayoo.co/khonkaen/posts/33    บ้านเดี่ยว   \n",
              "3                 2    https://nayoo.co/khonkaen/posts/33    บ้านเดี่ยว   \n",
              "4                 1   https://nayoo.co/khonkaen/posts/495    บ้านเดี่ยว   \n",
              "...             ...                                   ...           ...   \n",
              "1215              1  https://nayoo.co/khonkaen/posts/6257    บ้านเดี่ยว   \n",
              "1216              2  https://nayoo.co/khonkaen/posts/6258    บ้านเดี่ยว   \n",
              "1217              1  https://nayoo.co/khonkaen/posts/6258    บ้านเดี่ยว   \n",
              "1218              2  https://nayoo.co/khonkaen/posts/6260    บ้านเดี่ยว   \n",
              "1219              1  https://nayoo.co/khonkaen/posts/6260    บ้านเดี่ยว   \n",
              "\n",
              "     ความมั่นใจในการเมินราคาทรัพย์  ราคาทรัพย์  ประเมินราคาซื้อ-ขาย  \\\n",
              "0                           มั่นใจ     2890000            2500000.0   \n",
              "1                           มั่นใจ     2890000            2700000.0   \n",
              "2                           มั่นใจ     2600000            2200000.0   \n",
              "3                           มั่นใจ     2600000            2400000.0   \n",
              "4                           มั่นใจ     6050000            5000000.0   \n",
              "...                            ...         ...                  ...   \n",
              "1215                        มั่นใจ      295000             500000.0   \n",
              "1216                        มั่นใจ      615000             500000.0   \n",
              "1217                        มั่นใจ      615000             600000.0   \n",
              "1218                        มั่นใจ      620000             700000.0   \n",
              "1219                        มั่นใจ      620000             750000.0   \n",
              "\n",
              "                         ปัจจัยในการประเมินราคาซื้อ-ขาย  \\\n",
              "0                                          5,000-15,000   \n",
              "1     โครงการนี้ราคาเสนอขาย 2,500,000-3,000,000 บาท/...   \n",
              "2                                          5,000-15,000   \n",
              "3      ราคาเสนอขายประมาณ 2,200,000 - 2,500,000 บาท/หลัง   \n",
              "4                                          5,000-15,000   \n",
              "...                                                 ...   \n",
              "1215  เพื่อป้องกันปัญหาที่อาจเกิดขึ้นภายหลังหากต้องม...   \n",
              "1216                     ราคาเสนอขาย 3-5 พันบาท/ตารางวา   \n",
              "1217  เพื่อป้องกันปัญหาที่อาจเกิดขึ้นภายหลังหากต้องม...   \n",
              "1218                     ราคาเสนอขาย 4-5 พันบาท/ตารางวา   \n",
              "1219  เพื่อป้องกันปัญหาที่อาจเกิดขึ้นภายหลังหากต้องม...   \n",
              "\n",
              "     เหตุผลไม่มั่นใจราคาประเมิน                      ให้คะแนนทรัพย์  \n",
              "0                           NaN   3 ขายได้ ใช้ระยะเวลา 7 - 12 เดือน  \n",
              "1                           NaN    4 ขายได้ ใช้ระยะเวลา 4 - 6 เดือน  \n",
              "2                           NaN  2 ขายได้ยาก ใช้ระยะเวลามากว่า 1 ปี  \n",
              "3                           NaN   3 ขายได้ ใช้ระยะเวลา 7 - 12 เดือน  \n",
              "4                           NaN   3 ขายได้ ใช้ระยะเวลา 7 - 12 เดือน  \n",
              "...                         ...                                 ...  \n",
              "1215                        NaN  2 ขายได้ยาก ใช้ระยะเวลามากว่า 1 ปี  \n",
              "1216                        NaN   3 ขายได้ ใช้ระยะเวลา 7 - 12 เดือน  \n",
              "1217                        NaN   3 ขายได้ ใช้ระยะเวลา 7 - 12 เดือน  \n",
              "1218                        NaN   3 ขายได้ ใช้ระยะเวลา 7 - 12 เดือน  \n",
              "1219                        NaN   3 ขายได้ ใช้ระยะเวลา 7 - 12 เดือน  \n",
              "\n",
              "[1220 rows x 9 columns]"
            ],
            "text/html": [
              "\n",
              "  <div id=\"df-eaeacb40-6b8b-4580-aca5-f4832eaae9c9\">\n",
              "    <div class=\"colab-df-container\">\n",
              "      <div>\n",
              "<style scoped>\n",
              "    .dataframe tbody tr th:only-of-type {\n",
              "        vertical-align: middle;\n",
              "    }\n",
              "\n",
              "    .dataframe tbody tr th {\n",
              "        vertical-align: top;\n",
              "    }\n",
              "\n",
              "    .dataframe thead th {\n",
              "        text-align: right;\n",
              "    }\n",
              "</style>\n",
              "<table border=\"1\" class=\"dataframe\">\n",
              "  <thead>\n",
              "    <tr style=\"text-align: right;\">\n",
              "      <th></th>\n",
              "      <th>ID ผู้ประเมิน</th>\n",
              "      <th>post id</th>\n",
              "      <th>property_type</th>\n",
              "      <th>ความมั่นใจในการเมินราคาทรัพย์</th>\n",
              "      <th>ราคาทรัพย์</th>\n",
              "      <th>ประเมินราคาซื้อ-ขาย</th>\n",
              "      <th>ปัจจัยในการประเมินราคาซื้อ-ขาย</th>\n",
              "      <th>เหตุผลไม่มั่นใจราคาประเมิน</th>\n",
              "      <th>ให้คะแนนทรัพย์</th>\n",
              "    </tr>\n",
              "  </thead>\n",
              "  <tbody>\n",
              "    <tr>\n",
              "      <th>0</th>\n",
              "      <td>1</td>\n",
              "      <td>https://nayoo.co/khonkaen/posts/25</td>\n",
              "      <td>บ้านเดี่ยว</td>\n",
              "      <td>มั่นใจ</td>\n",
              "      <td>2890000</td>\n",
              "      <td>2500000.0</td>\n",
              "      <td>5,000-15,000</td>\n",
              "      <td>NaN</td>\n",
              "      <td>3 ขายได้ ใช้ระยะเวลา 7 - 12 เดือน</td>\n",
              "    </tr>\n",
              "    <tr>\n",
              "      <th>1</th>\n",
              "      <td>2</td>\n",
              "      <td>https://nayoo.co/khonkaen/posts/25</td>\n",
              "      <td>บ้านเดี่ยว</td>\n",
              "      <td>มั่นใจ</td>\n",
              "      <td>2890000</td>\n",
              "      <td>2700000.0</td>\n",
              "      <td>โครงการนี้ราคาเสนอขาย 2,500,000-3,000,000 บาท/...</td>\n",
              "      <td>NaN</td>\n",
              "      <td>4 ขายได้ ใช้ระยะเวลา 4 - 6 เดือน</td>\n",
              "    </tr>\n",
              "    <tr>\n",
              "      <th>2</th>\n",
              "      <td>1</td>\n",
              "      <td>https://nayoo.co/khonkaen/posts/33</td>\n",
              "      <td>บ้านเดี่ยว</td>\n",
              "      <td>มั่นใจ</td>\n",
              "      <td>2600000</td>\n",
              "      <td>2200000.0</td>\n",
              "      <td>5,000-15,000</td>\n",
              "      <td>NaN</td>\n",
              "      <td>2 ขายได้ยาก ใช้ระยะเวลามากว่า 1 ปี</td>\n",
              "    </tr>\n",
              "    <tr>\n",
              "      <th>3</th>\n",
              "      <td>2</td>\n",
              "      <td>https://nayoo.co/khonkaen/posts/33</td>\n",
              "      <td>บ้านเดี่ยว</td>\n",
              "      <td>มั่นใจ</td>\n",
              "      <td>2600000</td>\n",
              "      <td>2400000.0</td>\n",
              "      <td>ราคาเสนอขายประมาณ 2,200,000 - 2,500,000 บาท/หลัง</td>\n",
              "      <td>NaN</td>\n",
              "      <td>3 ขายได้ ใช้ระยะเวลา 7 - 12 เดือน</td>\n",
              "    </tr>\n",
              "    <tr>\n",
              "      <th>4</th>\n",
              "      <td>1</td>\n",
              "      <td>https://nayoo.co/khonkaen/posts/495</td>\n",
              "      <td>บ้านเดี่ยว</td>\n",
              "      <td>มั่นใจ</td>\n",
              "      <td>6050000</td>\n",
              "      <td>5000000.0</td>\n",
              "      <td>5,000-15,000</td>\n",
              "      <td>NaN</td>\n",
              "      <td>3 ขายได้ ใช้ระยะเวลา 7 - 12 เดือน</td>\n",
              "    </tr>\n",
              "    <tr>\n",
              "      <th>...</th>\n",
              "      <td>...</td>\n",
              "      <td>...</td>\n",
              "      <td>...</td>\n",
              "      <td>...</td>\n",
              "      <td>...</td>\n",
              "      <td>...</td>\n",
              "      <td>...</td>\n",
              "      <td>...</td>\n",
              "      <td>...</td>\n",
              "    </tr>\n",
              "    <tr>\n",
              "      <th>1215</th>\n",
              "      <td>1</td>\n",
              "      <td>https://nayoo.co/khonkaen/posts/6257</td>\n",
              "      <td>บ้านเดี่ยว</td>\n",
              "      <td>มั่นใจ</td>\n",
              "      <td>295000</td>\n",
              "      <td>500000.0</td>\n",
              "      <td>เพื่อป้องกันปัญหาที่อาจเกิดขึ้นภายหลังหากต้องม...</td>\n",
              "      <td>NaN</td>\n",
              "      <td>2 ขายได้ยาก ใช้ระยะเวลามากว่า 1 ปี</td>\n",
              "    </tr>\n",
              "    <tr>\n",
              "      <th>1216</th>\n",
              "      <td>2</td>\n",
              "      <td>https://nayoo.co/khonkaen/posts/6258</td>\n",
              "      <td>บ้านเดี่ยว</td>\n",
              "      <td>มั่นใจ</td>\n",
              "      <td>615000</td>\n",
              "      <td>500000.0</td>\n",
              "      <td>ราคาเสนอขาย 3-5 พันบาท/ตารางวา</td>\n",
              "      <td>NaN</td>\n",
              "      <td>3 ขายได้ ใช้ระยะเวลา 7 - 12 เดือน</td>\n",
              "    </tr>\n",
              "    <tr>\n",
              "      <th>1217</th>\n",
              "      <td>1</td>\n",
              "      <td>https://nayoo.co/khonkaen/posts/6258</td>\n",
              "      <td>บ้านเดี่ยว</td>\n",
              "      <td>มั่นใจ</td>\n",
              "      <td>615000</td>\n",
              "      <td>600000.0</td>\n",
              "      <td>เพื่อป้องกันปัญหาที่อาจเกิดขึ้นภายหลังหากต้องม...</td>\n",
              "      <td>NaN</td>\n",
              "      <td>3 ขายได้ ใช้ระยะเวลา 7 - 12 เดือน</td>\n",
              "    </tr>\n",
              "    <tr>\n",
              "      <th>1218</th>\n",
              "      <td>2</td>\n",
              "      <td>https://nayoo.co/khonkaen/posts/6260</td>\n",
              "      <td>บ้านเดี่ยว</td>\n",
              "      <td>มั่นใจ</td>\n",
              "      <td>620000</td>\n",
              "      <td>700000.0</td>\n",
              "      <td>ราคาเสนอขาย 4-5 พันบาท/ตารางวา</td>\n",
              "      <td>NaN</td>\n",
              "      <td>3 ขายได้ ใช้ระยะเวลา 7 - 12 เดือน</td>\n",
              "    </tr>\n",
              "    <tr>\n",
              "      <th>1219</th>\n",
              "      <td>1</td>\n",
              "      <td>https://nayoo.co/khonkaen/posts/6260</td>\n",
              "      <td>บ้านเดี่ยว</td>\n",
              "      <td>มั่นใจ</td>\n",
              "      <td>620000</td>\n",
              "      <td>750000.0</td>\n",
              "      <td>เพื่อป้องกันปัญหาที่อาจเกิดขึ้นภายหลังหากต้องม...</td>\n",
              "      <td>NaN</td>\n",
              "      <td>3 ขายได้ ใช้ระยะเวลา 7 - 12 เดือน</td>\n",
              "    </tr>\n",
              "  </tbody>\n",
              "</table>\n",
              "<p>1220 rows × 9 columns</p>\n",
              "</div>\n",
              "      <button class=\"colab-df-convert\" onclick=\"convertToInteractive('df-eaeacb40-6b8b-4580-aca5-f4832eaae9c9')\"\n",
              "              title=\"Convert this dataframe to an interactive table.\"\n",
              "              style=\"display:none;\">\n",
              "        \n",
              "  <svg xmlns=\"http://www.w3.org/2000/svg\" height=\"24px\"viewBox=\"0 0 24 24\"\n",
              "       width=\"24px\">\n",
              "    <path d=\"M0 0h24v24H0V0z\" fill=\"none\"/>\n",
              "    <path d=\"M18.56 5.44l.94 2.06.94-2.06 2.06-.94-2.06-.94-.94-2.06-.94 2.06-2.06.94zm-11 1L8.5 8.5l.94-2.06 2.06-.94-2.06-.94L8.5 2.5l-.94 2.06-2.06.94zm10 10l.94 2.06.94-2.06 2.06-.94-2.06-.94-.94-2.06-.94 2.06-2.06.94z\"/><path d=\"M17.41 7.96l-1.37-1.37c-.4-.4-.92-.59-1.43-.59-.52 0-1.04.2-1.43.59L10.3 9.45l-7.72 7.72c-.78.78-.78 2.05 0 2.83L4 21.41c.39.39.9.59 1.41.59.51 0 1.02-.2 1.41-.59l7.78-7.78 2.81-2.81c.8-.78.8-2.07 0-2.86zM5.41 20L4 18.59l7.72-7.72 1.47 1.35L5.41 20z\"/>\n",
              "  </svg>\n",
              "      </button>\n",
              "      \n",
              "  <style>\n",
              "    .colab-df-container {\n",
              "      display:flex;\n",
              "      flex-wrap:wrap;\n",
              "      gap: 12px;\n",
              "    }\n",
              "\n",
              "    .colab-df-convert {\n",
              "      background-color: #E8F0FE;\n",
              "      border: none;\n",
              "      border-radius: 50%;\n",
              "      cursor: pointer;\n",
              "      display: none;\n",
              "      fill: #1967D2;\n",
              "      height: 32px;\n",
              "      padding: 0 0 0 0;\n",
              "      width: 32px;\n",
              "    }\n",
              "\n",
              "    .colab-df-convert:hover {\n",
              "      background-color: #E2EBFA;\n",
              "      box-shadow: 0px 1px 2px rgba(60, 64, 67, 0.3), 0px 1px 3px 1px rgba(60, 64, 67, 0.15);\n",
              "      fill: #174EA6;\n",
              "    }\n",
              "\n",
              "    [theme=dark] .colab-df-convert {\n",
              "      background-color: #3B4455;\n",
              "      fill: #D2E3FC;\n",
              "    }\n",
              "\n",
              "    [theme=dark] .colab-df-convert:hover {\n",
              "      background-color: #434B5C;\n",
              "      box-shadow: 0px 1px 3px 1px rgba(0, 0, 0, 0.15);\n",
              "      filter: drop-shadow(0px 1px 2px rgba(0, 0, 0, 0.3));\n",
              "      fill: #FFFFFF;\n",
              "    }\n",
              "  </style>\n",
              "\n",
              "      <script>\n",
              "        const buttonEl =\n",
              "          document.querySelector('#df-eaeacb40-6b8b-4580-aca5-f4832eaae9c9 button.colab-df-convert');\n",
              "        buttonEl.style.display =\n",
              "          google.colab.kernel.accessAllowed ? 'block' : 'none';\n",
              "\n",
              "        async function convertToInteractive(key) {\n",
              "          const element = document.querySelector('#df-eaeacb40-6b8b-4580-aca5-f4832eaae9c9');\n",
              "          const dataTable =\n",
              "            await google.colab.kernel.invokeFunction('convertToInteractive',\n",
              "                                                     [key], {});\n",
              "          if (!dataTable) return;\n",
              "\n",
              "          const docLinkHtml = 'Like what you see? Visit the ' +\n",
              "            '<a target=\"_blank\" href=https://colab.research.google.com/notebooks/data_table.ipynb>data table notebook</a>'\n",
              "            + ' to learn more about interactive tables.';\n",
              "          element.innerHTML = '';\n",
              "          dataTable['output_type'] = 'display_data';\n",
              "          await google.colab.output.renderOutput(dataTable, element);\n",
              "          const docLink = document.createElement('div');\n",
              "          docLink.innerHTML = docLinkHtml;\n",
              "          element.appendChild(docLink);\n",
              "        }\n",
              "      </script>\n",
              "    </div>\n",
              "  </div>\n",
              "  "
            ]
          },
          "metadata": {},
          "execution_count": 108
        }
      ]
    },
    {
      "cell_type": "code",
      "source": [
        "house['ID ผู้ประเมิน'].value_counts()"
      ],
      "metadata": {
        "id": "4jEXpSTyiU-E",
        "outputId": "24c6b124-de92-49f0-f729-05741e81ccdb",
        "colab": {
          "base_uri": "https://localhost:8080/"
        }
      },
      "execution_count": 4,
      "outputs": [
        {
          "output_type": "execute_result",
          "data": {
            "text/plain": [
              "1    610\n",
              "2    610\n",
              "Name: ID ผู้ประเมิน, dtype: int64"
            ]
          },
          "metadata": {},
          "execution_count": 4
        }
      ]
    },
    {
      "cell_type": "code",
      "source": [
        "est1 = house[house['ID ผู้ประเมิน']==1]"
      ],
      "metadata": {
        "id": "_NeHjeewZorr"
      },
      "execution_count": 5,
      "outputs": []
    },
    {
      "cell_type": "code",
      "source": [
        "data01 = est1[['ID ผู้ประเมิน','ความมั่นใจในการเมินราคาทรัพย์','ประเมินราคาซื้อ-ขาย','ให้คะแนนทรัพย์']]\n",
        "data01.head(5)"
      ],
      "metadata": {
        "colab": {
          "base_uri": "https://localhost:8080/",
          "height": 206
        },
        "outputId": "5416db76-d38a-45f6-d9e3-f892c61dfeb6",
        "id": "QkYVCMghZors"
      },
      "execution_count": 6,
      "outputs": [
        {
          "output_type": "execute_result",
          "data": {
            "text/plain": [
              "   ID ผู้ประเมิน ความมั่นใจในการเมินราคาทรัพย์  ประเมินราคาซื้อ-ขาย  \\\n",
              "0              1                        มั่นใจ            2500000.0   \n",
              "2              1                        มั่นใจ            2200000.0   \n",
              "4              1                        มั่นใจ            5000000.0   \n",
              "6              1                        มั่นใจ            3500000.0   \n",
              "8              1                        มั่นใจ            2500000.0   \n",
              "\n",
              "                       ให้คะแนนทรัพย์  \n",
              "0   3 ขายได้ ใช้ระยะเวลา 7 - 12 เดือน  \n",
              "2  2 ขายได้ยาก ใช้ระยะเวลามากว่า 1 ปี  \n",
              "4   3 ขายได้ ใช้ระยะเวลา 7 - 12 เดือน  \n",
              "6  2 ขายได้ยาก ใช้ระยะเวลามากว่า 1 ปี  \n",
              "8   3 ขายได้ ใช้ระยะเวลา 7 - 12 เดือน  "
            ],
            "text/html": [
              "\n",
              "  <div id=\"df-99a94b02-57ab-4208-88f9-f56f28aa3a05\">\n",
              "    <div class=\"colab-df-container\">\n",
              "      <div>\n",
              "<style scoped>\n",
              "    .dataframe tbody tr th:only-of-type {\n",
              "        vertical-align: middle;\n",
              "    }\n",
              "\n",
              "    .dataframe tbody tr th {\n",
              "        vertical-align: top;\n",
              "    }\n",
              "\n",
              "    .dataframe thead th {\n",
              "        text-align: right;\n",
              "    }\n",
              "</style>\n",
              "<table border=\"1\" class=\"dataframe\">\n",
              "  <thead>\n",
              "    <tr style=\"text-align: right;\">\n",
              "      <th></th>\n",
              "      <th>ID ผู้ประเมิน</th>\n",
              "      <th>ความมั่นใจในการเมินราคาทรัพย์</th>\n",
              "      <th>ประเมินราคาซื้อ-ขาย</th>\n",
              "      <th>ให้คะแนนทรัพย์</th>\n",
              "    </tr>\n",
              "  </thead>\n",
              "  <tbody>\n",
              "    <tr>\n",
              "      <th>0</th>\n",
              "      <td>1</td>\n",
              "      <td>มั่นใจ</td>\n",
              "      <td>2500000.0</td>\n",
              "      <td>3 ขายได้ ใช้ระยะเวลา 7 - 12 เดือน</td>\n",
              "    </tr>\n",
              "    <tr>\n",
              "      <th>2</th>\n",
              "      <td>1</td>\n",
              "      <td>มั่นใจ</td>\n",
              "      <td>2200000.0</td>\n",
              "      <td>2 ขายได้ยาก ใช้ระยะเวลามากว่า 1 ปี</td>\n",
              "    </tr>\n",
              "    <tr>\n",
              "      <th>4</th>\n",
              "      <td>1</td>\n",
              "      <td>มั่นใจ</td>\n",
              "      <td>5000000.0</td>\n",
              "      <td>3 ขายได้ ใช้ระยะเวลา 7 - 12 เดือน</td>\n",
              "    </tr>\n",
              "    <tr>\n",
              "      <th>6</th>\n",
              "      <td>1</td>\n",
              "      <td>มั่นใจ</td>\n",
              "      <td>3500000.0</td>\n",
              "      <td>2 ขายได้ยาก ใช้ระยะเวลามากว่า 1 ปี</td>\n",
              "    </tr>\n",
              "    <tr>\n",
              "      <th>8</th>\n",
              "      <td>1</td>\n",
              "      <td>มั่นใจ</td>\n",
              "      <td>2500000.0</td>\n",
              "      <td>3 ขายได้ ใช้ระยะเวลา 7 - 12 เดือน</td>\n",
              "    </tr>\n",
              "  </tbody>\n",
              "</table>\n",
              "</div>\n",
              "      <button class=\"colab-df-convert\" onclick=\"convertToInteractive('df-99a94b02-57ab-4208-88f9-f56f28aa3a05')\"\n",
              "              title=\"Convert this dataframe to an interactive table.\"\n",
              "              style=\"display:none;\">\n",
              "        \n",
              "  <svg xmlns=\"http://www.w3.org/2000/svg\" height=\"24px\"viewBox=\"0 0 24 24\"\n",
              "       width=\"24px\">\n",
              "    <path d=\"M0 0h24v24H0V0z\" fill=\"none\"/>\n",
              "    <path d=\"M18.56 5.44l.94 2.06.94-2.06 2.06-.94-2.06-.94-.94-2.06-.94 2.06-2.06.94zm-11 1L8.5 8.5l.94-2.06 2.06-.94-2.06-.94L8.5 2.5l-.94 2.06-2.06.94zm10 10l.94 2.06.94-2.06 2.06-.94-2.06-.94-.94-2.06-.94 2.06-2.06.94z\"/><path d=\"M17.41 7.96l-1.37-1.37c-.4-.4-.92-.59-1.43-.59-.52 0-1.04.2-1.43.59L10.3 9.45l-7.72 7.72c-.78.78-.78 2.05 0 2.83L4 21.41c.39.39.9.59 1.41.59.51 0 1.02-.2 1.41-.59l7.78-7.78 2.81-2.81c.8-.78.8-2.07 0-2.86zM5.41 20L4 18.59l7.72-7.72 1.47 1.35L5.41 20z\"/>\n",
              "  </svg>\n",
              "      </button>\n",
              "      \n",
              "  <style>\n",
              "    .colab-df-container {\n",
              "      display:flex;\n",
              "      flex-wrap:wrap;\n",
              "      gap: 12px;\n",
              "    }\n",
              "\n",
              "    .colab-df-convert {\n",
              "      background-color: #E8F0FE;\n",
              "      border: none;\n",
              "      border-radius: 50%;\n",
              "      cursor: pointer;\n",
              "      display: none;\n",
              "      fill: #1967D2;\n",
              "      height: 32px;\n",
              "      padding: 0 0 0 0;\n",
              "      width: 32px;\n",
              "    }\n",
              "\n",
              "    .colab-df-convert:hover {\n",
              "      background-color: #E2EBFA;\n",
              "      box-shadow: 0px 1px 2px rgba(60, 64, 67, 0.3), 0px 1px 3px 1px rgba(60, 64, 67, 0.15);\n",
              "      fill: #174EA6;\n",
              "    }\n",
              "\n",
              "    [theme=dark] .colab-df-convert {\n",
              "      background-color: #3B4455;\n",
              "      fill: #D2E3FC;\n",
              "    }\n",
              "\n",
              "    [theme=dark] .colab-df-convert:hover {\n",
              "      background-color: #434B5C;\n",
              "      box-shadow: 0px 1px 3px 1px rgba(0, 0, 0, 0.15);\n",
              "      filter: drop-shadow(0px 1px 2px rgba(0, 0, 0, 0.3));\n",
              "      fill: #FFFFFF;\n",
              "    }\n",
              "  </style>\n",
              "\n",
              "      <script>\n",
              "        const buttonEl =\n",
              "          document.querySelector('#df-99a94b02-57ab-4208-88f9-f56f28aa3a05 button.colab-df-convert');\n",
              "        buttonEl.style.display =\n",
              "          google.colab.kernel.accessAllowed ? 'block' : 'none';\n",
              "\n",
              "        async function convertToInteractive(key) {\n",
              "          const element = document.querySelector('#df-99a94b02-57ab-4208-88f9-f56f28aa3a05');\n",
              "          const dataTable =\n",
              "            await google.colab.kernel.invokeFunction('convertToInteractive',\n",
              "                                                     [key], {});\n",
              "          if (!dataTable) return;\n",
              "\n",
              "          const docLinkHtml = 'Like what you see? Visit the ' +\n",
              "            '<a target=\"_blank\" href=https://colab.research.google.com/notebooks/data_table.ipynb>data table notebook</a>'\n",
              "            + ' to learn more about interactive tables.';\n",
              "          element.innerHTML = '';\n",
              "          dataTable['output_type'] = 'display_data';\n",
              "          await google.colab.output.renderOutput(dataTable, element);\n",
              "          const docLink = document.createElement('div');\n",
              "          docLink.innerHTML = docLinkHtml;\n",
              "          element.appendChild(docLink);\n",
              "        }\n",
              "      </script>\n",
              "    </div>\n",
              "  </div>\n",
              "  "
            ]
          },
          "metadata": {},
          "execution_count": 6
        }
      ]
    },
    {
      "cell_type": "code",
      "source": [
        "est1.describe()"
      ],
      "metadata": {
        "colab": {
          "base_uri": "https://localhost:8080/",
          "height": 300
        },
        "outputId": "b333c949-e0a1-42ef-b22d-6876087d3580",
        "id": "4zGl5Ct7Zors"
      },
      "execution_count": 7,
      "outputs": [
        {
          "output_type": "execute_result",
          "data": {
            "text/plain": [
              "       ID ผู้ประเมิน    ราคาทรัพย์  ประเมินราคาซื้อ-ขาย\n",
              "count          610.0  6.100000e+02         6.090000e+02\n",
              "mean             1.0  3.382782e+06         3.240345e+06\n",
              "std              0.0  5.000758e+06         4.692873e+06\n",
              "min              1.0  2.600000e+05         2.200000e+05\n",
              "25%              1.0  1.492500e+06         1.500000e+06\n",
              "50%              1.0  2.540000e+06         2.500000e+06\n",
              "75%              1.0  4.000000e+06         4.000000e+06\n",
              "max              1.0  1.039350e+08         1.000000e+08"
            ],
            "text/html": [
              "\n",
              "  <div id=\"df-b5788912-0f43-48a6-8529-19c1f33f85dc\">\n",
              "    <div class=\"colab-df-container\">\n",
              "      <div>\n",
              "<style scoped>\n",
              "    .dataframe tbody tr th:only-of-type {\n",
              "        vertical-align: middle;\n",
              "    }\n",
              "\n",
              "    .dataframe tbody tr th {\n",
              "        vertical-align: top;\n",
              "    }\n",
              "\n",
              "    .dataframe thead th {\n",
              "        text-align: right;\n",
              "    }\n",
              "</style>\n",
              "<table border=\"1\" class=\"dataframe\">\n",
              "  <thead>\n",
              "    <tr style=\"text-align: right;\">\n",
              "      <th></th>\n",
              "      <th>ID ผู้ประเมิน</th>\n",
              "      <th>ราคาทรัพย์</th>\n",
              "      <th>ประเมินราคาซื้อ-ขาย</th>\n",
              "    </tr>\n",
              "  </thead>\n",
              "  <tbody>\n",
              "    <tr>\n",
              "      <th>count</th>\n",
              "      <td>610.0</td>\n",
              "      <td>6.100000e+02</td>\n",
              "      <td>6.090000e+02</td>\n",
              "    </tr>\n",
              "    <tr>\n",
              "      <th>mean</th>\n",
              "      <td>1.0</td>\n",
              "      <td>3.382782e+06</td>\n",
              "      <td>3.240345e+06</td>\n",
              "    </tr>\n",
              "    <tr>\n",
              "      <th>std</th>\n",
              "      <td>0.0</td>\n",
              "      <td>5.000758e+06</td>\n",
              "      <td>4.692873e+06</td>\n",
              "    </tr>\n",
              "    <tr>\n",
              "      <th>min</th>\n",
              "      <td>1.0</td>\n",
              "      <td>2.600000e+05</td>\n",
              "      <td>2.200000e+05</td>\n",
              "    </tr>\n",
              "    <tr>\n",
              "      <th>25%</th>\n",
              "      <td>1.0</td>\n",
              "      <td>1.492500e+06</td>\n",
              "      <td>1.500000e+06</td>\n",
              "    </tr>\n",
              "    <tr>\n",
              "      <th>50%</th>\n",
              "      <td>1.0</td>\n",
              "      <td>2.540000e+06</td>\n",
              "      <td>2.500000e+06</td>\n",
              "    </tr>\n",
              "    <tr>\n",
              "      <th>75%</th>\n",
              "      <td>1.0</td>\n",
              "      <td>4.000000e+06</td>\n",
              "      <td>4.000000e+06</td>\n",
              "    </tr>\n",
              "    <tr>\n",
              "      <th>max</th>\n",
              "      <td>1.0</td>\n",
              "      <td>1.039350e+08</td>\n",
              "      <td>1.000000e+08</td>\n",
              "    </tr>\n",
              "  </tbody>\n",
              "</table>\n",
              "</div>\n",
              "      <button class=\"colab-df-convert\" onclick=\"convertToInteractive('df-b5788912-0f43-48a6-8529-19c1f33f85dc')\"\n",
              "              title=\"Convert this dataframe to an interactive table.\"\n",
              "              style=\"display:none;\">\n",
              "        \n",
              "  <svg xmlns=\"http://www.w3.org/2000/svg\" height=\"24px\"viewBox=\"0 0 24 24\"\n",
              "       width=\"24px\">\n",
              "    <path d=\"M0 0h24v24H0V0z\" fill=\"none\"/>\n",
              "    <path d=\"M18.56 5.44l.94 2.06.94-2.06 2.06-.94-2.06-.94-.94-2.06-.94 2.06-2.06.94zm-11 1L8.5 8.5l.94-2.06 2.06-.94-2.06-.94L8.5 2.5l-.94 2.06-2.06.94zm10 10l.94 2.06.94-2.06 2.06-.94-2.06-.94-.94-2.06-.94 2.06-2.06.94z\"/><path d=\"M17.41 7.96l-1.37-1.37c-.4-.4-.92-.59-1.43-.59-.52 0-1.04.2-1.43.59L10.3 9.45l-7.72 7.72c-.78.78-.78 2.05 0 2.83L4 21.41c.39.39.9.59 1.41.59.51 0 1.02-.2 1.41-.59l7.78-7.78 2.81-2.81c.8-.78.8-2.07 0-2.86zM5.41 20L4 18.59l7.72-7.72 1.47 1.35L5.41 20z\"/>\n",
              "  </svg>\n",
              "      </button>\n",
              "      \n",
              "  <style>\n",
              "    .colab-df-container {\n",
              "      display:flex;\n",
              "      flex-wrap:wrap;\n",
              "      gap: 12px;\n",
              "    }\n",
              "\n",
              "    .colab-df-convert {\n",
              "      background-color: #E8F0FE;\n",
              "      border: none;\n",
              "      border-radius: 50%;\n",
              "      cursor: pointer;\n",
              "      display: none;\n",
              "      fill: #1967D2;\n",
              "      height: 32px;\n",
              "      padding: 0 0 0 0;\n",
              "      width: 32px;\n",
              "    }\n",
              "\n",
              "    .colab-df-convert:hover {\n",
              "      background-color: #E2EBFA;\n",
              "      box-shadow: 0px 1px 2px rgba(60, 64, 67, 0.3), 0px 1px 3px 1px rgba(60, 64, 67, 0.15);\n",
              "      fill: #174EA6;\n",
              "    }\n",
              "\n",
              "    [theme=dark] .colab-df-convert {\n",
              "      background-color: #3B4455;\n",
              "      fill: #D2E3FC;\n",
              "    }\n",
              "\n",
              "    [theme=dark] .colab-df-convert:hover {\n",
              "      background-color: #434B5C;\n",
              "      box-shadow: 0px 1px 3px 1px rgba(0, 0, 0, 0.15);\n",
              "      filter: drop-shadow(0px 1px 2px rgba(0, 0, 0, 0.3));\n",
              "      fill: #FFFFFF;\n",
              "    }\n",
              "  </style>\n",
              "\n",
              "      <script>\n",
              "        const buttonEl =\n",
              "          document.querySelector('#df-b5788912-0f43-48a6-8529-19c1f33f85dc button.colab-df-convert');\n",
              "        buttonEl.style.display =\n",
              "          google.colab.kernel.accessAllowed ? 'block' : 'none';\n",
              "\n",
              "        async function convertToInteractive(key) {\n",
              "          const element = document.querySelector('#df-b5788912-0f43-48a6-8529-19c1f33f85dc');\n",
              "          const dataTable =\n",
              "            await google.colab.kernel.invokeFunction('convertToInteractive',\n",
              "                                                     [key], {});\n",
              "          if (!dataTable) return;\n",
              "\n",
              "          const docLinkHtml = 'Like what you see? Visit the ' +\n",
              "            '<a target=\"_blank\" href=https://colab.research.google.com/notebooks/data_table.ipynb>data table notebook</a>'\n",
              "            + ' to learn more about interactive tables.';\n",
              "          element.innerHTML = '';\n",
              "          dataTable['output_type'] = 'display_data';\n",
              "          await google.colab.output.renderOutput(dataTable, element);\n",
              "          const docLink = document.createElement('div');\n",
              "          docLink.innerHTML = docLinkHtml;\n",
              "          element.appendChild(docLink);\n",
              "        }\n",
              "      </script>\n",
              "    </div>\n",
              "  </div>\n",
              "  "
            ]
          },
          "metadata": {},
          "execution_count": 7
        }
      ]
    },
    {
      "cell_type": "code",
      "source": [
        "est1['ให้คะแนนทรัพย์'].value_counts()"
      ],
      "metadata": {
        "colab": {
          "base_uri": "https://localhost:8080/"
        },
        "outputId": "ce93b1d7-f9e6-44e2-e8e1-58adefeb01e0",
        "id": "9l8COxv_Zort"
      },
      "execution_count": 8,
      "outputs": [
        {
          "output_type": "execute_result",
          "data": {
            "text/plain": [
              "3 ขายได้ ใช้ระยะเวลา 7 - 12 เดือน     476\n",
              "2 ขายได้ยาก ใช้ระยะเวลามากว่า 1 ปี    126\n",
              "4 ขายได้ ใช้ระยะเวลา 4 - 6 เดือน        6\n",
              "1 ขายไม่ได้แน่นอน                       2\n",
              "Name: ให้คะแนนทรัพย์, dtype: int64"
            ]
          },
          "metadata": {},
          "execution_count": 8
        }
      ]
    },
    {
      "cell_type": "code",
      "source": [
        "est1['ความมั่นใจในการเมินราคาทรัพย์'].value_counts()"
      ],
      "metadata": {
        "colab": {
          "base_uri": "https://localhost:8080/"
        },
        "outputId": "79238777-23a9-4ce2-9a5a-28bd88d48f5a",
        "id": "AjGi-V7rZort"
      },
      "execution_count": 9,
      "outputs": [
        {
          "output_type": "execute_result",
          "data": {
            "text/plain": [
              "มั่นใจ    610\n",
              "Name: ความมั่นใจในการเมินราคาทรัพย์, dtype: int64"
            ]
          },
          "metadata": {},
          "execution_count": 9
        }
      ]
    },
    {
      "cell_type": "code",
      "source": [
        "est2 = house[house['ID ผู้ประเมิน']==2]"
      ],
      "metadata": {
        "id": "9BTVWrpOZort"
      },
      "execution_count": 10,
      "outputs": []
    },
    {
      "cell_type": "code",
      "source": [
        "data02 =est2[['ID ผู้ประเมิน','ความมั่นใจในการเมินราคาทรัพย์','ประเมินราคาซื้อ-ขาย','ให้คะแนนทรัพย์']]\n",
        "data02.head(5)"
      ],
      "metadata": {
        "colab": {
          "base_uri": "https://localhost:8080/",
          "height": 206
        },
        "outputId": "a275eedc-079a-400c-aea9-d8c1288be353",
        "id": "nLOySJB9Zort"
      },
      "execution_count": 11,
      "outputs": [
        {
          "output_type": "execute_result",
          "data": {
            "text/plain": [
              "   ID ผู้ประเมิน ความมั่นใจในการเมินราคาทรัพย์  ประเมินราคาซื้อ-ขาย  \\\n",
              "1              2                        มั่นใจ            2700000.0   \n",
              "3              2                        มั่นใจ            2400000.0   \n",
              "5              2                        มั่นใจ            9000000.0   \n",
              "7              2                        มั่นใจ            3700000.0   \n",
              "9              2                        มั่นใจ            2500000.0   \n",
              "\n",
              "                      ให้คะแนนทรัพย์  \n",
              "1   4 ขายได้ ใช้ระยะเวลา 4 - 6 เดือน  \n",
              "3  3 ขายได้ ใช้ระยะเวลา 7 - 12 เดือน  \n",
              "5  5 ขายง่าย ใช้ระยะเวลา 1 - 3 เดือน  \n",
              "7  3 ขายได้ ใช้ระยะเวลา 7 - 12 เดือน  \n",
              "9  3 ขายได้ ใช้ระยะเวลา 7 - 12 เดือน  "
            ],
            "text/html": [
              "\n",
              "  <div id=\"df-f0f20c49-35a0-47be-99da-f5e447a0e36f\">\n",
              "    <div class=\"colab-df-container\">\n",
              "      <div>\n",
              "<style scoped>\n",
              "    .dataframe tbody tr th:only-of-type {\n",
              "        vertical-align: middle;\n",
              "    }\n",
              "\n",
              "    .dataframe tbody tr th {\n",
              "        vertical-align: top;\n",
              "    }\n",
              "\n",
              "    .dataframe thead th {\n",
              "        text-align: right;\n",
              "    }\n",
              "</style>\n",
              "<table border=\"1\" class=\"dataframe\">\n",
              "  <thead>\n",
              "    <tr style=\"text-align: right;\">\n",
              "      <th></th>\n",
              "      <th>ID ผู้ประเมิน</th>\n",
              "      <th>ความมั่นใจในการเมินราคาทรัพย์</th>\n",
              "      <th>ประเมินราคาซื้อ-ขาย</th>\n",
              "      <th>ให้คะแนนทรัพย์</th>\n",
              "    </tr>\n",
              "  </thead>\n",
              "  <tbody>\n",
              "    <tr>\n",
              "      <th>1</th>\n",
              "      <td>2</td>\n",
              "      <td>มั่นใจ</td>\n",
              "      <td>2700000.0</td>\n",
              "      <td>4 ขายได้ ใช้ระยะเวลา 4 - 6 เดือน</td>\n",
              "    </tr>\n",
              "    <tr>\n",
              "      <th>3</th>\n",
              "      <td>2</td>\n",
              "      <td>มั่นใจ</td>\n",
              "      <td>2400000.0</td>\n",
              "      <td>3 ขายได้ ใช้ระยะเวลา 7 - 12 เดือน</td>\n",
              "    </tr>\n",
              "    <tr>\n",
              "      <th>5</th>\n",
              "      <td>2</td>\n",
              "      <td>มั่นใจ</td>\n",
              "      <td>9000000.0</td>\n",
              "      <td>5 ขายง่าย ใช้ระยะเวลา 1 - 3 เดือน</td>\n",
              "    </tr>\n",
              "    <tr>\n",
              "      <th>7</th>\n",
              "      <td>2</td>\n",
              "      <td>มั่นใจ</td>\n",
              "      <td>3700000.0</td>\n",
              "      <td>3 ขายได้ ใช้ระยะเวลา 7 - 12 เดือน</td>\n",
              "    </tr>\n",
              "    <tr>\n",
              "      <th>9</th>\n",
              "      <td>2</td>\n",
              "      <td>มั่นใจ</td>\n",
              "      <td>2500000.0</td>\n",
              "      <td>3 ขายได้ ใช้ระยะเวลา 7 - 12 เดือน</td>\n",
              "    </tr>\n",
              "  </tbody>\n",
              "</table>\n",
              "</div>\n",
              "      <button class=\"colab-df-convert\" onclick=\"convertToInteractive('df-f0f20c49-35a0-47be-99da-f5e447a0e36f')\"\n",
              "              title=\"Convert this dataframe to an interactive table.\"\n",
              "              style=\"display:none;\">\n",
              "        \n",
              "  <svg xmlns=\"http://www.w3.org/2000/svg\" height=\"24px\"viewBox=\"0 0 24 24\"\n",
              "       width=\"24px\">\n",
              "    <path d=\"M0 0h24v24H0V0z\" fill=\"none\"/>\n",
              "    <path d=\"M18.56 5.44l.94 2.06.94-2.06 2.06-.94-2.06-.94-.94-2.06-.94 2.06-2.06.94zm-11 1L8.5 8.5l.94-2.06 2.06-.94-2.06-.94L8.5 2.5l-.94 2.06-2.06.94zm10 10l.94 2.06.94-2.06 2.06-.94-2.06-.94-.94-2.06-.94 2.06-2.06.94z\"/><path d=\"M17.41 7.96l-1.37-1.37c-.4-.4-.92-.59-1.43-.59-.52 0-1.04.2-1.43.59L10.3 9.45l-7.72 7.72c-.78.78-.78 2.05 0 2.83L4 21.41c.39.39.9.59 1.41.59.51 0 1.02-.2 1.41-.59l7.78-7.78 2.81-2.81c.8-.78.8-2.07 0-2.86zM5.41 20L4 18.59l7.72-7.72 1.47 1.35L5.41 20z\"/>\n",
              "  </svg>\n",
              "      </button>\n",
              "      \n",
              "  <style>\n",
              "    .colab-df-container {\n",
              "      display:flex;\n",
              "      flex-wrap:wrap;\n",
              "      gap: 12px;\n",
              "    }\n",
              "\n",
              "    .colab-df-convert {\n",
              "      background-color: #E8F0FE;\n",
              "      border: none;\n",
              "      border-radius: 50%;\n",
              "      cursor: pointer;\n",
              "      display: none;\n",
              "      fill: #1967D2;\n",
              "      height: 32px;\n",
              "      padding: 0 0 0 0;\n",
              "      width: 32px;\n",
              "    }\n",
              "\n",
              "    .colab-df-convert:hover {\n",
              "      background-color: #E2EBFA;\n",
              "      box-shadow: 0px 1px 2px rgba(60, 64, 67, 0.3), 0px 1px 3px 1px rgba(60, 64, 67, 0.15);\n",
              "      fill: #174EA6;\n",
              "    }\n",
              "\n",
              "    [theme=dark] .colab-df-convert {\n",
              "      background-color: #3B4455;\n",
              "      fill: #D2E3FC;\n",
              "    }\n",
              "\n",
              "    [theme=dark] .colab-df-convert:hover {\n",
              "      background-color: #434B5C;\n",
              "      box-shadow: 0px 1px 3px 1px rgba(0, 0, 0, 0.15);\n",
              "      filter: drop-shadow(0px 1px 2px rgba(0, 0, 0, 0.3));\n",
              "      fill: #FFFFFF;\n",
              "    }\n",
              "  </style>\n",
              "\n",
              "      <script>\n",
              "        const buttonEl =\n",
              "          document.querySelector('#df-f0f20c49-35a0-47be-99da-f5e447a0e36f button.colab-df-convert');\n",
              "        buttonEl.style.display =\n",
              "          google.colab.kernel.accessAllowed ? 'block' : 'none';\n",
              "\n",
              "        async function convertToInteractive(key) {\n",
              "          const element = document.querySelector('#df-f0f20c49-35a0-47be-99da-f5e447a0e36f');\n",
              "          const dataTable =\n",
              "            await google.colab.kernel.invokeFunction('convertToInteractive',\n",
              "                                                     [key], {});\n",
              "          if (!dataTable) return;\n",
              "\n",
              "          const docLinkHtml = 'Like what you see? Visit the ' +\n",
              "            '<a target=\"_blank\" href=https://colab.research.google.com/notebooks/data_table.ipynb>data table notebook</a>'\n",
              "            + ' to learn more about interactive tables.';\n",
              "          element.innerHTML = '';\n",
              "          dataTable['output_type'] = 'display_data';\n",
              "          await google.colab.output.renderOutput(dataTable, element);\n",
              "          const docLink = document.createElement('div');\n",
              "          docLink.innerHTML = docLinkHtml;\n",
              "          element.appendChild(docLink);\n",
              "        }\n",
              "      </script>\n",
              "    </div>\n",
              "  </div>\n",
              "  "
            ]
          },
          "metadata": {},
          "execution_count": 11
        }
      ]
    },
    {
      "cell_type": "code",
      "source": [
        "est2.describe()"
      ],
      "metadata": {
        "colab": {
          "base_uri": "https://localhost:8080/",
          "height": 300
        },
        "outputId": "d38ed460-7fe2-47aa-be93-9a5d44fb011a",
        "id": "JHmjo7kZZoru"
      },
      "execution_count": 12,
      "outputs": [
        {
          "output_type": "execute_result",
          "data": {
            "text/plain": [
              "       ID ผู้ประเมิน    ราคาทรัพย์  ประเมินราคาซื้อ-ขาย\n",
              "count          610.0  6.100000e+02         4.980000e+02\n",
              "mean             2.0  3.369097e+06         3.449197e+06\n",
              "std              0.0  4.975575e+06         4.381048e+06\n",
              "min              2.0  2.600000e+05         2.500000e+05\n",
              "25%              2.0  1.467500e+06         1.892500e+06\n",
              "50%              2.0  2.530000e+06         2.600000e+06\n",
              "75%              2.0  4.067500e+06         4.200000e+06\n",
              "max              2.0  1.039350e+08         8.000000e+07"
            ],
            "text/html": [
              "\n",
              "  <div id=\"df-3467d838-5ac7-4e7f-9c53-a992045b8764\">\n",
              "    <div class=\"colab-df-container\">\n",
              "      <div>\n",
              "<style scoped>\n",
              "    .dataframe tbody tr th:only-of-type {\n",
              "        vertical-align: middle;\n",
              "    }\n",
              "\n",
              "    .dataframe tbody tr th {\n",
              "        vertical-align: top;\n",
              "    }\n",
              "\n",
              "    .dataframe thead th {\n",
              "        text-align: right;\n",
              "    }\n",
              "</style>\n",
              "<table border=\"1\" class=\"dataframe\">\n",
              "  <thead>\n",
              "    <tr style=\"text-align: right;\">\n",
              "      <th></th>\n",
              "      <th>ID ผู้ประเมิน</th>\n",
              "      <th>ราคาทรัพย์</th>\n",
              "      <th>ประเมินราคาซื้อ-ขาย</th>\n",
              "    </tr>\n",
              "  </thead>\n",
              "  <tbody>\n",
              "    <tr>\n",
              "      <th>count</th>\n",
              "      <td>610.0</td>\n",
              "      <td>6.100000e+02</td>\n",
              "      <td>4.980000e+02</td>\n",
              "    </tr>\n",
              "    <tr>\n",
              "      <th>mean</th>\n",
              "      <td>2.0</td>\n",
              "      <td>3.369097e+06</td>\n",
              "      <td>3.449197e+06</td>\n",
              "    </tr>\n",
              "    <tr>\n",
              "      <th>std</th>\n",
              "      <td>0.0</td>\n",
              "      <td>4.975575e+06</td>\n",
              "      <td>4.381048e+06</td>\n",
              "    </tr>\n",
              "    <tr>\n",
              "      <th>min</th>\n",
              "      <td>2.0</td>\n",
              "      <td>2.600000e+05</td>\n",
              "      <td>2.500000e+05</td>\n",
              "    </tr>\n",
              "    <tr>\n",
              "      <th>25%</th>\n",
              "      <td>2.0</td>\n",
              "      <td>1.467500e+06</td>\n",
              "      <td>1.892500e+06</td>\n",
              "    </tr>\n",
              "    <tr>\n",
              "      <th>50%</th>\n",
              "      <td>2.0</td>\n",
              "      <td>2.530000e+06</td>\n",
              "      <td>2.600000e+06</td>\n",
              "    </tr>\n",
              "    <tr>\n",
              "      <th>75%</th>\n",
              "      <td>2.0</td>\n",
              "      <td>4.067500e+06</td>\n",
              "      <td>4.200000e+06</td>\n",
              "    </tr>\n",
              "    <tr>\n",
              "      <th>max</th>\n",
              "      <td>2.0</td>\n",
              "      <td>1.039350e+08</td>\n",
              "      <td>8.000000e+07</td>\n",
              "    </tr>\n",
              "  </tbody>\n",
              "</table>\n",
              "</div>\n",
              "      <button class=\"colab-df-convert\" onclick=\"convertToInteractive('df-3467d838-5ac7-4e7f-9c53-a992045b8764')\"\n",
              "              title=\"Convert this dataframe to an interactive table.\"\n",
              "              style=\"display:none;\">\n",
              "        \n",
              "  <svg xmlns=\"http://www.w3.org/2000/svg\" height=\"24px\"viewBox=\"0 0 24 24\"\n",
              "       width=\"24px\">\n",
              "    <path d=\"M0 0h24v24H0V0z\" fill=\"none\"/>\n",
              "    <path d=\"M18.56 5.44l.94 2.06.94-2.06 2.06-.94-2.06-.94-.94-2.06-.94 2.06-2.06.94zm-11 1L8.5 8.5l.94-2.06 2.06-.94-2.06-.94L8.5 2.5l-.94 2.06-2.06.94zm10 10l.94 2.06.94-2.06 2.06-.94-2.06-.94-.94-2.06-.94 2.06-2.06.94z\"/><path d=\"M17.41 7.96l-1.37-1.37c-.4-.4-.92-.59-1.43-.59-.52 0-1.04.2-1.43.59L10.3 9.45l-7.72 7.72c-.78.78-.78 2.05 0 2.83L4 21.41c.39.39.9.59 1.41.59.51 0 1.02-.2 1.41-.59l7.78-7.78 2.81-2.81c.8-.78.8-2.07 0-2.86zM5.41 20L4 18.59l7.72-7.72 1.47 1.35L5.41 20z\"/>\n",
              "  </svg>\n",
              "      </button>\n",
              "      \n",
              "  <style>\n",
              "    .colab-df-container {\n",
              "      display:flex;\n",
              "      flex-wrap:wrap;\n",
              "      gap: 12px;\n",
              "    }\n",
              "\n",
              "    .colab-df-convert {\n",
              "      background-color: #E8F0FE;\n",
              "      border: none;\n",
              "      border-radius: 50%;\n",
              "      cursor: pointer;\n",
              "      display: none;\n",
              "      fill: #1967D2;\n",
              "      height: 32px;\n",
              "      padding: 0 0 0 0;\n",
              "      width: 32px;\n",
              "    }\n",
              "\n",
              "    .colab-df-convert:hover {\n",
              "      background-color: #E2EBFA;\n",
              "      box-shadow: 0px 1px 2px rgba(60, 64, 67, 0.3), 0px 1px 3px 1px rgba(60, 64, 67, 0.15);\n",
              "      fill: #174EA6;\n",
              "    }\n",
              "\n",
              "    [theme=dark] .colab-df-convert {\n",
              "      background-color: #3B4455;\n",
              "      fill: #D2E3FC;\n",
              "    }\n",
              "\n",
              "    [theme=dark] .colab-df-convert:hover {\n",
              "      background-color: #434B5C;\n",
              "      box-shadow: 0px 1px 3px 1px rgba(0, 0, 0, 0.15);\n",
              "      filter: drop-shadow(0px 1px 2px rgba(0, 0, 0, 0.3));\n",
              "      fill: #FFFFFF;\n",
              "    }\n",
              "  </style>\n",
              "\n",
              "      <script>\n",
              "        const buttonEl =\n",
              "          document.querySelector('#df-3467d838-5ac7-4e7f-9c53-a992045b8764 button.colab-df-convert');\n",
              "        buttonEl.style.display =\n",
              "          google.colab.kernel.accessAllowed ? 'block' : 'none';\n",
              "\n",
              "        async function convertToInteractive(key) {\n",
              "          const element = document.querySelector('#df-3467d838-5ac7-4e7f-9c53-a992045b8764');\n",
              "          const dataTable =\n",
              "            await google.colab.kernel.invokeFunction('convertToInteractive',\n",
              "                                                     [key], {});\n",
              "          if (!dataTable) return;\n",
              "\n",
              "          const docLinkHtml = 'Like what you see? Visit the ' +\n",
              "            '<a target=\"_blank\" href=https://colab.research.google.com/notebooks/data_table.ipynb>data table notebook</a>'\n",
              "            + ' to learn more about interactive tables.';\n",
              "          element.innerHTML = '';\n",
              "          dataTable['output_type'] = 'display_data';\n",
              "          await google.colab.output.renderOutput(dataTable, element);\n",
              "          const docLink = document.createElement('div');\n",
              "          docLink.innerHTML = docLinkHtml;\n",
              "          element.appendChild(docLink);\n",
              "        }\n",
              "      </script>\n",
              "    </div>\n",
              "  </div>\n",
              "  "
            ]
          },
          "metadata": {},
          "execution_count": 12
        }
      ]
    },
    {
      "cell_type": "code",
      "source": [
        "est2['ให้คะแนนทรัพย์'].value_counts()"
      ],
      "metadata": {
        "colab": {
          "base_uri": "https://localhost:8080/"
        },
        "outputId": "e9391b47-b522-464c-9e79-f13f966129ef",
        "id": "m9i_tH_KZoru"
      },
      "execution_count": 13,
      "outputs": [
        {
          "output_type": "execute_result",
          "data": {
            "text/plain": [
              "3 ขายได้ ใช้ระยะเวลา 7 - 12 เดือน     367\n",
              "4 ขายได้ ใช้ระยะเวลา 4 - 6 เดือน      117\n",
              "2 ขายได้ยาก ใช้ระยะเวลามากว่า 1 ปี     14\n",
              "5 ขายง่าย ใช้ระยะเวลา 1 - 3 เดือน       1\n",
              "Name: ให้คะแนนทรัพย์, dtype: int64"
            ]
          },
          "metadata": {},
          "execution_count": 13
        }
      ]
    },
    {
      "cell_type": "code",
      "source": [
        "est2['ความมั่นใจในการเมินราคาทรัพย์'].value_counts()"
      ],
      "metadata": {
        "colab": {
          "base_uri": "https://localhost:8080/"
        },
        "outputId": "a6abba13-ca45-4332-9970-22161085782c",
        "id": "mHhKC-IlZoru"
      },
      "execution_count": 14,
      "outputs": [
        {
          "output_type": "execute_result",
          "data": {
            "text/plain": [
              "มั่นใจ       499\n",
              "ไม่มั่นใจ    111\n",
              "Name: ความมั่นใจในการเมินราคาทรัพย์, dtype: int64"
            ]
          },
          "metadata": {},
          "execution_count": 14
        }
      ]
    },
    {
      "cell_type": "markdown",
      "source": [
        "## Land"
      ],
      "metadata": {
        "id": "yiT6qzS_RozP"
      }
    },
    {
      "cell_type": "code",
      "source": [
        "land['ID ผู้ประเมิน'].value_counts() "
      ],
      "metadata": {
        "colab": {
          "base_uri": "https://localhost:8080/"
        },
        "id": "MCStgM3qaQEz",
        "outputId": "e752049a-a94c-488f-cda4-c23f1fddeebf"
      },
      "execution_count": 15,
      "outputs": [
        {
          "output_type": "execute_result",
          "data": {
            "text/plain": [
              "1    100\n",
              "2    100\n",
              "4     10\n",
              "Name: ID ผู้ประเมิน, dtype: int64"
            ]
          },
          "metadata": {},
          "execution_count": 15
        }
      ]
    },
    {
      "cell_type": "markdown",
      "source": [
        "ใช้แค่ ID 01 กับ 02"
      ],
      "metadata": {
        "id": "9WamxpLJgxRA"
      }
    },
    {
      "cell_type": "code",
      "source": [
        "est_1l = land[land['ID ผู้ประเมิน']==1]"
      ],
      "metadata": {
        "id": "hvhEyQprRrLr"
      },
      "execution_count": 16,
      "outputs": []
    },
    {
      "cell_type": "code",
      "source": [
        "est_2l = land[land['ID ผู้ประเมิน']==2]"
      ],
      "metadata": {
        "id": "XrYAiktrRrLr"
      },
      "execution_count": 17,
      "outputs": []
    },
    {
      "cell_type": "markdown",
      "source": [
        "## Condo"
      ],
      "metadata": {
        "id": "TmF3I1Bwp0KS"
      }
    },
    {
      "cell_type": "code",
      "source": [
        "condo['ID ผู้ประเมิน'].value_counts() "
      ],
      "metadata": {
        "colab": {
          "base_uri": "https://localhost:8080/"
        },
        "id": "MzXHVocyW9q7",
        "outputId": "8a714a35-eb98-4146-8a45-e549c1ea0cca"
      },
      "execution_count": 18,
      "outputs": [
        {
          "output_type": "execute_result",
          "data": {
            "text/plain": [
              "1    10\n",
              "Name: ID ผู้ประเมิน, dtype: int64"
            ]
          },
          "metadata": {},
          "execution_count": 18
        }
      ]
    },
    {
      "cell_type": "markdown",
      "source": [
        "ใน condo มีผู้ประเมินคนเดียว คือ ID 01"
      ],
      "metadata": {
        "id": "zcMA1yDvXMoX"
      }
    },
    {
      "cell_type": "markdown",
      "source": [
        "## Town home"
      ],
      "metadata": {
        "id": "_Qdg6b8TR2PV"
      }
    },
    {
      "cell_type": "code",
      "source": [
        "tw['ID ผู้ประเมิน'].value_counts() "
      ],
      "metadata": {
        "colab": {
          "base_uri": "https://localhost:8080/"
        },
        "id": "SVNvK1PqafVl",
        "outputId": "9fcd0597-182b-4c5b-f8dc-ce76e41b56a3"
      },
      "execution_count": 19,
      "outputs": [
        {
          "output_type": "execute_result",
          "data": {
            "text/plain": [
              "1    120\n",
              "2    120\n",
              "Name: ID ผู้ประเมิน, dtype: int64"
            ]
          },
          "metadata": {},
          "execution_count": 19
        }
      ]
    },
    {
      "cell_type": "code",
      "source": [
        "est_1t = tw[tw['ID ผู้ประเมิน']==1]"
      ],
      "metadata": {
        "id": "G0wysR-jR6M2"
      },
      "execution_count": 20,
      "outputs": []
    },
    {
      "cell_type": "code",
      "source": [
        "est_2t =  tw[tw['ID ผู้ประเมิน']==2]"
      ],
      "metadata": {
        "id": "9knTbWIWR6M2"
      },
      "execution_count": 21,
      "outputs": []
    },
    {
      "cell_type": "markdown",
      "source": [
        "## Shop house"
      ],
      "metadata": {
        "id": "X41jkzf2SEFU"
      }
    },
    {
      "cell_type": "code",
      "source": [
        "sh['ID ผู้ประเมิน'].value_counts() "
      ],
      "metadata": {
        "colab": {
          "base_uri": "https://localhost:8080/"
        },
        "id": "ksv7N__3amsV",
        "outputId": "fc1cfeb1-9d66-456d-dbd9-48be8afa06bb"
      },
      "execution_count": 22,
      "outputs": [
        {
          "output_type": "execute_result",
          "data": {
            "text/plain": [
              "1    100\n",
              "2    100\n",
              "Name: ID ผู้ประเมิน, dtype: int64"
            ]
          },
          "metadata": {},
          "execution_count": 22
        }
      ]
    },
    {
      "cell_type": "code",
      "source": [
        "est_1s = sh[sh['ID ผู้ประเมิน']==1]"
      ],
      "metadata": {
        "id": "s4_eSQvpSH8K"
      },
      "execution_count": 23,
      "outputs": []
    },
    {
      "cell_type": "code",
      "source": [
        "est_2s =  sh[sh['ID ผู้ประเมิน']==2]"
      ],
      "metadata": {
        "id": "XS9aGA0xSH8L"
      },
      "execution_count": 24,
      "outputs": []
    },
    {
      "cell_type": "markdown",
      "source": [
        "# HW1"
      ],
      "metadata": {
        "id": "Sg4VHPJrCr_d"
      }
    },
    {
      "cell_type": "markdown",
      "source": [
        "#เปรียบเทียบความแตกต่างในการประเมิณราคาทรัพย์แต่ละทรัพย์ของนักประเมินแต่ละคนและของราคาตั้งขาย"
      ],
      "metadata": {
        "id": "nG5NYDV5Zorx"
      }
    },
    {
      "cell_type": "code",
      "source": [
        "from sklearn.metrics import mean_absolute_percentage_error as mape #mape"
      ],
      "metadata": {
        "id": "_9sMvgSAZorx"
      },
      "execution_count": 25,
      "outputs": []
    },
    {
      "cell_type": "markdown",
      "source": [
        "## House"
      ],
      "metadata": {
        "id": "jdwpKMCGimcZ"
      }
    },
    {
      "cell_type": "code",
      "source": [
        "est1 = est1.dropna(subset=['ราคาทรัพย์','ประเมินราคาซื้อ-ขาย'])"
      ],
      "metadata": {
        "id": "AjFOrKTvzZJa"
      },
      "execution_count": 26,
      "outputs": []
    },
    {
      "cell_type": "code",
      "source": [
        "est1"
      ],
      "metadata": {
        "colab": {
          "base_uri": "https://localhost:8080/",
          "height": 658
        },
        "id": "yPPeF4BLzekr",
        "outputId": "6c1ce5ab-dc24-4aca-9ca4-1962bcd6eea4"
      },
      "execution_count": 27,
      "outputs": [
        {
          "output_type": "execute_result",
          "data": {
            "text/plain": [
              "      ID ผู้ประเมิน                               post id property_type  \\\n",
              "0                 1    https://nayoo.co/khonkaen/posts/25    บ้านเดี่ยว   \n",
              "2                 1    https://nayoo.co/khonkaen/posts/33    บ้านเดี่ยว   \n",
              "4                 1   https://nayoo.co/khonkaen/posts/495    บ้านเดี่ยว   \n",
              "6                 1   https://nayoo.co/khonkaen/posts/564    บ้านเดี่ยว   \n",
              "8                 1   https://nayoo.co/khonkaen/posts/566    บ้านเดี่ยว   \n",
              "...             ...                                   ...           ...   \n",
              "1211              1  https://nayoo.co/khonkaen/posts/6255    บ้านเดี่ยว   \n",
              "1213              1  https://nayoo.co/khonkaen/posts/6256    บ้านเดี่ยว   \n",
              "1215              1  https://nayoo.co/khonkaen/posts/6257    บ้านเดี่ยว   \n",
              "1217              1  https://nayoo.co/khonkaen/posts/6258    บ้านเดี่ยว   \n",
              "1219              1  https://nayoo.co/khonkaen/posts/6260    บ้านเดี่ยว   \n",
              "\n",
              "     ความมั่นใจในการเมินราคาทรัพย์  ราคาทรัพย์  ประเมินราคาซื้อ-ขาย  \\\n",
              "0                           มั่นใจ     2890000            2500000.0   \n",
              "2                           มั่นใจ     2600000            2200000.0   \n",
              "4                           มั่นใจ     6050000            5000000.0   \n",
              "6                           มั่นใจ     4400000            3500000.0   \n",
              "8                           มั่นใจ     2750000            2500000.0   \n",
              "...                            ...         ...                  ...   \n",
              "1211                        มั่นใจ      260000             550000.0   \n",
              "1213                        มั่นใจ      610000             700000.0   \n",
              "1215                        มั่นใจ      295000             500000.0   \n",
              "1217                        มั่นใจ      615000             600000.0   \n",
              "1219                        มั่นใจ      620000             750000.0   \n",
              "\n",
              "                         ปัจจัยในการประเมินราคาซื้อ-ขาย  \\\n",
              "0                                          5,000-15,000   \n",
              "2                                          5,000-15,000   \n",
              "4                                          5,000-15,000   \n",
              "6                                          5,000-18,000   \n",
              "8                                          5,000-25,000   \n",
              "...                                                 ...   \n",
              "1211  เพื่อป้องกันปัญหาที่อาจเกิดขึ้นภายหลังหากต้องม...   \n",
              "1213  เพื่อป้องกันปัญหาที่อาจเกิดขึ้นภายหลังหากต้องม...   \n",
              "1215  เพื่อป้องกันปัญหาที่อาจเกิดขึ้นภายหลังหากต้องม...   \n",
              "1217  เพื่อป้องกันปัญหาที่อาจเกิดขึ้นภายหลังหากต้องม...   \n",
              "1219  เพื่อป้องกันปัญหาที่อาจเกิดขึ้นภายหลังหากต้องม...   \n",
              "\n",
              "     เหตุผลไม่มั่นใจราคาประเมิน                      ให้คะแนนทรัพย์  \n",
              "0                           NaN   3 ขายได้ ใช้ระยะเวลา 7 - 12 เดือน  \n",
              "2                           NaN  2 ขายได้ยาก ใช้ระยะเวลามากว่า 1 ปี  \n",
              "4                           NaN   3 ขายได้ ใช้ระยะเวลา 7 - 12 เดือน  \n",
              "6                           NaN  2 ขายได้ยาก ใช้ระยะเวลามากว่า 1 ปี  \n",
              "8                           NaN   3 ขายได้ ใช้ระยะเวลา 7 - 12 เดือน  \n",
              "...                         ...                                 ...  \n",
              "1211                        NaN   3 ขายได้ ใช้ระยะเวลา 7 - 12 เดือน  \n",
              "1213                        NaN   3 ขายได้ ใช้ระยะเวลา 7 - 12 เดือน  \n",
              "1215                        NaN  2 ขายได้ยาก ใช้ระยะเวลามากว่า 1 ปี  \n",
              "1217                        NaN   3 ขายได้ ใช้ระยะเวลา 7 - 12 เดือน  \n",
              "1219                        NaN   3 ขายได้ ใช้ระยะเวลา 7 - 12 เดือน  \n",
              "\n",
              "[609 rows x 9 columns]"
            ],
            "text/html": [
              "\n",
              "  <div id=\"df-8ed5111a-91cd-4e95-bfb9-e529d7b6a467\">\n",
              "    <div class=\"colab-df-container\">\n",
              "      <div>\n",
              "<style scoped>\n",
              "    .dataframe tbody tr th:only-of-type {\n",
              "        vertical-align: middle;\n",
              "    }\n",
              "\n",
              "    .dataframe tbody tr th {\n",
              "        vertical-align: top;\n",
              "    }\n",
              "\n",
              "    .dataframe thead th {\n",
              "        text-align: right;\n",
              "    }\n",
              "</style>\n",
              "<table border=\"1\" class=\"dataframe\">\n",
              "  <thead>\n",
              "    <tr style=\"text-align: right;\">\n",
              "      <th></th>\n",
              "      <th>ID ผู้ประเมิน</th>\n",
              "      <th>post id</th>\n",
              "      <th>property_type</th>\n",
              "      <th>ความมั่นใจในการเมินราคาทรัพย์</th>\n",
              "      <th>ราคาทรัพย์</th>\n",
              "      <th>ประเมินราคาซื้อ-ขาย</th>\n",
              "      <th>ปัจจัยในการประเมินราคาซื้อ-ขาย</th>\n",
              "      <th>เหตุผลไม่มั่นใจราคาประเมิน</th>\n",
              "      <th>ให้คะแนนทรัพย์</th>\n",
              "    </tr>\n",
              "  </thead>\n",
              "  <tbody>\n",
              "    <tr>\n",
              "      <th>0</th>\n",
              "      <td>1</td>\n",
              "      <td>https://nayoo.co/khonkaen/posts/25</td>\n",
              "      <td>บ้านเดี่ยว</td>\n",
              "      <td>มั่นใจ</td>\n",
              "      <td>2890000</td>\n",
              "      <td>2500000.0</td>\n",
              "      <td>5,000-15,000</td>\n",
              "      <td>NaN</td>\n",
              "      <td>3 ขายได้ ใช้ระยะเวลา 7 - 12 เดือน</td>\n",
              "    </tr>\n",
              "    <tr>\n",
              "      <th>2</th>\n",
              "      <td>1</td>\n",
              "      <td>https://nayoo.co/khonkaen/posts/33</td>\n",
              "      <td>บ้านเดี่ยว</td>\n",
              "      <td>มั่นใจ</td>\n",
              "      <td>2600000</td>\n",
              "      <td>2200000.0</td>\n",
              "      <td>5,000-15,000</td>\n",
              "      <td>NaN</td>\n",
              "      <td>2 ขายได้ยาก ใช้ระยะเวลามากว่า 1 ปี</td>\n",
              "    </tr>\n",
              "    <tr>\n",
              "      <th>4</th>\n",
              "      <td>1</td>\n",
              "      <td>https://nayoo.co/khonkaen/posts/495</td>\n",
              "      <td>บ้านเดี่ยว</td>\n",
              "      <td>มั่นใจ</td>\n",
              "      <td>6050000</td>\n",
              "      <td>5000000.0</td>\n",
              "      <td>5,000-15,000</td>\n",
              "      <td>NaN</td>\n",
              "      <td>3 ขายได้ ใช้ระยะเวลา 7 - 12 เดือน</td>\n",
              "    </tr>\n",
              "    <tr>\n",
              "      <th>6</th>\n",
              "      <td>1</td>\n",
              "      <td>https://nayoo.co/khonkaen/posts/564</td>\n",
              "      <td>บ้านเดี่ยว</td>\n",
              "      <td>มั่นใจ</td>\n",
              "      <td>4400000</td>\n",
              "      <td>3500000.0</td>\n",
              "      <td>5,000-18,000</td>\n",
              "      <td>NaN</td>\n",
              "      <td>2 ขายได้ยาก ใช้ระยะเวลามากว่า 1 ปี</td>\n",
              "    </tr>\n",
              "    <tr>\n",
              "      <th>8</th>\n",
              "      <td>1</td>\n",
              "      <td>https://nayoo.co/khonkaen/posts/566</td>\n",
              "      <td>บ้านเดี่ยว</td>\n",
              "      <td>มั่นใจ</td>\n",
              "      <td>2750000</td>\n",
              "      <td>2500000.0</td>\n",
              "      <td>5,000-25,000</td>\n",
              "      <td>NaN</td>\n",
              "      <td>3 ขายได้ ใช้ระยะเวลา 7 - 12 เดือน</td>\n",
              "    </tr>\n",
              "    <tr>\n",
              "      <th>...</th>\n",
              "      <td>...</td>\n",
              "      <td>...</td>\n",
              "      <td>...</td>\n",
              "      <td>...</td>\n",
              "      <td>...</td>\n",
              "      <td>...</td>\n",
              "      <td>...</td>\n",
              "      <td>...</td>\n",
              "      <td>...</td>\n",
              "    </tr>\n",
              "    <tr>\n",
              "      <th>1211</th>\n",
              "      <td>1</td>\n",
              "      <td>https://nayoo.co/khonkaen/posts/6255</td>\n",
              "      <td>บ้านเดี่ยว</td>\n",
              "      <td>มั่นใจ</td>\n",
              "      <td>260000</td>\n",
              "      <td>550000.0</td>\n",
              "      <td>เพื่อป้องกันปัญหาที่อาจเกิดขึ้นภายหลังหากต้องม...</td>\n",
              "      <td>NaN</td>\n",
              "      <td>3 ขายได้ ใช้ระยะเวลา 7 - 12 เดือน</td>\n",
              "    </tr>\n",
              "    <tr>\n",
              "      <th>1213</th>\n",
              "      <td>1</td>\n",
              "      <td>https://nayoo.co/khonkaen/posts/6256</td>\n",
              "      <td>บ้านเดี่ยว</td>\n",
              "      <td>มั่นใจ</td>\n",
              "      <td>610000</td>\n",
              "      <td>700000.0</td>\n",
              "      <td>เพื่อป้องกันปัญหาที่อาจเกิดขึ้นภายหลังหากต้องม...</td>\n",
              "      <td>NaN</td>\n",
              "      <td>3 ขายได้ ใช้ระยะเวลา 7 - 12 เดือน</td>\n",
              "    </tr>\n",
              "    <tr>\n",
              "      <th>1215</th>\n",
              "      <td>1</td>\n",
              "      <td>https://nayoo.co/khonkaen/posts/6257</td>\n",
              "      <td>บ้านเดี่ยว</td>\n",
              "      <td>มั่นใจ</td>\n",
              "      <td>295000</td>\n",
              "      <td>500000.0</td>\n",
              "      <td>เพื่อป้องกันปัญหาที่อาจเกิดขึ้นภายหลังหากต้องม...</td>\n",
              "      <td>NaN</td>\n",
              "      <td>2 ขายได้ยาก ใช้ระยะเวลามากว่า 1 ปี</td>\n",
              "    </tr>\n",
              "    <tr>\n",
              "      <th>1217</th>\n",
              "      <td>1</td>\n",
              "      <td>https://nayoo.co/khonkaen/posts/6258</td>\n",
              "      <td>บ้านเดี่ยว</td>\n",
              "      <td>มั่นใจ</td>\n",
              "      <td>615000</td>\n",
              "      <td>600000.0</td>\n",
              "      <td>เพื่อป้องกันปัญหาที่อาจเกิดขึ้นภายหลังหากต้องม...</td>\n",
              "      <td>NaN</td>\n",
              "      <td>3 ขายได้ ใช้ระยะเวลา 7 - 12 เดือน</td>\n",
              "    </tr>\n",
              "    <tr>\n",
              "      <th>1219</th>\n",
              "      <td>1</td>\n",
              "      <td>https://nayoo.co/khonkaen/posts/6260</td>\n",
              "      <td>บ้านเดี่ยว</td>\n",
              "      <td>มั่นใจ</td>\n",
              "      <td>620000</td>\n",
              "      <td>750000.0</td>\n",
              "      <td>เพื่อป้องกันปัญหาที่อาจเกิดขึ้นภายหลังหากต้องม...</td>\n",
              "      <td>NaN</td>\n",
              "      <td>3 ขายได้ ใช้ระยะเวลา 7 - 12 เดือน</td>\n",
              "    </tr>\n",
              "  </tbody>\n",
              "</table>\n",
              "<p>609 rows × 9 columns</p>\n",
              "</div>\n",
              "      <button class=\"colab-df-convert\" onclick=\"convertToInteractive('df-8ed5111a-91cd-4e95-bfb9-e529d7b6a467')\"\n",
              "              title=\"Convert this dataframe to an interactive table.\"\n",
              "              style=\"display:none;\">\n",
              "        \n",
              "  <svg xmlns=\"http://www.w3.org/2000/svg\" height=\"24px\"viewBox=\"0 0 24 24\"\n",
              "       width=\"24px\">\n",
              "    <path d=\"M0 0h24v24H0V0z\" fill=\"none\"/>\n",
              "    <path d=\"M18.56 5.44l.94 2.06.94-2.06 2.06-.94-2.06-.94-.94-2.06-.94 2.06-2.06.94zm-11 1L8.5 8.5l.94-2.06 2.06-.94-2.06-.94L8.5 2.5l-.94 2.06-2.06.94zm10 10l.94 2.06.94-2.06 2.06-.94-2.06-.94-.94-2.06-.94 2.06-2.06.94z\"/><path d=\"M17.41 7.96l-1.37-1.37c-.4-.4-.92-.59-1.43-.59-.52 0-1.04.2-1.43.59L10.3 9.45l-7.72 7.72c-.78.78-.78 2.05 0 2.83L4 21.41c.39.39.9.59 1.41.59.51 0 1.02-.2 1.41-.59l7.78-7.78 2.81-2.81c.8-.78.8-2.07 0-2.86zM5.41 20L4 18.59l7.72-7.72 1.47 1.35L5.41 20z\"/>\n",
              "  </svg>\n",
              "      </button>\n",
              "      \n",
              "  <style>\n",
              "    .colab-df-container {\n",
              "      display:flex;\n",
              "      flex-wrap:wrap;\n",
              "      gap: 12px;\n",
              "    }\n",
              "\n",
              "    .colab-df-convert {\n",
              "      background-color: #E8F0FE;\n",
              "      border: none;\n",
              "      border-radius: 50%;\n",
              "      cursor: pointer;\n",
              "      display: none;\n",
              "      fill: #1967D2;\n",
              "      height: 32px;\n",
              "      padding: 0 0 0 0;\n",
              "      width: 32px;\n",
              "    }\n",
              "\n",
              "    .colab-df-convert:hover {\n",
              "      background-color: #E2EBFA;\n",
              "      box-shadow: 0px 1px 2px rgba(60, 64, 67, 0.3), 0px 1px 3px 1px rgba(60, 64, 67, 0.15);\n",
              "      fill: #174EA6;\n",
              "    }\n",
              "\n",
              "    [theme=dark] .colab-df-convert {\n",
              "      background-color: #3B4455;\n",
              "      fill: #D2E3FC;\n",
              "    }\n",
              "\n",
              "    [theme=dark] .colab-df-convert:hover {\n",
              "      background-color: #434B5C;\n",
              "      box-shadow: 0px 1px 3px 1px rgba(0, 0, 0, 0.15);\n",
              "      filter: drop-shadow(0px 1px 2px rgba(0, 0, 0, 0.3));\n",
              "      fill: #FFFFFF;\n",
              "    }\n",
              "  </style>\n",
              "\n",
              "      <script>\n",
              "        const buttonEl =\n",
              "          document.querySelector('#df-8ed5111a-91cd-4e95-bfb9-e529d7b6a467 button.colab-df-convert');\n",
              "        buttonEl.style.display =\n",
              "          google.colab.kernel.accessAllowed ? 'block' : 'none';\n",
              "\n",
              "        async function convertToInteractive(key) {\n",
              "          const element = document.querySelector('#df-8ed5111a-91cd-4e95-bfb9-e529d7b6a467');\n",
              "          const dataTable =\n",
              "            await google.colab.kernel.invokeFunction('convertToInteractive',\n",
              "                                                     [key], {});\n",
              "          if (!dataTable) return;\n",
              "\n",
              "          const docLinkHtml = 'Like what you see? Visit the ' +\n",
              "            '<a target=\"_blank\" href=https://colab.research.google.com/notebooks/data_table.ipynb>data table notebook</a>'\n",
              "            + ' to learn more about interactive tables.';\n",
              "          element.innerHTML = '';\n",
              "          dataTable['output_type'] = 'display_data';\n",
              "          await google.colab.output.renderOutput(dataTable, element);\n",
              "          const docLink = document.createElement('div');\n",
              "          docLink.innerHTML = docLinkHtml;\n",
              "          element.appendChild(docLink);\n",
              "        }\n",
              "      </script>\n",
              "    </div>\n",
              "  </div>\n",
              "  "
            ]
          },
          "metadata": {},
          "execution_count": 27
        }
      ]
    },
    {
      "cell_type": "code",
      "source": [
        "est1MAPE = mape(est1['ประเมินราคาซื้อ-ขาย'],pd.to_numeric(est1['ราคาทรัพย์']))"
      ],
      "metadata": {
        "id": "u_4S3IeczmPr"
      },
      "execution_count": 28,
      "outputs": []
    },
    {
      "cell_type": "code",
      "source": [
        "est1MAPE "
      ],
      "metadata": {
        "colab": {
          "base_uri": "https://localhost:8080/"
        },
        "id": "I4YWIwxHzwTY",
        "outputId": "0be77f6c-01b2-4c6b-935a-6964ed2edaa0"
      },
      "execution_count": 29,
      "outputs": [
        {
          "output_type": "execute_result",
          "data": {
            "text/plain": [
              "0.14495338335553581"
            ]
          },
          "metadata": {},
          "execution_count": 29
        }
      ]
    },
    {
      "cell_type": "code",
      "source": [
        "est2['ประเมินโดย 1'] = est2['post id'].map(est1.set_index('post id')['ประเมินราคาซื้อ-ขาย'])\n",
        "est2.head(3)"
      ],
      "metadata": {
        "colab": {
          "base_uri": "https://localhost:8080/",
          "height": 361
        },
        "outputId": "6429a866-08b3-4371-856d-8084b8b7ec61",
        "id": "pCaMmC-xZory"
      },
      "execution_count": 30,
      "outputs": [
        {
          "output_type": "stream",
          "name": "stderr",
          "text": [
            "<ipython-input-30-3501914803de>:1: SettingWithCopyWarning: \n",
            "A value is trying to be set on a copy of a slice from a DataFrame.\n",
            "Try using .loc[row_indexer,col_indexer] = value instead\n",
            "\n",
            "See the caveats in the documentation: https://pandas.pydata.org/pandas-docs/stable/user_guide/indexing.html#returning-a-view-versus-a-copy\n",
            "  est2['ประเมินโดย 1'] = est2['post id'].map(est1.set_index('post id')['ประเมินราคาซื้อ-ขาย'])\n"
          ]
        },
        {
          "output_type": "execute_result",
          "data": {
            "text/plain": [
              "   ID ผู้ประเมิน                              post id property_type  \\\n",
              "1              2   https://nayoo.co/khonkaen/posts/25    บ้านเดี่ยว   \n",
              "3              2   https://nayoo.co/khonkaen/posts/33    บ้านเดี่ยว   \n",
              "5              2  https://nayoo.co/khonkaen/posts/495    บ้านเดี่ยว   \n",
              "\n",
              "  ความมั่นใจในการเมินราคาทรัพย์  ราคาทรัพย์  ประเมินราคาซื้อ-ขาย  \\\n",
              "1                        มั่นใจ     2890000            2700000.0   \n",
              "3                        มั่นใจ     2600000            2400000.0   \n",
              "5                        มั่นใจ     6050000            9000000.0   \n",
              "\n",
              "                      ปัจจัยในการประเมินราคาซื้อ-ขาย  \\\n",
              "1  โครงการนี้ราคาเสนอขาย 2,500,000-3,000,000 บาท/...   \n",
              "3   ราคาเสนอขายประมาณ 2,200,000 - 2,500,000 บาท/หลัง   \n",
              "5  โซนนี้ราคาซื้อขาย ประมาณ 10,000-20,000 บาท/ตาร...   \n",
              "\n",
              "  เหตุผลไม่มั่นใจราคาประเมิน                     ให้คะแนนทรัพย์  ประเมินโดย 1  \n",
              "1                        NaN   4 ขายได้ ใช้ระยะเวลา 4 - 6 เดือน     2500000.0  \n",
              "3                        NaN  3 ขายได้ ใช้ระยะเวลา 7 - 12 เดือน     2200000.0  \n",
              "5                        NaN  5 ขายง่าย ใช้ระยะเวลา 1 - 3 เดือน     5000000.0  "
            ],
            "text/html": [
              "\n",
              "  <div id=\"df-7e8ee9e7-083e-40ee-9a5d-0569f9790e93\">\n",
              "    <div class=\"colab-df-container\">\n",
              "      <div>\n",
              "<style scoped>\n",
              "    .dataframe tbody tr th:only-of-type {\n",
              "        vertical-align: middle;\n",
              "    }\n",
              "\n",
              "    .dataframe tbody tr th {\n",
              "        vertical-align: top;\n",
              "    }\n",
              "\n",
              "    .dataframe thead th {\n",
              "        text-align: right;\n",
              "    }\n",
              "</style>\n",
              "<table border=\"1\" class=\"dataframe\">\n",
              "  <thead>\n",
              "    <tr style=\"text-align: right;\">\n",
              "      <th></th>\n",
              "      <th>ID ผู้ประเมิน</th>\n",
              "      <th>post id</th>\n",
              "      <th>property_type</th>\n",
              "      <th>ความมั่นใจในการเมินราคาทรัพย์</th>\n",
              "      <th>ราคาทรัพย์</th>\n",
              "      <th>ประเมินราคาซื้อ-ขาย</th>\n",
              "      <th>ปัจจัยในการประเมินราคาซื้อ-ขาย</th>\n",
              "      <th>เหตุผลไม่มั่นใจราคาประเมิน</th>\n",
              "      <th>ให้คะแนนทรัพย์</th>\n",
              "      <th>ประเมินโดย 1</th>\n",
              "    </tr>\n",
              "  </thead>\n",
              "  <tbody>\n",
              "    <tr>\n",
              "      <th>1</th>\n",
              "      <td>2</td>\n",
              "      <td>https://nayoo.co/khonkaen/posts/25</td>\n",
              "      <td>บ้านเดี่ยว</td>\n",
              "      <td>มั่นใจ</td>\n",
              "      <td>2890000</td>\n",
              "      <td>2700000.0</td>\n",
              "      <td>โครงการนี้ราคาเสนอขาย 2,500,000-3,000,000 บาท/...</td>\n",
              "      <td>NaN</td>\n",
              "      <td>4 ขายได้ ใช้ระยะเวลา 4 - 6 เดือน</td>\n",
              "      <td>2500000.0</td>\n",
              "    </tr>\n",
              "    <tr>\n",
              "      <th>3</th>\n",
              "      <td>2</td>\n",
              "      <td>https://nayoo.co/khonkaen/posts/33</td>\n",
              "      <td>บ้านเดี่ยว</td>\n",
              "      <td>มั่นใจ</td>\n",
              "      <td>2600000</td>\n",
              "      <td>2400000.0</td>\n",
              "      <td>ราคาเสนอขายประมาณ 2,200,000 - 2,500,000 บาท/หลัง</td>\n",
              "      <td>NaN</td>\n",
              "      <td>3 ขายได้ ใช้ระยะเวลา 7 - 12 เดือน</td>\n",
              "      <td>2200000.0</td>\n",
              "    </tr>\n",
              "    <tr>\n",
              "      <th>5</th>\n",
              "      <td>2</td>\n",
              "      <td>https://nayoo.co/khonkaen/posts/495</td>\n",
              "      <td>บ้านเดี่ยว</td>\n",
              "      <td>มั่นใจ</td>\n",
              "      <td>6050000</td>\n",
              "      <td>9000000.0</td>\n",
              "      <td>โซนนี้ราคาซื้อขาย ประมาณ 10,000-20,000 บาท/ตาร...</td>\n",
              "      <td>NaN</td>\n",
              "      <td>5 ขายง่าย ใช้ระยะเวลา 1 - 3 เดือน</td>\n",
              "      <td>5000000.0</td>\n",
              "    </tr>\n",
              "  </tbody>\n",
              "</table>\n",
              "</div>\n",
              "      <button class=\"colab-df-convert\" onclick=\"convertToInteractive('df-7e8ee9e7-083e-40ee-9a5d-0569f9790e93')\"\n",
              "              title=\"Convert this dataframe to an interactive table.\"\n",
              "              style=\"display:none;\">\n",
              "        \n",
              "  <svg xmlns=\"http://www.w3.org/2000/svg\" height=\"24px\"viewBox=\"0 0 24 24\"\n",
              "       width=\"24px\">\n",
              "    <path d=\"M0 0h24v24H0V0z\" fill=\"none\"/>\n",
              "    <path d=\"M18.56 5.44l.94 2.06.94-2.06 2.06-.94-2.06-.94-.94-2.06-.94 2.06-2.06.94zm-11 1L8.5 8.5l.94-2.06 2.06-.94-2.06-.94L8.5 2.5l-.94 2.06-2.06.94zm10 10l.94 2.06.94-2.06 2.06-.94-2.06-.94-.94-2.06-.94 2.06-2.06.94z\"/><path d=\"M17.41 7.96l-1.37-1.37c-.4-.4-.92-.59-1.43-.59-.52 0-1.04.2-1.43.59L10.3 9.45l-7.72 7.72c-.78.78-.78 2.05 0 2.83L4 21.41c.39.39.9.59 1.41.59.51 0 1.02-.2 1.41-.59l7.78-7.78 2.81-2.81c.8-.78.8-2.07 0-2.86zM5.41 20L4 18.59l7.72-7.72 1.47 1.35L5.41 20z\"/>\n",
              "  </svg>\n",
              "      </button>\n",
              "      \n",
              "  <style>\n",
              "    .colab-df-container {\n",
              "      display:flex;\n",
              "      flex-wrap:wrap;\n",
              "      gap: 12px;\n",
              "    }\n",
              "\n",
              "    .colab-df-convert {\n",
              "      background-color: #E8F0FE;\n",
              "      border: none;\n",
              "      border-radius: 50%;\n",
              "      cursor: pointer;\n",
              "      display: none;\n",
              "      fill: #1967D2;\n",
              "      height: 32px;\n",
              "      padding: 0 0 0 0;\n",
              "      width: 32px;\n",
              "    }\n",
              "\n",
              "    .colab-df-convert:hover {\n",
              "      background-color: #E2EBFA;\n",
              "      box-shadow: 0px 1px 2px rgba(60, 64, 67, 0.3), 0px 1px 3px 1px rgba(60, 64, 67, 0.15);\n",
              "      fill: #174EA6;\n",
              "    }\n",
              "\n",
              "    [theme=dark] .colab-df-convert {\n",
              "      background-color: #3B4455;\n",
              "      fill: #D2E3FC;\n",
              "    }\n",
              "\n",
              "    [theme=dark] .colab-df-convert:hover {\n",
              "      background-color: #434B5C;\n",
              "      box-shadow: 0px 1px 3px 1px rgba(0, 0, 0, 0.15);\n",
              "      filter: drop-shadow(0px 1px 2px rgba(0, 0, 0, 0.3));\n",
              "      fill: #FFFFFF;\n",
              "    }\n",
              "  </style>\n",
              "\n",
              "      <script>\n",
              "        const buttonEl =\n",
              "          document.querySelector('#df-7e8ee9e7-083e-40ee-9a5d-0569f9790e93 button.colab-df-convert');\n",
              "        buttonEl.style.display =\n",
              "          google.colab.kernel.accessAllowed ? 'block' : 'none';\n",
              "\n",
              "        async function convertToInteractive(key) {\n",
              "          const element = document.querySelector('#df-7e8ee9e7-083e-40ee-9a5d-0569f9790e93');\n",
              "          const dataTable =\n",
              "            await google.colab.kernel.invokeFunction('convertToInteractive',\n",
              "                                                     [key], {});\n",
              "          if (!dataTable) return;\n",
              "\n",
              "          const docLinkHtml = 'Like what you see? Visit the ' +\n",
              "            '<a target=\"_blank\" href=https://colab.research.google.com/notebooks/data_table.ipynb>data table notebook</a>'\n",
              "            + ' to learn more about interactive tables.';\n",
              "          element.innerHTML = '';\n",
              "          dataTable['output_type'] = 'display_data';\n",
              "          await google.colab.output.renderOutput(dataTable, element);\n",
              "          const docLink = document.createElement('div');\n",
              "          docLink.innerHTML = docLinkHtml;\n",
              "          element.appendChild(docLink);\n",
              "        }\n",
              "      </script>\n",
              "    </div>\n",
              "  </div>\n",
              "  "
            ]
          },
          "metadata": {},
          "execution_count": 30
        }
      ]
    },
    {
      "cell_type": "code",
      "source": [
        "est2.rename(columns={'ประเมินราคาซื้อ-ขาย' :'ประเมินโดย 2'}, inplace=True)"
      ],
      "metadata": {
        "colab": {
          "base_uri": "https://localhost:8080/"
        },
        "id": "ZL6US3TNepkb",
        "outputId": "3f94f784-be54-445d-c2d5-002bc252ec60"
      },
      "execution_count": 31,
      "outputs": [
        {
          "output_type": "stream",
          "name": "stderr",
          "text": [
            "/usr/local/lib/python3.8/dist-packages/pandas/core/frame.py:5039: SettingWithCopyWarning: \n",
            "A value is trying to be set on a copy of a slice from a DataFrame\n",
            "\n",
            "See the caveats in the documentation: https://pandas.pydata.org/pandas-docs/stable/user_guide/indexing.html#returning-a-view-versus-a-copy\n",
            "  return super().rename(\n"
          ]
        }
      ]
    },
    {
      "cell_type": "code",
      "source": [
        "est2"
      ],
      "metadata": {
        "colab": {
          "base_uri": "https://localhost:8080/",
          "height": 658
        },
        "id": "xnRg74UJnGyD",
        "outputId": "0218a4ac-a287-44cc-c578-bc140ecfa84a"
      },
      "execution_count": 32,
      "outputs": [
        {
          "output_type": "execute_result",
          "data": {
            "text/plain": [
              "      ID ผู้ประเมิน                               post id property_type  \\\n",
              "1                 2    https://nayoo.co/khonkaen/posts/25    บ้านเดี่ยว   \n",
              "3                 2    https://nayoo.co/khonkaen/posts/33    บ้านเดี่ยว   \n",
              "5                 2   https://nayoo.co/khonkaen/posts/495    บ้านเดี่ยว   \n",
              "7                 2   https://nayoo.co/khonkaen/posts/564    บ้านเดี่ยว   \n",
              "9                 2   https://nayoo.co/khonkaen/posts/566    บ้านเดี่ยว   \n",
              "...             ...                                   ...           ...   \n",
              "1210              2  https://nayoo.co/khonkaen/posts/6255    บ้านเดี่ยว   \n",
              "1212              2  https://nayoo.co/khonkaen/posts/6256    บ้านเดี่ยว   \n",
              "1214              2  https://nayoo.co/khonkaen/posts/6257    บ้านเดี่ยว   \n",
              "1216              2  https://nayoo.co/khonkaen/posts/6258    บ้านเดี่ยว   \n",
              "1218              2  https://nayoo.co/khonkaen/posts/6260    บ้านเดี่ยว   \n",
              "\n",
              "     ความมั่นใจในการเมินราคาทรัพย์  ราคาทรัพย์  ประเมินโดย 2  \\\n",
              "1                           มั่นใจ     2890000     2700000.0   \n",
              "3                           มั่นใจ     2600000     2400000.0   \n",
              "5                           มั่นใจ     6050000     9000000.0   \n",
              "7                           มั่นใจ     4400000     3700000.0   \n",
              "9                           มั่นใจ     2750000     2500000.0   \n",
              "...                            ...         ...           ...   \n",
              "1210                        มั่นใจ      260000      300000.0   \n",
              "1212                        มั่นใจ      610000      500000.0   \n",
              "1214                        มั่นใจ      295000      300000.0   \n",
              "1216                        มั่นใจ      615000      500000.0   \n",
              "1218                        มั่นใจ      620000      700000.0   \n",
              "\n",
              "                         ปัจจัยในการประเมินราคาซื้อ-ขาย  \\\n",
              "1     โครงการนี้ราคาเสนอขาย 2,500,000-3,000,000 บาท/...   \n",
              "3      ราคาเสนอขายประมาณ 2,200,000 - 2,500,000 บาท/หลัง   \n",
              "5     โซนนี้ราคาซื้อขาย ประมาณ 10,000-20,000 บาท/ตาร...   \n",
              "7                เสนอขาย 3,500,000 - 4,200,000 บาท/หลัง   \n",
              "9           ราคาเสนอขาย 2,000,0000 - 2,800,000 บาท/หลัง   \n",
              "...                                                 ...   \n",
              "1210                     ราคาเสนอขาย 2-3 พันบาท/ตารางวา   \n",
              "1212                     ราคาเสนอขาย 4-6 พันบาท/ตารางวา   \n",
              "1214                     ราคาเสนอขาย 1-2 พันบาท/ตารางวา   \n",
              "1216                     ราคาเสนอขาย 3-5 พันบาท/ตารางวา   \n",
              "1218                     ราคาเสนอขาย 4-5 พันบาท/ตารางวา   \n",
              "\n",
              "     เหตุผลไม่มั่นใจราคาประเมิน                     ให้คะแนนทรัพย์  \\\n",
              "1                           NaN   4 ขายได้ ใช้ระยะเวลา 4 - 6 เดือน   \n",
              "3                           NaN  3 ขายได้ ใช้ระยะเวลา 7 - 12 เดือน   \n",
              "5                           NaN  5 ขายง่าย ใช้ระยะเวลา 1 - 3 เดือน   \n",
              "7                           NaN  3 ขายได้ ใช้ระยะเวลา 7 - 12 เดือน   \n",
              "9                           NaN  3 ขายได้ ใช้ระยะเวลา 7 - 12 เดือน   \n",
              "...                         ...                                ...   \n",
              "1210                        NaN  3 ขายได้ ใช้ระยะเวลา 7 - 12 เดือน   \n",
              "1212                        NaN  3 ขายได้ ใช้ระยะเวลา 7 - 12 เดือน   \n",
              "1214                        NaN  3 ขายได้ ใช้ระยะเวลา 7 - 12 เดือน   \n",
              "1216                        NaN  3 ขายได้ ใช้ระยะเวลา 7 - 12 เดือน   \n",
              "1218                        NaN  3 ขายได้ ใช้ระยะเวลา 7 - 12 เดือน   \n",
              "\n",
              "      ประเมินโดย 1  \n",
              "1        2500000.0  \n",
              "3        2200000.0  \n",
              "5        5000000.0  \n",
              "7        3500000.0  \n",
              "9        2500000.0  \n",
              "...            ...  \n",
              "1210      550000.0  \n",
              "1212      700000.0  \n",
              "1214      500000.0  \n",
              "1216      600000.0  \n",
              "1218      750000.0  \n",
              "\n",
              "[610 rows x 10 columns]"
            ],
            "text/html": [
              "\n",
              "  <div id=\"df-77d30d6f-9da3-4421-9d01-b418bb641e83\">\n",
              "    <div class=\"colab-df-container\">\n",
              "      <div>\n",
              "<style scoped>\n",
              "    .dataframe tbody tr th:only-of-type {\n",
              "        vertical-align: middle;\n",
              "    }\n",
              "\n",
              "    .dataframe tbody tr th {\n",
              "        vertical-align: top;\n",
              "    }\n",
              "\n",
              "    .dataframe thead th {\n",
              "        text-align: right;\n",
              "    }\n",
              "</style>\n",
              "<table border=\"1\" class=\"dataframe\">\n",
              "  <thead>\n",
              "    <tr style=\"text-align: right;\">\n",
              "      <th></th>\n",
              "      <th>ID ผู้ประเมิน</th>\n",
              "      <th>post id</th>\n",
              "      <th>property_type</th>\n",
              "      <th>ความมั่นใจในการเมินราคาทรัพย์</th>\n",
              "      <th>ราคาทรัพย์</th>\n",
              "      <th>ประเมินโดย 2</th>\n",
              "      <th>ปัจจัยในการประเมินราคาซื้อ-ขาย</th>\n",
              "      <th>เหตุผลไม่มั่นใจราคาประเมิน</th>\n",
              "      <th>ให้คะแนนทรัพย์</th>\n",
              "      <th>ประเมินโดย 1</th>\n",
              "    </tr>\n",
              "  </thead>\n",
              "  <tbody>\n",
              "    <tr>\n",
              "      <th>1</th>\n",
              "      <td>2</td>\n",
              "      <td>https://nayoo.co/khonkaen/posts/25</td>\n",
              "      <td>บ้านเดี่ยว</td>\n",
              "      <td>มั่นใจ</td>\n",
              "      <td>2890000</td>\n",
              "      <td>2700000.0</td>\n",
              "      <td>โครงการนี้ราคาเสนอขาย 2,500,000-3,000,000 บาท/...</td>\n",
              "      <td>NaN</td>\n",
              "      <td>4 ขายได้ ใช้ระยะเวลา 4 - 6 เดือน</td>\n",
              "      <td>2500000.0</td>\n",
              "    </tr>\n",
              "    <tr>\n",
              "      <th>3</th>\n",
              "      <td>2</td>\n",
              "      <td>https://nayoo.co/khonkaen/posts/33</td>\n",
              "      <td>บ้านเดี่ยว</td>\n",
              "      <td>มั่นใจ</td>\n",
              "      <td>2600000</td>\n",
              "      <td>2400000.0</td>\n",
              "      <td>ราคาเสนอขายประมาณ 2,200,000 - 2,500,000 บาท/หลัง</td>\n",
              "      <td>NaN</td>\n",
              "      <td>3 ขายได้ ใช้ระยะเวลา 7 - 12 เดือน</td>\n",
              "      <td>2200000.0</td>\n",
              "    </tr>\n",
              "    <tr>\n",
              "      <th>5</th>\n",
              "      <td>2</td>\n",
              "      <td>https://nayoo.co/khonkaen/posts/495</td>\n",
              "      <td>บ้านเดี่ยว</td>\n",
              "      <td>มั่นใจ</td>\n",
              "      <td>6050000</td>\n",
              "      <td>9000000.0</td>\n",
              "      <td>โซนนี้ราคาซื้อขาย ประมาณ 10,000-20,000 บาท/ตาร...</td>\n",
              "      <td>NaN</td>\n",
              "      <td>5 ขายง่าย ใช้ระยะเวลา 1 - 3 เดือน</td>\n",
              "      <td>5000000.0</td>\n",
              "    </tr>\n",
              "    <tr>\n",
              "      <th>7</th>\n",
              "      <td>2</td>\n",
              "      <td>https://nayoo.co/khonkaen/posts/564</td>\n",
              "      <td>บ้านเดี่ยว</td>\n",
              "      <td>มั่นใจ</td>\n",
              "      <td>4400000</td>\n",
              "      <td>3700000.0</td>\n",
              "      <td>เสนอขาย 3,500,000 - 4,200,000 บาท/หลัง</td>\n",
              "      <td>NaN</td>\n",
              "      <td>3 ขายได้ ใช้ระยะเวลา 7 - 12 เดือน</td>\n",
              "      <td>3500000.0</td>\n",
              "    </tr>\n",
              "    <tr>\n",
              "      <th>9</th>\n",
              "      <td>2</td>\n",
              "      <td>https://nayoo.co/khonkaen/posts/566</td>\n",
              "      <td>บ้านเดี่ยว</td>\n",
              "      <td>มั่นใจ</td>\n",
              "      <td>2750000</td>\n",
              "      <td>2500000.0</td>\n",
              "      <td>ราคาเสนอขาย 2,000,0000 - 2,800,000 บาท/หลัง</td>\n",
              "      <td>NaN</td>\n",
              "      <td>3 ขายได้ ใช้ระยะเวลา 7 - 12 เดือน</td>\n",
              "      <td>2500000.0</td>\n",
              "    </tr>\n",
              "    <tr>\n",
              "      <th>...</th>\n",
              "      <td>...</td>\n",
              "      <td>...</td>\n",
              "      <td>...</td>\n",
              "      <td>...</td>\n",
              "      <td>...</td>\n",
              "      <td>...</td>\n",
              "      <td>...</td>\n",
              "      <td>...</td>\n",
              "      <td>...</td>\n",
              "      <td>...</td>\n",
              "    </tr>\n",
              "    <tr>\n",
              "      <th>1210</th>\n",
              "      <td>2</td>\n",
              "      <td>https://nayoo.co/khonkaen/posts/6255</td>\n",
              "      <td>บ้านเดี่ยว</td>\n",
              "      <td>มั่นใจ</td>\n",
              "      <td>260000</td>\n",
              "      <td>300000.0</td>\n",
              "      <td>ราคาเสนอขาย 2-3 พันบาท/ตารางวา</td>\n",
              "      <td>NaN</td>\n",
              "      <td>3 ขายได้ ใช้ระยะเวลา 7 - 12 เดือน</td>\n",
              "      <td>550000.0</td>\n",
              "    </tr>\n",
              "    <tr>\n",
              "      <th>1212</th>\n",
              "      <td>2</td>\n",
              "      <td>https://nayoo.co/khonkaen/posts/6256</td>\n",
              "      <td>บ้านเดี่ยว</td>\n",
              "      <td>มั่นใจ</td>\n",
              "      <td>610000</td>\n",
              "      <td>500000.0</td>\n",
              "      <td>ราคาเสนอขาย 4-6 พันบาท/ตารางวา</td>\n",
              "      <td>NaN</td>\n",
              "      <td>3 ขายได้ ใช้ระยะเวลา 7 - 12 เดือน</td>\n",
              "      <td>700000.0</td>\n",
              "    </tr>\n",
              "    <tr>\n",
              "      <th>1214</th>\n",
              "      <td>2</td>\n",
              "      <td>https://nayoo.co/khonkaen/posts/6257</td>\n",
              "      <td>บ้านเดี่ยว</td>\n",
              "      <td>มั่นใจ</td>\n",
              "      <td>295000</td>\n",
              "      <td>300000.0</td>\n",
              "      <td>ราคาเสนอขาย 1-2 พันบาท/ตารางวา</td>\n",
              "      <td>NaN</td>\n",
              "      <td>3 ขายได้ ใช้ระยะเวลา 7 - 12 เดือน</td>\n",
              "      <td>500000.0</td>\n",
              "    </tr>\n",
              "    <tr>\n",
              "      <th>1216</th>\n",
              "      <td>2</td>\n",
              "      <td>https://nayoo.co/khonkaen/posts/6258</td>\n",
              "      <td>บ้านเดี่ยว</td>\n",
              "      <td>มั่นใจ</td>\n",
              "      <td>615000</td>\n",
              "      <td>500000.0</td>\n",
              "      <td>ราคาเสนอขาย 3-5 พันบาท/ตารางวา</td>\n",
              "      <td>NaN</td>\n",
              "      <td>3 ขายได้ ใช้ระยะเวลา 7 - 12 เดือน</td>\n",
              "      <td>600000.0</td>\n",
              "    </tr>\n",
              "    <tr>\n",
              "      <th>1218</th>\n",
              "      <td>2</td>\n",
              "      <td>https://nayoo.co/khonkaen/posts/6260</td>\n",
              "      <td>บ้านเดี่ยว</td>\n",
              "      <td>มั่นใจ</td>\n",
              "      <td>620000</td>\n",
              "      <td>700000.0</td>\n",
              "      <td>ราคาเสนอขาย 4-5 พันบาท/ตารางวา</td>\n",
              "      <td>NaN</td>\n",
              "      <td>3 ขายได้ ใช้ระยะเวลา 7 - 12 เดือน</td>\n",
              "      <td>750000.0</td>\n",
              "    </tr>\n",
              "  </tbody>\n",
              "</table>\n",
              "<p>610 rows × 10 columns</p>\n",
              "</div>\n",
              "      <button class=\"colab-df-convert\" onclick=\"convertToInteractive('df-77d30d6f-9da3-4421-9d01-b418bb641e83')\"\n",
              "              title=\"Convert this dataframe to an interactive table.\"\n",
              "              style=\"display:none;\">\n",
              "        \n",
              "  <svg xmlns=\"http://www.w3.org/2000/svg\" height=\"24px\"viewBox=\"0 0 24 24\"\n",
              "       width=\"24px\">\n",
              "    <path d=\"M0 0h24v24H0V0z\" fill=\"none\"/>\n",
              "    <path d=\"M18.56 5.44l.94 2.06.94-2.06 2.06-.94-2.06-.94-.94-2.06-.94 2.06-2.06.94zm-11 1L8.5 8.5l.94-2.06 2.06-.94-2.06-.94L8.5 2.5l-.94 2.06-2.06.94zm10 10l.94 2.06.94-2.06 2.06-.94-2.06-.94-.94-2.06-.94 2.06-2.06.94z\"/><path d=\"M17.41 7.96l-1.37-1.37c-.4-.4-.92-.59-1.43-.59-.52 0-1.04.2-1.43.59L10.3 9.45l-7.72 7.72c-.78.78-.78 2.05 0 2.83L4 21.41c.39.39.9.59 1.41.59.51 0 1.02-.2 1.41-.59l7.78-7.78 2.81-2.81c.8-.78.8-2.07 0-2.86zM5.41 20L4 18.59l7.72-7.72 1.47 1.35L5.41 20z\"/>\n",
              "  </svg>\n",
              "      </button>\n",
              "      \n",
              "  <style>\n",
              "    .colab-df-container {\n",
              "      display:flex;\n",
              "      flex-wrap:wrap;\n",
              "      gap: 12px;\n",
              "    }\n",
              "\n",
              "    .colab-df-convert {\n",
              "      background-color: #E8F0FE;\n",
              "      border: none;\n",
              "      border-radius: 50%;\n",
              "      cursor: pointer;\n",
              "      display: none;\n",
              "      fill: #1967D2;\n",
              "      height: 32px;\n",
              "      padding: 0 0 0 0;\n",
              "      width: 32px;\n",
              "    }\n",
              "\n",
              "    .colab-df-convert:hover {\n",
              "      background-color: #E2EBFA;\n",
              "      box-shadow: 0px 1px 2px rgba(60, 64, 67, 0.3), 0px 1px 3px 1px rgba(60, 64, 67, 0.15);\n",
              "      fill: #174EA6;\n",
              "    }\n",
              "\n",
              "    [theme=dark] .colab-df-convert {\n",
              "      background-color: #3B4455;\n",
              "      fill: #D2E3FC;\n",
              "    }\n",
              "\n",
              "    [theme=dark] .colab-df-convert:hover {\n",
              "      background-color: #434B5C;\n",
              "      box-shadow: 0px 1px 3px 1px rgba(0, 0, 0, 0.15);\n",
              "      filter: drop-shadow(0px 1px 2px rgba(0, 0, 0, 0.3));\n",
              "      fill: #FFFFFF;\n",
              "    }\n",
              "  </style>\n",
              "\n",
              "      <script>\n",
              "        const buttonEl =\n",
              "          document.querySelector('#df-77d30d6f-9da3-4421-9d01-b418bb641e83 button.colab-df-convert');\n",
              "        buttonEl.style.display =\n",
              "          google.colab.kernel.accessAllowed ? 'block' : 'none';\n",
              "\n",
              "        async function convertToInteractive(key) {\n",
              "          const element = document.querySelector('#df-77d30d6f-9da3-4421-9d01-b418bb641e83');\n",
              "          const dataTable =\n",
              "            await google.colab.kernel.invokeFunction('convertToInteractive',\n",
              "                                                     [key], {});\n",
              "          if (!dataTable) return;\n",
              "\n",
              "          const docLinkHtml = 'Like what you see? Visit the ' +\n",
              "            '<a target=\"_blank\" href=https://colab.research.google.com/notebooks/data_table.ipynb>data table notebook</a>'\n",
              "            + ' to learn more about interactive tables.';\n",
              "          element.innerHTML = '';\n",
              "          dataTable['output_type'] = 'display_data';\n",
              "          await google.colab.output.renderOutput(dataTable, element);\n",
              "          const docLink = document.createElement('div');\n",
              "          docLink.innerHTML = docLinkHtml;\n",
              "          element.appendChild(docLink);\n",
              "        }\n",
              "      </script>\n",
              "    </div>\n",
              "  </div>\n",
              "  "
            ]
          },
          "metadata": {},
          "execution_count": 32
        }
      ]
    },
    {
      "cell_type": "code",
      "source": [
        "ass_h = est2[['post id','ราคาทรัพย์','ประเมินโดย 1','ประเมินโดย 2']]\n",
        "ass_h = ass_h.dropna(subset=['ราคาทรัพย์','ประเมินโดย 1','ประเมินโดย 2'])\n",
        "ass_h"
      ],
      "metadata": {
        "colab": {
          "base_uri": "https://localhost:8080/",
          "height": 424
        },
        "id": "IX0NwKaneUV5",
        "outputId": "3ef77ae1-d98c-4f3c-9848-6cd6147ba8fe"
      },
      "execution_count": 33,
      "outputs": [
        {
          "output_type": "execute_result",
          "data": {
            "text/plain": [
              "                                   post id  ราคาทรัพย์  ประเมินโดย 1  \\\n",
              "1       https://nayoo.co/khonkaen/posts/25     2890000     2500000.0   \n",
              "3       https://nayoo.co/khonkaen/posts/33     2600000     2200000.0   \n",
              "5      https://nayoo.co/khonkaen/posts/495     6050000     5000000.0   \n",
              "7      https://nayoo.co/khonkaen/posts/564     4400000     3500000.0   \n",
              "9      https://nayoo.co/khonkaen/posts/566     2750000     2500000.0   \n",
              "...                                    ...         ...           ...   \n",
              "1210  https://nayoo.co/khonkaen/posts/6255      260000      550000.0   \n",
              "1212  https://nayoo.co/khonkaen/posts/6256      610000      700000.0   \n",
              "1214  https://nayoo.co/khonkaen/posts/6257      295000      500000.0   \n",
              "1216  https://nayoo.co/khonkaen/posts/6258      615000      600000.0   \n",
              "1218  https://nayoo.co/khonkaen/posts/6260      620000      750000.0   \n",
              "\n",
              "      ประเมินโดย 2  \n",
              "1        2700000.0  \n",
              "3        2400000.0  \n",
              "5        9000000.0  \n",
              "7        3700000.0  \n",
              "9        2500000.0  \n",
              "...            ...  \n",
              "1210      300000.0  \n",
              "1212      500000.0  \n",
              "1214      300000.0  \n",
              "1216      500000.0  \n",
              "1218      700000.0  \n",
              "\n",
              "[498 rows x 4 columns]"
            ],
            "text/html": [
              "\n",
              "  <div id=\"df-d7095a9d-e94e-4217-8a4b-7ef72b2f4a99\">\n",
              "    <div class=\"colab-df-container\">\n",
              "      <div>\n",
              "<style scoped>\n",
              "    .dataframe tbody tr th:only-of-type {\n",
              "        vertical-align: middle;\n",
              "    }\n",
              "\n",
              "    .dataframe tbody tr th {\n",
              "        vertical-align: top;\n",
              "    }\n",
              "\n",
              "    .dataframe thead th {\n",
              "        text-align: right;\n",
              "    }\n",
              "</style>\n",
              "<table border=\"1\" class=\"dataframe\">\n",
              "  <thead>\n",
              "    <tr style=\"text-align: right;\">\n",
              "      <th></th>\n",
              "      <th>post id</th>\n",
              "      <th>ราคาทรัพย์</th>\n",
              "      <th>ประเมินโดย 1</th>\n",
              "      <th>ประเมินโดย 2</th>\n",
              "    </tr>\n",
              "  </thead>\n",
              "  <tbody>\n",
              "    <tr>\n",
              "      <th>1</th>\n",
              "      <td>https://nayoo.co/khonkaen/posts/25</td>\n",
              "      <td>2890000</td>\n",
              "      <td>2500000.0</td>\n",
              "      <td>2700000.0</td>\n",
              "    </tr>\n",
              "    <tr>\n",
              "      <th>3</th>\n",
              "      <td>https://nayoo.co/khonkaen/posts/33</td>\n",
              "      <td>2600000</td>\n",
              "      <td>2200000.0</td>\n",
              "      <td>2400000.0</td>\n",
              "    </tr>\n",
              "    <tr>\n",
              "      <th>5</th>\n",
              "      <td>https://nayoo.co/khonkaen/posts/495</td>\n",
              "      <td>6050000</td>\n",
              "      <td>5000000.0</td>\n",
              "      <td>9000000.0</td>\n",
              "    </tr>\n",
              "    <tr>\n",
              "      <th>7</th>\n",
              "      <td>https://nayoo.co/khonkaen/posts/564</td>\n",
              "      <td>4400000</td>\n",
              "      <td>3500000.0</td>\n",
              "      <td>3700000.0</td>\n",
              "    </tr>\n",
              "    <tr>\n",
              "      <th>9</th>\n",
              "      <td>https://nayoo.co/khonkaen/posts/566</td>\n",
              "      <td>2750000</td>\n",
              "      <td>2500000.0</td>\n",
              "      <td>2500000.0</td>\n",
              "    </tr>\n",
              "    <tr>\n",
              "      <th>...</th>\n",
              "      <td>...</td>\n",
              "      <td>...</td>\n",
              "      <td>...</td>\n",
              "      <td>...</td>\n",
              "    </tr>\n",
              "    <tr>\n",
              "      <th>1210</th>\n",
              "      <td>https://nayoo.co/khonkaen/posts/6255</td>\n",
              "      <td>260000</td>\n",
              "      <td>550000.0</td>\n",
              "      <td>300000.0</td>\n",
              "    </tr>\n",
              "    <tr>\n",
              "      <th>1212</th>\n",
              "      <td>https://nayoo.co/khonkaen/posts/6256</td>\n",
              "      <td>610000</td>\n",
              "      <td>700000.0</td>\n",
              "      <td>500000.0</td>\n",
              "    </tr>\n",
              "    <tr>\n",
              "      <th>1214</th>\n",
              "      <td>https://nayoo.co/khonkaen/posts/6257</td>\n",
              "      <td>295000</td>\n",
              "      <td>500000.0</td>\n",
              "      <td>300000.0</td>\n",
              "    </tr>\n",
              "    <tr>\n",
              "      <th>1216</th>\n",
              "      <td>https://nayoo.co/khonkaen/posts/6258</td>\n",
              "      <td>615000</td>\n",
              "      <td>600000.0</td>\n",
              "      <td>500000.0</td>\n",
              "    </tr>\n",
              "    <tr>\n",
              "      <th>1218</th>\n",
              "      <td>https://nayoo.co/khonkaen/posts/6260</td>\n",
              "      <td>620000</td>\n",
              "      <td>750000.0</td>\n",
              "      <td>700000.0</td>\n",
              "    </tr>\n",
              "  </tbody>\n",
              "</table>\n",
              "<p>498 rows × 4 columns</p>\n",
              "</div>\n",
              "      <button class=\"colab-df-convert\" onclick=\"convertToInteractive('df-d7095a9d-e94e-4217-8a4b-7ef72b2f4a99')\"\n",
              "              title=\"Convert this dataframe to an interactive table.\"\n",
              "              style=\"display:none;\">\n",
              "        \n",
              "  <svg xmlns=\"http://www.w3.org/2000/svg\" height=\"24px\"viewBox=\"0 0 24 24\"\n",
              "       width=\"24px\">\n",
              "    <path d=\"M0 0h24v24H0V0z\" fill=\"none\"/>\n",
              "    <path d=\"M18.56 5.44l.94 2.06.94-2.06 2.06-.94-2.06-.94-.94-2.06-.94 2.06-2.06.94zm-11 1L8.5 8.5l.94-2.06 2.06-.94-2.06-.94L8.5 2.5l-.94 2.06-2.06.94zm10 10l.94 2.06.94-2.06 2.06-.94-2.06-.94-.94-2.06-.94 2.06-2.06.94z\"/><path d=\"M17.41 7.96l-1.37-1.37c-.4-.4-.92-.59-1.43-.59-.52 0-1.04.2-1.43.59L10.3 9.45l-7.72 7.72c-.78.78-.78 2.05 0 2.83L4 21.41c.39.39.9.59 1.41.59.51 0 1.02-.2 1.41-.59l7.78-7.78 2.81-2.81c.8-.78.8-2.07 0-2.86zM5.41 20L4 18.59l7.72-7.72 1.47 1.35L5.41 20z\"/>\n",
              "  </svg>\n",
              "      </button>\n",
              "      \n",
              "  <style>\n",
              "    .colab-df-container {\n",
              "      display:flex;\n",
              "      flex-wrap:wrap;\n",
              "      gap: 12px;\n",
              "    }\n",
              "\n",
              "    .colab-df-convert {\n",
              "      background-color: #E8F0FE;\n",
              "      border: none;\n",
              "      border-radius: 50%;\n",
              "      cursor: pointer;\n",
              "      display: none;\n",
              "      fill: #1967D2;\n",
              "      height: 32px;\n",
              "      padding: 0 0 0 0;\n",
              "      width: 32px;\n",
              "    }\n",
              "\n",
              "    .colab-df-convert:hover {\n",
              "      background-color: #E2EBFA;\n",
              "      box-shadow: 0px 1px 2px rgba(60, 64, 67, 0.3), 0px 1px 3px 1px rgba(60, 64, 67, 0.15);\n",
              "      fill: #174EA6;\n",
              "    }\n",
              "\n",
              "    [theme=dark] .colab-df-convert {\n",
              "      background-color: #3B4455;\n",
              "      fill: #D2E3FC;\n",
              "    }\n",
              "\n",
              "    [theme=dark] .colab-df-convert:hover {\n",
              "      background-color: #434B5C;\n",
              "      box-shadow: 0px 1px 3px 1px rgba(0, 0, 0, 0.15);\n",
              "      filter: drop-shadow(0px 1px 2px rgba(0, 0, 0, 0.3));\n",
              "      fill: #FFFFFF;\n",
              "    }\n",
              "  </style>\n",
              "\n",
              "      <script>\n",
              "        const buttonEl =\n",
              "          document.querySelector('#df-d7095a9d-e94e-4217-8a4b-7ef72b2f4a99 button.colab-df-convert');\n",
              "        buttonEl.style.display =\n",
              "          google.colab.kernel.accessAllowed ? 'block' : 'none';\n",
              "\n",
              "        async function convertToInteractive(key) {\n",
              "          const element = document.querySelector('#df-d7095a9d-e94e-4217-8a4b-7ef72b2f4a99');\n",
              "          const dataTable =\n",
              "            await google.colab.kernel.invokeFunction('convertToInteractive',\n",
              "                                                     [key], {});\n",
              "          if (!dataTable) return;\n",
              "\n",
              "          const docLinkHtml = 'Like what you see? Visit the ' +\n",
              "            '<a target=\"_blank\" href=https://colab.research.google.com/notebooks/data_table.ipynb>data table notebook</a>'\n",
              "            + ' to learn more about interactive tables.';\n",
              "          element.innerHTML = '';\n",
              "          dataTable['output_type'] = 'display_data';\n",
              "          await google.colab.output.renderOutput(dataTable, element);\n",
              "          const docLink = document.createElement('div');\n",
              "          docLink.innerHTML = docLinkHtml;\n",
              "          element.appendChild(docLink);\n",
              "        }\n",
              "      </script>\n",
              "    </div>\n",
              "  </div>\n",
              "  "
            ]
          },
          "metadata": {},
          "execution_count": 33
        }
      ]
    },
    {
      "cell_type": "markdown",
      "source": [
        "เช็คและแก้ missing"
      ],
      "metadata": {
        "id": "tvfr9CyshWh4"
      }
    },
    {
      "cell_type": "code",
      "source": [
        "ass_h.isnull().any()"
      ],
      "metadata": {
        "colab": {
          "base_uri": "https://localhost:8080/"
        },
        "id": "FycMmD4PggmA",
        "outputId": "454c8595-0ce4-4cc7-a618-68b31f60beb6"
      },
      "execution_count": 34,
      "outputs": [
        {
          "output_type": "execute_result",
          "data": {
            "text/plain": [
              "post id         False\n",
              "ราคาทรัพย์      False\n",
              "ประเมินโดย 1    False\n",
              "ประเมินโดย 2    False\n",
              "dtype: bool"
            ]
          },
          "metadata": {},
          "execution_count": 34
        }
      ]
    },
    {
      "cell_type": "code",
      "source": [
        "# ass_h = ass_h.fillna(value={'ประเมินโดย 2':est2['ประเมินโดย 2'].mean()}) #ควร drop"
      ],
      "metadata": {
        "id": "ybzv9kA8g9zU"
      },
      "execution_count": 35,
      "outputs": []
    },
    {
      "cell_type": "code",
      "source": [
        "#ass_h = ass_h.dropna(subset=['ราคาทรัพย์','ประเมินโดย 2'])"
      ],
      "metadata": {
        "id": "Hp6UyIf2BVbn"
      },
      "execution_count": 36,
      "outputs": []
    },
    {
      "cell_type": "markdown",
      "source": [
        "ดูจากค่าอื่นๆ ที่ดินนี้อยู่ที่ไหน พื้นที่เท่าไหร่ ตร.ละเท่าไหร่ feature ต่างๆ เอาค่าพวกนี้มาสร้าง model ก่อน แล้วเอาค่าที่มีอยู่ มาทำนายค่าที่หายไป ## ดีเยี่ยม!!"
      ],
      "metadata": {
        "id": "ZS4mSfYQ-R0w"
      }
    },
    {
      "cell_type": "code",
      "source": [
        "#ass_h.isnull().any()"
      ],
      "metadata": {
        "id": "2u0I7maphKNv"
      },
      "execution_count": 37,
      "outputs": []
    },
    {
      "cell_type": "markdown",
      "source": [
        "### MAPE"
      ],
      "metadata": {
        "id": "6u4Otlmlk9Qo"
      }
    },
    {
      "cell_type": "code",
      "source": [
        "actual_h = pd.to_numeric(ass_h['ราคาทรัพย์'])\n",
        "pred_1h = ass_h['ประเมินโดย 1']\n",
        "pred_2h = ass_h['ประเมินโดย 2']"
      ],
      "metadata": {
        "id": "eEpfDapSZor0"
      },
      "execution_count": 38,
      "outputs": []
    },
    {
      "cell_type": "code",
      "source": [
        "mph1 = mape(actual_h,pred_1h)\n",
        "mph2 = mape(actual_h,pred_2h)\n",
        "mph12 = mape(pred_1h,pred_2h)\n",
        "mph21 = mape(pred_2h,pred_1h)"
      ],
      "metadata": {
        "id": "BzAJPKhDZor0"
      },
      "execution_count": 39,
      "outputs": []
    },
    {
      "cell_type": "code",
      "source": [
        "print(f' MAPE ราคาทรัพย์กับผู้ประเมินคนที่ 1 คือ {mph1*100:.2f}%\\n MAPE ราคาทรัพย์กับผู้ประเมินคนที่ 2 คือ {mph2*100:.2f}%\\n MAPE ราคาตั้งขายของผู้ประเมินคนที่ 1 กับ ผู้ประเมินคนที่ 2 คือ {mph12*100:.2f}%\\n MAPE ราคาตั้งขายของผู้ประเมินคนที่ 2 กับ ผู้ประเมินคนที่ 1 คือ {mph21*100:.2f}%')"
      ],
      "metadata": {
        "colab": {
          "base_uri": "https://localhost:8080/"
        },
        "id": "d5trXSqCmTOl",
        "outputId": "55827eb7-cbca-4615-9a7c-edb98d267da1"
      },
      "execution_count": 40,
      "outputs": [
        {
          "output_type": "stream",
          "name": "stdout",
          "text": [
            " MAPE ราคาทรัพย์กับผู้ประเมินคนที่ 1 คือ 11.91%\n",
            " MAPE ราคาทรัพย์กับผู้ประเมินคนที่ 2 คือ 13.87%\n",
            " MAPE ราคาตั้งขายของผู้ประเมินคนที่ 1 กับ ผู้ประเมินคนที่ 2 คือ 16.75%\n",
            " MAPE ราคาตั้งขายของผู้ประเมินคนที่ 2 กับ ผู้ประเมินคนที่ 1 คือ 12.37%\n"
          ]
        }
      ]
    },
    {
      "cell_type": "code",
      "source": [
        "id1 = house[house['ID ผู้ประเมิน']==1]\n",
        "id1 = id1.dropna(subset=['ราคาทรัพย์','ประเมินราคาซื้อ-ขาย'])\n",
        "id2 = house[house['ID ผู้ประเมิน']==2]\n",
        "id2 = id2.dropna(subset=['ราคาทรัพย์','ประเมินราคาซื้อ-ขาย'])\n",
        "id1MAPE = mape(id1['ประเมินราคาซื้อ-ขาย'],pd.to_numeric(id1['ราคาทรัพย์']))\n",
        "id2MAPE = mape(id2['ประเมินราคาซื้อ-ขาย'],pd.to_numeric(id2['ราคาทรัพย์']))\n",
        "print(f'ความแตกต่างระหว่างราคาประกาศขายและราคาประเมินของ\\nบ้าน\\nนักประเมิน คนที่ 1 = {id1MAPE*100:.2f}%\\nนักประเมิน คนที่ 2 = {id2MAPE*100:.2f}%')\n",
        "id2['ประเมิน2'] = id2['post id'].map(id1.set_index('post id')['ประเมินราคาซื้อ-ขาย'])\n",
        "id2_d = id2.dropna(subset=['ประเมินราคาซื้อ-ขาย','ประเมิน2','ราคาทรัพย์'])\n",
        "one2two = mape(id2_d['ประเมินราคาซื้อ-ขาย'],id2_d['ประเมิน2'])\n",
        "two2one = mape(id2_d['ประเมิน2'],id2_d['ประเมินราคาซื้อ-ขาย'])\n",
        "print(f'ความผิดพลาดระหว่างนักประเมินทั้ง {((one2two)+(two2one))*50:.2f}%')\n",
        "print(f'จำนวนทรัพย์ทั้งหมด {len(id2_d)} ทรัพย์')"
      ],
      "metadata": {
        "colab": {
          "base_uri": "https://localhost:8080/"
        },
        "id": "PQU5mlY7-t_u",
        "outputId": "d20512c3-0417-4dcc-9358-b76f0c20da02"
      },
      "execution_count": 41,
      "outputs": [
        {
          "output_type": "stream",
          "name": "stdout",
          "text": [
            "ความแตกต่างระหว่างราคาประกาศขายและราคาประเมินของ\n",
            "บ้าน\n",
            "นักประเมิน คนที่ 1 = 14.50%\n",
            "นักประเมิน คนที่ 2 = 11.14%\n",
            "ความผิดพลาดระหว่างนักประเมินทั้ง 14.56%\n",
            "จำนวนทรัพย์ทั้งหมด 498 ทรัพย์\n"
          ]
        }
      ]
    },
    {
      "cell_type": "markdown",
      "source": [
        "## Land"
      ],
      "metadata": {
        "id": "FscAd-5FUo_K"
      }
    },
    {
      "cell_type": "code",
      "source": [
        "est_2l['ประเมินโดย 1'] = est_2l['post id'].map(est_1l.set_index('post id')['ประเมินราคาซื้อ-ขาย'])\n",
        "est_2l.head(3)"
      ],
      "metadata": {
        "colab": {
          "base_uri": "https://localhost:8080/",
          "height": 361
        },
        "outputId": "8ed55cf3-bf29-4400-cb1b-678d162c3145",
        "id": "LH5JyR7wUo_K"
      },
      "execution_count": 42,
      "outputs": [
        {
          "output_type": "stream",
          "name": "stderr",
          "text": [
            "<ipython-input-42-8ea92906a684>:1: SettingWithCopyWarning: \n",
            "A value is trying to be set on a copy of a slice from a DataFrame.\n",
            "Try using .loc[row_indexer,col_indexer] = value instead\n",
            "\n",
            "See the caveats in the documentation: https://pandas.pydata.org/pandas-docs/stable/user_guide/indexing.html#returning-a-view-versus-a-copy\n",
            "  est_2l['ประเมินโดย 1'] = est_2l['post id'].map(est_1l.set_index('post id')['ประเมินราคาซื้อ-ขาย'])\n"
          ]
        },
        {
          "output_type": "execute_result",
          "data": {
            "text/plain": [
              "   ID ผู้ประเมิน                               post id property_type  \\\n",
              "1              2  https://nayoo.co/khonkaen/posts/1033        ที่ดิน   \n",
              "4              2  https://nayoo.co/khonkaen/posts/1711        ที่ดิน   \n",
              "7              2  https://nayoo.co/khonkaen/posts/1726        ที่ดิน   \n",
              "\n",
              "  ความมั่นใจในการเมินราคาทรัพย์  ราคาทรัพย์  ประเมินราคาซื้อ-ขาย  \\\n",
              "1                        มั่นใจ     2800000            2000000.0   \n",
              "4                        มั่นใจ    14900000           12000000.0   \n",
              "7                        มั่นใจ    90000000           70000000.0   \n",
              "\n",
              "            ปัจจัยในการประเมินราคาซื้อ-ขาย เหตุผลไม่มั่นใจราคาประเมิน  \\\n",
              "1    ราคาเสนอขาย 7,000-12,0000 บาท/ตารางวา                        NaN   \n",
              "4  ราคาเสนอขาย 100,000-150,000 บาท/ตารางวา                        NaN   \n",
              "7                30,000-40,000 บาท/ตารางวา                        NaN   \n",
              "\n",
              "                       ให้คะแนนทรัพย์  ประเมินโดย 1  \n",
              "1  2 ขายได้ยาก ใช้ระยะเวลามากว่า 1 ปี     1800000.0  \n",
              "4  2 ขายได้ยาก ใช้ระยะเวลามากว่า 1 ปี     8000000.0  \n",
              "7  2 ขายได้ยาก ใช้ระยะเวลามากว่า 1 ปี    18000000.0  "
            ],
            "text/html": [
              "\n",
              "  <div id=\"df-170bfef4-4ab8-4c47-94cb-5c214633a88e\">\n",
              "    <div class=\"colab-df-container\">\n",
              "      <div>\n",
              "<style scoped>\n",
              "    .dataframe tbody tr th:only-of-type {\n",
              "        vertical-align: middle;\n",
              "    }\n",
              "\n",
              "    .dataframe tbody tr th {\n",
              "        vertical-align: top;\n",
              "    }\n",
              "\n",
              "    .dataframe thead th {\n",
              "        text-align: right;\n",
              "    }\n",
              "</style>\n",
              "<table border=\"1\" class=\"dataframe\">\n",
              "  <thead>\n",
              "    <tr style=\"text-align: right;\">\n",
              "      <th></th>\n",
              "      <th>ID ผู้ประเมิน</th>\n",
              "      <th>post id</th>\n",
              "      <th>property_type</th>\n",
              "      <th>ความมั่นใจในการเมินราคาทรัพย์</th>\n",
              "      <th>ราคาทรัพย์</th>\n",
              "      <th>ประเมินราคาซื้อ-ขาย</th>\n",
              "      <th>ปัจจัยในการประเมินราคาซื้อ-ขาย</th>\n",
              "      <th>เหตุผลไม่มั่นใจราคาประเมิน</th>\n",
              "      <th>ให้คะแนนทรัพย์</th>\n",
              "      <th>ประเมินโดย 1</th>\n",
              "    </tr>\n",
              "  </thead>\n",
              "  <tbody>\n",
              "    <tr>\n",
              "      <th>1</th>\n",
              "      <td>2</td>\n",
              "      <td>https://nayoo.co/khonkaen/posts/1033</td>\n",
              "      <td>ที่ดิน</td>\n",
              "      <td>มั่นใจ</td>\n",
              "      <td>2800000</td>\n",
              "      <td>2000000.0</td>\n",
              "      <td>ราคาเสนอขาย 7,000-12,0000 บาท/ตารางวา</td>\n",
              "      <td>NaN</td>\n",
              "      <td>2 ขายได้ยาก ใช้ระยะเวลามากว่า 1 ปี</td>\n",
              "      <td>1800000.0</td>\n",
              "    </tr>\n",
              "    <tr>\n",
              "      <th>4</th>\n",
              "      <td>2</td>\n",
              "      <td>https://nayoo.co/khonkaen/posts/1711</td>\n",
              "      <td>ที่ดิน</td>\n",
              "      <td>มั่นใจ</td>\n",
              "      <td>14900000</td>\n",
              "      <td>12000000.0</td>\n",
              "      <td>ราคาเสนอขาย 100,000-150,000 บาท/ตารางวา</td>\n",
              "      <td>NaN</td>\n",
              "      <td>2 ขายได้ยาก ใช้ระยะเวลามากว่า 1 ปี</td>\n",
              "      <td>8000000.0</td>\n",
              "    </tr>\n",
              "    <tr>\n",
              "      <th>7</th>\n",
              "      <td>2</td>\n",
              "      <td>https://nayoo.co/khonkaen/posts/1726</td>\n",
              "      <td>ที่ดิน</td>\n",
              "      <td>มั่นใจ</td>\n",
              "      <td>90000000</td>\n",
              "      <td>70000000.0</td>\n",
              "      <td>30,000-40,000 บาท/ตารางวา</td>\n",
              "      <td>NaN</td>\n",
              "      <td>2 ขายได้ยาก ใช้ระยะเวลามากว่า 1 ปี</td>\n",
              "      <td>18000000.0</td>\n",
              "    </tr>\n",
              "  </tbody>\n",
              "</table>\n",
              "</div>\n",
              "      <button class=\"colab-df-convert\" onclick=\"convertToInteractive('df-170bfef4-4ab8-4c47-94cb-5c214633a88e')\"\n",
              "              title=\"Convert this dataframe to an interactive table.\"\n",
              "              style=\"display:none;\">\n",
              "        \n",
              "  <svg xmlns=\"http://www.w3.org/2000/svg\" height=\"24px\"viewBox=\"0 0 24 24\"\n",
              "       width=\"24px\">\n",
              "    <path d=\"M0 0h24v24H0V0z\" fill=\"none\"/>\n",
              "    <path d=\"M18.56 5.44l.94 2.06.94-2.06 2.06-.94-2.06-.94-.94-2.06-.94 2.06-2.06.94zm-11 1L8.5 8.5l.94-2.06 2.06-.94-2.06-.94L8.5 2.5l-.94 2.06-2.06.94zm10 10l.94 2.06.94-2.06 2.06-.94-2.06-.94-.94-2.06-.94 2.06-2.06.94z\"/><path d=\"M17.41 7.96l-1.37-1.37c-.4-.4-.92-.59-1.43-.59-.52 0-1.04.2-1.43.59L10.3 9.45l-7.72 7.72c-.78.78-.78 2.05 0 2.83L4 21.41c.39.39.9.59 1.41.59.51 0 1.02-.2 1.41-.59l7.78-7.78 2.81-2.81c.8-.78.8-2.07 0-2.86zM5.41 20L4 18.59l7.72-7.72 1.47 1.35L5.41 20z\"/>\n",
              "  </svg>\n",
              "      </button>\n",
              "      \n",
              "  <style>\n",
              "    .colab-df-container {\n",
              "      display:flex;\n",
              "      flex-wrap:wrap;\n",
              "      gap: 12px;\n",
              "    }\n",
              "\n",
              "    .colab-df-convert {\n",
              "      background-color: #E8F0FE;\n",
              "      border: none;\n",
              "      border-radius: 50%;\n",
              "      cursor: pointer;\n",
              "      display: none;\n",
              "      fill: #1967D2;\n",
              "      height: 32px;\n",
              "      padding: 0 0 0 0;\n",
              "      width: 32px;\n",
              "    }\n",
              "\n",
              "    .colab-df-convert:hover {\n",
              "      background-color: #E2EBFA;\n",
              "      box-shadow: 0px 1px 2px rgba(60, 64, 67, 0.3), 0px 1px 3px 1px rgba(60, 64, 67, 0.15);\n",
              "      fill: #174EA6;\n",
              "    }\n",
              "\n",
              "    [theme=dark] .colab-df-convert {\n",
              "      background-color: #3B4455;\n",
              "      fill: #D2E3FC;\n",
              "    }\n",
              "\n",
              "    [theme=dark] .colab-df-convert:hover {\n",
              "      background-color: #434B5C;\n",
              "      box-shadow: 0px 1px 3px 1px rgba(0, 0, 0, 0.15);\n",
              "      filter: drop-shadow(0px 1px 2px rgba(0, 0, 0, 0.3));\n",
              "      fill: #FFFFFF;\n",
              "    }\n",
              "  </style>\n",
              "\n",
              "      <script>\n",
              "        const buttonEl =\n",
              "          document.querySelector('#df-170bfef4-4ab8-4c47-94cb-5c214633a88e button.colab-df-convert');\n",
              "        buttonEl.style.display =\n",
              "          google.colab.kernel.accessAllowed ? 'block' : 'none';\n",
              "\n",
              "        async function convertToInteractive(key) {\n",
              "          const element = document.querySelector('#df-170bfef4-4ab8-4c47-94cb-5c214633a88e');\n",
              "          const dataTable =\n",
              "            await google.colab.kernel.invokeFunction('convertToInteractive',\n",
              "                                                     [key], {});\n",
              "          if (!dataTable) return;\n",
              "\n",
              "          const docLinkHtml = 'Like what you see? Visit the ' +\n",
              "            '<a target=\"_blank\" href=https://colab.research.google.com/notebooks/data_table.ipynb>data table notebook</a>'\n",
              "            + ' to learn more about interactive tables.';\n",
              "          element.innerHTML = '';\n",
              "          dataTable['output_type'] = 'display_data';\n",
              "          await google.colab.output.renderOutput(dataTable, element);\n",
              "          const docLink = document.createElement('div');\n",
              "          docLink.innerHTML = docLinkHtml;\n",
              "          element.appendChild(docLink);\n",
              "        }\n",
              "      </script>\n",
              "    </div>\n",
              "  </div>\n",
              "  "
            ]
          },
          "metadata": {},
          "execution_count": 42
        }
      ]
    },
    {
      "cell_type": "code",
      "source": [
        "est_2l.rename(columns={'ประเมินราคาซื้อ-ขาย' :'ประเมินโดย 2'}, inplace=True)"
      ],
      "metadata": {
        "colab": {
          "base_uri": "https://localhost:8080/"
        },
        "outputId": "61d9964f-fcef-49bc-dcc2-9aaa62868625",
        "id": "F38rRkj9Uo_L"
      },
      "execution_count": 43,
      "outputs": [
        {
          "output_type": "stream",
          "name": "stderr",
          "text": [
            "/usr/local/lib/python3.8/dist-packages/pandas/core/frame.py:5039: SettingWithCopyWarning: \n",
            "A value is trying to be set on a copy of a slice from a DataFrame\n",
            "\n",
            "See the caveats in the documentation: https://pandas.pydata.org/pandas-docs/stable/user_guide/indexing.html#returning-a-view-versus-a-copy\n",
            "  return super().rename(\n"
          ]
        }
      ]
    },
    {
      "cell_type": "code",
      "source": [
        "ass_l = est_2l[['post id','ราคาทรัพย์','ประเมินโดย 1','ประเมินโดย 2']]\n",
        "ass_l"
      ],
      "metadata": {
        "colab": {
          "base_uri": "https://localhost:8080/",
          "height": 424
        },
        "outputId": "7a9bc831-9e33-42e3-e9a0-9c9f47eaf239",
        "id": "u4lOL4KFUo_L"
      },
      "execution_count": 44,
      "outputs": [
        {
          "output_type": "execute_result",
          "data": {
            "text/plain": [
              "                                   post id  ราคาทรัพย์  ประเมินโดย 1  \\\n",
              "1     https://nayoo.co/khonkaen/posts/1033     2800000     1800000.0   \n",
              "4     https://nayoo.co/khonkaen/posts/1711    14900000     8000000.0   \n",
              "7     https://nayoo.co/khonkaen/posts/1726    90000000    18000000.0   \n",
              "10    https://nayoo.co/khonkaen/posts/1732    65000000    35000000.0   \n",
              "13    https://nayoo.co/khonkaen/posts/1866     3000000     2200000.0   \n",
              "..                                     ...         ...           ...   \n",
              "200  https://nayoo.co/khonkaen/posts/14539     5000000     4000000.0   \n",
              "202  https://nayoo.co/khonkaen/posts/16072      750000      500000.0   \n",
              "204  https://nayoo.co/khonkaen/posts/17093     2650000     2000000.0   \n",
              "206  https://nayoo.co/khonkaen/posts/17112     1300000     1500000.0   \n",
              "208  https://nayoo.co/khonkaen/posts/17145     3000000     2500000.0   \n",
              "\n",
              "     ประเมินโดย 2  \n",
              "1       2000000.0  \n",
              "4      12000000.0  \n",
              "7      70000000.0  \n",
              "10     60000000.0  \n",
              "13      2500000.0  \n",
              "..            ...  \n",
              "200     4000000.0  \n",
              "202      750000.0  \n",
              "204     2500000.0  \n",
              "206     1500000.0  \n",
              "208     2800000.0  \n",
              "\n",
              "[100 rows x 4 columns]"
            ],
            "text/html": [
              "\n",
              "  <div id=\"df-5f8fa650-157b-4900-adb0-649edc15d9e0\">\n",
              "    <div class=\"colab-df-container\">\n",
              "      <div>\n",
              "<style scoped>\n",
              "    .dataframe tbody tr th:only-of-type {\n",
              "        vertical-align: middle;\n",
              "    }\n",
              "\n",
              "    .dataframe tbody tr th {\n",
              "        vertical-align: top;\n",
              "    }\n",
              "\n",
              "    .dataframe thead th {\n",
              "        text-align: right;\n",
              "    }\n",
              "</style>\n",
              "<table border=\"1\" class=\"dataframe\">\n",
              "  <thead>\n",
              "    <tr style=\"text-align: right;\">\n",
              "      <th></th>\n",
              "      <th>post id</th>\n",
              "      <th>ราคาทรัพย์</th>\n",
              "      <th>ประเมินโดย 1</th>\n",
              "      <th>ประเมินโดย 2</th>\n",
              "    </tr>\n",
              "  </thead>\n",
              "  <tbody>\n",
              "    <tr>\n",
              "      <th>1</th>\n",
              "      <td>https://nayoo.co/khonkaen/posts/1033</td>\n",
              "      <td>2800000</td>\n",
              "      <td>1800000.0</td>\n",
              "      <td>2000000.0</td>\n",
              "    </tr>\n",
              "    <tr>\n",
              "      <th>4</th>\n",
              "      <td>https://nayoo.co/khonkaen/posts/1711</td>\n",
              "      <td>14900000</td>\n",
              "      <td>8000000.0</td>\n",
              "      <td>12000000.0</td>\n",
              "    </tr>\n",
              "    <tr>\n",
              "      <th>7</th>\n",
              "      <td>https://nayoo.co/khonkaen/posts/1726</td>\n",
              "      <td>90000000</td>\n",
              "      <td>18000000.0</td>\n",
              "      <td>70000000.0</td>\n",
              "    </tr>\n",
              "    <tr>\n",
              "      <th>10</th>\n",
              "      <td>https://nayoo.co/khonkaen/posts/1732</td>\n",
              "      <td>65000000</td>\n",
              "      <td>35000000.0</td>\n",
              "      <td>60000000.0</td>\n",
              "    </tr>\n",
              "    <tr>\n",
              "      <th>13</th>\n",
              "      <td>https://nayoo.co/khonkaen/posts/1866</td>\n",
              "      <td>3000000</td>\n",
              "      <td>2200000.0</td>\n",
              "      <td>2500000.0</td>\n",
              "    </tr>\n",
              "    <tr>\n",
              "      <th>...</th>\n",
              "      <td>...</td>\n",
              "      <td>...</td>\n",
              "      <td>...</td>\n",
              "      <td>...</td>\n",
              "    </tr>\n",
              "    <tr>\n",
              "      <th>200</th>\n",
              "      <td>https://nayoo.co/khonkaen/posts/14539</td>\n",
              "      <td>5000000</td>\n",
              "      <td>4000000.0</td>\n",
              "      <td>4000000.0</td>\n",
              "    </tr>\n",
              "    <tr>\n",
              "      <th>202</th>\n",
              "      <td>https://nayoo.co/khonkaen/posts/16072</td>\n",
              "      <td>750000</td>\n",
              "      <td>500000.0</td>\n",
              "      <td>750000.0</td>\n",
              "    </tr>\n",
              "    <tr>\n",
              "      <th>204</th>\n",
              "      <td>https://nayoo.co/khonkaen/posts/17093</td>\n",
              "      <td>2650000</td>\n",
              "      <td>2000000.0</td>\n",
              "      <td>2500000.0</td>\n",
              "    </tr>\n",
              "    <tr>\n",
              "      <th>206</th>\n",
              "      <td>https://nayoo.co/khonkaen/posts/17112</td>\n",
              "      <td>1300000</td>\n",
              "      <td>1500000.0</td>\n",
              "      <td>1500000.0</td>\n",
              "    </tr>\n",
              "    <tr>\n",
              "      <th>208</th>\n",
              "      <td>https://nayoo.co/khonkaen/posts/17145</td>\n",
              "      <td>3000000</td>\n",
              "      <td>2500000.0</td>\n",
              "      <td>2800000.0</td>\n",
              "    </tr>\n",
              "  </tbody>\n",
              "</table>\n",
              "<p>100 rows × 4 columns</p>\n",
              "</div>\n",
              "      <button class=\"colab-df-convert\" onclick=\"convertToInteractive('df-5f8fa650-157b-4900-adb0-649edc15d9e0')\"\n",
              "              title=\"Convert this dataframe to an interactive table.\"\n",
              "              style=\"display:none;\">\n",
              "        \n",
              "  <svg xmlns=\"http://www.w3.org/2000/svg\" height=\"24px\"viewBox=\"0 0 24 24\"\n",
              "       width=\"24px\">\n",
              "    <path d=\"M0 0h24v24H0V0z\" fill=\"none\"/>\n",
              "    <path d=\"M18.56 5.44l.94 2.06.94-2.06 2.06-.94-2.06-.94-.94-2.06-.94 2.06-2.06.94zm-11 1L8.5 8.5l.94-2.06 2.06-.94-2.06-.94L8.5 2.5l-.94 2.06-2.06.94zm10 10l.94 2.06.94-2.06 2.06-.94-2.06-.94-.94-2.06-.94 2.06-2.06.94z\"/><path d=\"M17.41 7.96l-1.37-1.37c-.4-.4-.92-.59-1.43-.59-.52 0-1.04.2-1.43.59L10.3 9.45l-7.72 7.72c-.78.78-.78 2.05 0 2.83L4 21.41c.39.39.9.59 1.41.59.51 0 1.02-.2 1.41-.59l7.78-7.78 2.81-2.81c.8-.78.8-2.07 0-2.86zM5.41 20L4 18.59l7.72-7.72 1.47 1.35L5.41 20z\"/>\n",
              "  </svg>\n",
              "      </button>\n",
              "      \n",
              "  <style>\n",
              "    .colab-df-container {\n",
              "      display:flex;\n",
              "      flex-wrap:wrap;\n",
              "      gap: 12px;\n",
              "    }\n",
              "\n",
              "    .colab-df-convert {\n",
              "      background-color: #E8F0FE;\n",
              "      border: none;\n",
              "      border-radius: 50%;\n",
              "      cursor: pointer;\n",
              "      display: none;\n",
              "      fill: #1967D2;\n",
              "      height: 32px;\n",
              "      padding: 0 0 0 0;\n",
              "      width: 32px;\n",
              "    }\n",
              "\n",
              "    .colab-df-convert:hover {\n",
              "      background-color: #E2EBFA;\n",
              "      box-shadow: 0px 1px 2px rgba(60, 64, 67, 0.3), 0px 1px 3px 1px rgba(60, 64, 67, 0.15);\n",
              "      fill: #174EA6;\n",
              "    }\n",
              "\n",
              "    [theme=dark] .colab-df-convert {\n",
              "      background-color: #3B4455;\n",
              "      fill: #D2E3FC;\n",
              "    }\n",
              "\n",
              "    [theme=dark] .colab-df-convert:hover {\n",
              "      background-color: #434B5C;\n",
              "      box-shadow: 0px 1px 3px 1px rgba(0, 0, 0, 0.15);\n",
              "      filter: drop-shadow(0px 1px 2px rgba(0, 0, 0, 0.3));\n",
              "      fill: #FFFFFF;\n",
              "    }\n",
              "  </style>\n",
              "\n",
              "      <script>\n",
              "        const buttonEl =\n",
              "          document.querySelector('#df-5f8fa650-157b-4900-adb0-649edc15d9e0 button.colab-df-convert');\n",
              "        buttonEl.style.display =\n",
              "          google.colab.kernel.accessAllowed ? 'block' : 'none';\n",
              "\n",
              "        async function convertToInteractive(key) {\n",
              "          const element = document.querySelector('#df-5f8fa650-157b-4900-adb0-649edc15d9e0');\n",
              "          const dataTable =\n",
              "            await google.colab.kernel.invokeFunction('convertToInteractive',\n",
              "                                                     [key], {});\n",
              "          if (!dataTable) return;\n",
              "\n",
              "          const docLinkHtml = 'Like what you see? Visit the ' +\n",
              "            '<a target=\"_blank\" href=https://colab.research.google.com/notebooks/data_table.ipynb>data table notebook</a>'\n",
              "            + ' to learn more about interactive tables.';\n",
              "          element.innerHTML = '';\n",
              "          dataTable['output_type'] = 'display_data';\n",
              "          await google.colab.output.renderOutput(dataTable, element);\n",
              "          const docLink = document.createElement('div');\n",
              "          docLink.innerHTML = docLinkHtml;\n",
              "          element.appendChild(docLink);\n",
              "        }\n",
              "      </script>\n",
              "    </div>\n",
              "  </div>\n",
              "  "
            ]
          },
          "metadata": {},
          "execution_count": 44
        }
      ]
    },
    {
      "cell_type": "markdown",
      "source": [
        "เช็คและแก้ missing"
      ],
      "metadata": {
        "id": "c3iKYr1hUo_L"
      }
    },
    {
      "cell_type": "code",
      "source": [
        "ass_l.isnull().any()"
      ],
      "metadata": {
        "colab": {
          "base_uri": "https://localhost:8080/"
        },
        "outputId": "414d3bc1-161b-40ef-ce2c-1ef4f46c575f",
        "id": "RtOFgF3HUo_L"
      },
      "execution_count": 45,
      "outputs": [
        {
          "output_type": "execute_result",
          "data": {
            "text/plain": [
              "post id         False\n",
              "ราคาทรัพย์      False\n",
              "ประเมินโดย 1    False\n",
              "ประเมินโดย 2    False\n",
              "dtype: bool"
            ]
          },
          "metadata": {},
          "execution_count": 45
        }
      ]
    },
    {
      "cell_type": "markdown",
      "source": [
        "### MAPE"
      ],
      "metadata": {
        "id": "JvsMvhrMUo_L"
      }
    },
    {
      "cell_type": "code",
      "source": [
        "actual_l = ass_l[['ราคาทรัพย์']]\n",
        "pred_1l = ass_l[['ประเมินโดย 1']]\n",
        "pred_2l = ass_l[['ประเมินโดย 2']]"
      ],
      "metadata": {
        "id": "tidvbAbkUo_M"
      },
      "execution_count": 46,
      "outputs": []
    },
    {
      "cell_type": "code",
      "source": [
        "mpl1 = mape(actual_l,pred_1l)\n",
        "mpl2 = mape(actual_l,pred_2l)\n",
        "mpl12 = mape(pred_1l,pred_2l)\n",
        "mpl21 = mape(pred_2l,pred_1l)"
      ],
      "metadata": {
        "id": "q5uvVSJzUo_M"
      },
      "execution_count": 47,
      "outputs": []
    },
    {
      "cell_type": "code",
      "source": [
        "print(f' MAPE ราคาทรัพย์กับผู้ประเมินคนที่ 1 คือ {mpl1:.2f}\\n MAPE ราคาทรัพย์กับผู้ประเมินคนที่ 2 คือ {mpl2:.2f}\\n MAPE ราคาตั้งขายของผู้ประเมินคนที่ 1 กับ ผู้ประเมินคนที่ 2 คือ {mpl12:.2f}\\n MAPEราคาตั้งขายของผู้ประเมินคนที่ 2 กับ ผู้ประเมินคนที่ 1 คือ {mpl21:.2f}')"
      ],
      "metadata": {
        "colab": {
          "base_uri": "https://localhost:8080/"
        },
        "outputId": "097f2ae6-a836-4e96-969d-cf2ac076b138",
        "id": "Eq0x1bdKUo_M"
      },
      "execution_count": 48,
      "outputs": [
        {
          "output_type": "stream",
          "name": "stdout",
          "text": [
            " MAPE ราคาทรัพย์กับผู้ประเมินคนที่ 1 คือ 0.41\n",
            " MAPE ราคาทรัพย์กับผู้ประเมินคนที่ 2 คือ 0.40\n",
            " MAPE ราคาตั้งขายของผู้ประเมินคนที่ 1 กับ ผู้ประเมินคนที่ 2 คือ 0.74\n",
            " MAPEราคาตั้งขายของผู้ประเมินคนที่ 2 กับ ผู้ประเมินคนที่ 1 คือ 0.43\n"
          ]
        }
      ]
    },
    {
      "cell_type": "code",
      "source": [
        "idl1 = land[land['ID ผู้ประเมิน']==1]\n",
        "idl1 = idl1.dropna(subset=['ราคาทรัพย์','ประเมินราคาซื้อ-ขาย'])\n",
        "idl2 = land[land['ID ผู้ประเมิน']==2]\n",
        "idl2 = idl2.dropna(subset=['ราคาทรัพย์','ประเมินราคาซื้อ-ขาย'])\n",
        "idl1MAPE = mape(idl1['ประเมินราคาซื้อ-ขาย'],pd.to_numeric(idl1['ราคาทรัพย์']))\n",
        "idl2MAPE = mape(idl2['ประเมินราคาซื้อ-ขาย'],pd.to_numeric(idl2['ราคาทรัพย์']))\n",
        "print(f'ความแตกต่างระหว่างราคาประกาศขายและราคาประเมินของ\\nบ้าน\\nนักประเมิน คนที่ 1 = {idl1MAPE*100:.2f}%\\nนักประเมิน คนที่ 2 = {idl2MAPE*100:.2f}%')\n",
        "idl2['ประเมิน2'] = idl2['post id'].map(idl1.set_index('post id')['ประเมินราคาซื้อ-ขาย'])\n",
        "id2_l = idl2.dropna(subset=['ประเมินราคาซื้อ-ขาย','ประเมิน2','ราคาทรัพย์'])\n",
        "one2twol = mape(id2_l['ประเมินราคาซื้อ-ขาย'],id2_l['ประเมิน2'])\n",
        "two2onel = mape(id2_l['ประเมิน2'],id2_l['ประเมินราคาซื้อ-ขาย'])\n",
        "print(f'ความผิดพลาดระหว่างนักประเมินทั้ง {((one2twol)+(two2onel))*50:.2f}%')\n",
        "print(f'จำนวนทรัพย์ทั้งหมด {len(id2_l)} ทรัพย์')"
      ],
      "metadata": {
        "colab": {
          "base_uri": "https://localhost:8080/"
        },
        "id": "Dlu90Xlx-5N7",
        "outputId": "6c9711d1-9d06-4ac6-dd59-a516a51ac2f3"
      },
      "execution_count": 49,
      "outputs": [
        {
          "output_type": "stream",
          "name": "stdout",
          "text": [
            "ความแตกต่างระหว่างราคาประกาศขายและราคาประเมินของ\n",
            "บ้าน\n",
            "นักประเมิน คนที่ 1 = 79.74%\n",
            "นักประเมิน คนที่ 2 = 43.70%\n",
            "ความผิดพลาดระหว่างนักประเมินทั้ง 58.41%\n",
            "จำนวนทรัพย์ทั้งหมด 100 ทรัพย์\n"
          ]
        }
      ]
    },
    {
      "cell_type": "markdown",
      "source": [
        "## Condo"
      ],
      "metadata": {
        "id": "tGD74IxaqQOm"
      }
    },
    {
      "cell_type": "code",
      "source": [
        "condo.rename(columns={'ประเมินราคาซื้อ-ขาย' :'ประเมินโดย 1'}, inplace=True)"
      ],
      "metadata": {
        "id": "8q0kEMRMXjUU"
      },
      "execution_count": 50,
      "outputs": []
    },
    {
      "cell_type": "code",
      "source": [
        "ass_c = condo[['post id','ราคาทรัพย์','ประเมินโดย 1']]\n",
        "ass_c"
      ],
      "metadata": {
        "outputId": "77092e6f-dfe0-4ed7-99bc-1bf50a8d4158",
        "colab": {
          "base_uri": "https://localhost:8080/",
          "height": 363
        },
        "id": "wi4WwLQuqgLT"
      },
      "execution_count": 51,
      "outputs": [
        {
          "output_type": "execute_result",
          "data": {
            "text/plain": [
              "   post id  ราคาทรัพย์  ประเมินโดย 1\n",
              "0     32.0     3500000     3500000.0\n",
              "1     36.0     1930000     2200000.0\n",
              "2    603.0     2438000     2800000.0\n",
              "3   1395.0     1600000     2300000.0\n",
              "4   1443.0     1860000     1800000.0\n",
              "5   1609.0     1490000     1500000.0\n",
              "6   1640.0     1280000     1600000.0\n",
              "7   1641.0     4290000     2700000.0\n",
              "8   1650.0     1700000     1550000.0\n",
              "9   1840.0     3790000     2800000.0"
            ],
            "text/html": [
              "\n",
              "  <div id=\"df-e9b24312-f20b-4185-9930-81200dacd8ec\">\n",
              "    <div class=\"colab-df-container\">\n",
              "      <div>\n",
              "<style scoped>\n",
              "    .dataframe tbody tr th:only-of-type {\n",
              "        vertical-align: middle;\n",
              "    }\n",
              "\n",
              "    .dataframe tbody tr th {\n",
              "        vertical-align: top;\n",
              "    }\n",
              "\n",
              "    .dataframe thead th {\n",
              "        text-align: right;\n",
              "    }\n",
              "</style>\n",
              "<table border=\"1\" class=\"dataframe\">\n",
              "  <thead>\n",
              "    <tr style=\"text-align: right;\">\n",
              "      <th></th>\n",
              "      <th>post id</th>\n",
              "      <th>ราคาทรัพย์</th>\n",
              "      <th>ประเมินโดย 1</th>\n",
              "    </tr>\n",
              "  </thead>\n",
              "  <tbody>\n",
              "    <tr>\n",
              "      <th>0</th>\n",
              "      <td>32.0</td>\n",
              "      <td>3500000</td>\n",
              "      <td>3500000.0</td>\n",
              "    </tr>\n",
              "    <tr>\n",
              "      <th>1</th>\n",
              "      <td>36.0</td>\n",
              "      <td>1930000</td>\n",
              "      <td>2200000.0</td>\n",
              "    </tr>\n",
              "    <tr>\n",
              "      <th>2</th>\n",
              "      <td>603.0</td>\n",
              "      <td>2438000</td>\n",
              "      <td>2800000.0</td>\n",
              "    </tr>\n",
              "    <tr>\n",
              "      <th>3</th>\n",
              "      <td>1395.0</td>\n",
              "      <td>1600000</td>\n",
              "      <td>2300000.0</td>\n",
              "    </tr>\n",
              "    <tr>\n",
              "      <th>4</th>\n",
              "      <td>1443.0</td>\n",
              "      <td>1860000</td>\n",
              "      <td>1800000.0</td>\n",
              "    </tr>\n",
              "    <tr>\n",
              "      <th>5</th>\n",
              "      <td>1609.0</td>\n",
              "      <td>1490000</td>\n",
              "      <td>1500000.0</td>\n",
              "    </tr>\n",
              "    <tr>\n",
              "      <th>6</th>\n",
              "      <td>1640.0</td>\n",
              "      <td>1280000</td>\n",
              "      <td>1600000.0</td>\n",
              "    </tr>\n",
              "    <tr>\n",
              "      <th>7</th>\n",
              "      <td>1641.0</td>\n",
              "      <td>4290000</td>\n",
              "      <td>2700000.0</td>\n",
              "    </tr>\n",
              "    <tr>\n",
              "      <th>8</th>\n",
              "      <td>1650.0</td>\n",
              "      <td>1700000</td>\n",
              "      <td>1550000.0</td>\n",
              "    </tr>\n",
              "    <tr>\n",
              "      <th>9</th>\n",
              "      <td>1840.0</td>\n",
              "      <td>3790000</td>\n",
              "      <td>2800000.0</td>\n",
              "    </tr>\n",
              "  </tbody>\n",
              "</table>\n",
              "</div>\n",
              "      <button class=\"colab-df-convert\" onclick=\"convertToInteractive('df-e9b24312-f20b-4185-9930-81200dacd8ec')\"\n",
              "              title=\"Convert this dataframe to an interactive table.\"\n",
              "              style=\"display:none;\">\n",
              "        \n",
              "  <svg xmlns=\"http://www.w3.org/2000/svg\" height=\"24px\"viewBox=\"0 0 24 24\"\n",
              "       width=\"24px\">\n",
              "    <path d=\"M0 0h24v24H0V0z\" fill=\"none\"/>\n",
              "    <path d=\"M18.56 5.44l.94 2.06.94-2.06 2.06-.94-2.06-.94-.94-2.06-.94 2.06-2.06.94zm-11 1L8.5 8.5l.94-2.06 2.06-.94-2.06-.94L8.5 2.5l-.94 2.06-2.06.94zm10 10l.94 2.06.94-2.06 2.06-.94-2.06-.94-.94-2.06-.94 2.06-2.06.94z\"/><path d=\"M17.41 7.96l-1.37-1.37c-.4-.4-.92-.59-1.43-.59-.52 0-1.04.2-1.43.59L10.3 9.45l-7.72 7.72c-.78.78-.78 2.05 0 2.83L4 21.41c.39.39.9.59 1.41.59.51 0 1.02-.2 1.41-.59l7.78-7.78 2.81-2.81c.8-.78.8-2.07 0-2.86zM5.41 20L4 18.59l7.72-7.72 1.47 1.35L5.41 20z\"/>\n",
              "  </svg>\n",
              "      </button>\n",
              "      \n",
              "  <style>\n",
              "    .colab-df-container {\n",
              "      display:flex;\n",
              "      flex-wrap:wrap;\n",
              "      gap: 12px;\n",
              "    }\n",
              "\n",
              "    .colab-df-convert {\n",
              "      background-color: #E8F0FE;\n",
              "      border: none;\n",
              "      border-radius: 50%;\n",
              "      cursor: pointer;\n",
              "      display: none;\n",
              "      fill: #1967D2;\n",
              "      height: 32px;\n",
              "      padding: 0 0 0 0;\n",
              "      width: 32px;\n",
              "    }\n",
              "\n",
              "    .colab-df-convert:hover {\n",
              "      background-color: #E2EBFA;\n",
              "      box-shadow: 0px 1px 2px rgba(60, 64, 67, 0.3), 0px 1px 3px 1px rgba(60, 64, 67, 0.15);\n",
              "      fill: #174EA6;\n",
              "    }\n",
              "\n",
              "    [theme=dark] .colab-df-convert {\n",
              "      background-color: #3B4455;\n",
              "      fill: #D2E3FC;\n",
              "    }\n",
              "\n",
              "    [theme=dark] .colab-df-convert:hover {\n",
              "      background-color: #434B5C;\n",
              "      box-shadow: 0px 1px 3px 1px rgba(0, 0, 0, 0.15);\n",
              "      filter: drop-shadow(0px 1px 2px rgba(0, 0, 0, 0.3));\n",
              "      fill: #FFFFFF;\n",
              "    }\n",
              "  </style>\n",
              "\n",
              "      <script>\n",
              "        const buttonEl =\n",
              "          document.querySelector('#df-e9b24312-f20b-4185-9930-81200dacd8ec button.colab-df-convert');\n",
              "        buttonEl.style.display =\n",
              "          google.colab.kernel.accessAllowed ? 'block' : 'none';\n",
              "\n",
              "        async function convertToInteractive(key) {\n",
              "          const element = document.querySelector('#df-e9b24312-f20b-4185-9930-81200dacd8ec');\n",
              "          const dataTable =\n",
              "            await google.colab.kernel.invokeFunction('convertToInteractive',\n",
              "                                                     [key], {});\n",
              "          if (!dataTable) return;\n",
              "\n",
              "          const docLinkHtml = 'Like what you see? Visit the ' +\n",
              "            '<a target=\"_blank\" href=https://colab.research.google.com/notebooks/data_table.ipynb>data table notebook</a>'\n",
              "            + ' to learn more about interactive tables.';\n",
              "          element.innerHTML = '';\n",
              "          dataTable['output_type'] = 'display_data';\n",
              "          await google.colab.output.renderOutput(dataTable, element);\n",
              "          const docLink = document.createElement('div');\n",
              "          docLink.innerHTML = docLinkHtml;\n",
              "          element.appendChild(docLink);\n",
              "        }\n",
              "      </script>\n",
              "    </div>\n",
              "  </div>\n",
              "  "
            ]
          },
          "metadata": {},
          "execution_count": 51
        }
      ]
    },
    {
      "cell_type": "markdown",
      "source": [
        "เช็คและแก้ missing"
      ],
      "metadata": {
        "id": "HaL7sev9qgLU"
      }
    },
    {
      "cell_type": "code",
      "source": [
        "ass_c.isnull().any()"
      ],
      "metadata": {
        "outputId": "7f3fb8f4-ca78-458b-c5b2-12dee710f9fb",
        "colab": {
          "base_uri": "https://localhost:8080/"
        },
        "id": "oc_vihekqgLU"
      },
      "execution_count": 52,
      "outputs": [
        {
          "output_type": "execute_result",
          "data": {
            "text/plain": [
              "post id         False\n",
              "ราคาทรัพย์      False\n",
              "ประเมินโดย 1    False\n",
              "dtype: bool"
            ]
          },
          "metadata": {},
          "execution_count": 52
        }
      ]
    },
    {
      "cell_type": "markdown",
      "source": [
        "### MAPE"
      ],
      "metadata": {
        "id": "--Is4A6CqgLV"
      }
    },
    {
      "cell_type": "code",
      "source": [
        "actual_c = ass_c[['ราคาทรัพย์']]\n",
        "pred_1c = ass_c[['ประเมินโดย 1']]"
      ],
      "metadata": {
        "id": "RTnSypvNqgLV"
      },
      "execution_count": 53,
      "outputs": []
    },
    {
      "cell_type": "code",
      "source": [
        "mpc1 = mape(actual_c,pred_1c)"
      ],
      "metadata": {
        "id": "4V99pOMEqgLV"
      },
      "execution_count": 54,
      "outputs": []
    },
    {
      "cell_type": "code",
      "source": [
        "print(f' MAPE ราคาทรัพย์กับผู้ประเมินคนที่ 1 คือ {mpc1:.2f}')"
      ],
      "metadata": {
        "outputId": "142a5a67-4447-42a5-b54f-cd9e534f7e6b",
        "colab": {
          "base_uri": "https://localhost:8080/"
        },
        "id": "Usjf-KK9qgLV"
      },
      "execution_count": 55,
      "outputs": [
        {
          "output_type": "stream",
          "name": "stdout",
          "text": [
            " MAPE ราคาทรัพย์กับผู้ประเมินคนที่ 1 คือ 0.17\n"
          ]
        }
      ]
    },
    {
      "cell_type": "code",
      "source": [
        "idc1 = condo[condo['ID ผู้ประเมิน']==1]\n",
        "idc1 = idc1.dropna(subset=['ราคาทรัพย์','ประเมินโดย 1'])\n",
        "\n",
        "idc1MAPE = mape(idc1['ประเมินโดย 1'],pd.to_numeric(idc1['ราคาทรัพย์']))\n",
        "\n",
        "print(f'ความแตกต่างระหว่างราคาประกาศขายและราคาประเมินของ\\nบ้าน\\nนักประเมิน คนที่ 1 = {idc1MAPE*100:.2f}%')\n",
        "\n",
        "\n",
        "print(f'จำนวนทรัพย์ทั้งหมด {len(idc1)} ทรัพย์')"
      ],
      "metadata": {
        "colab": {
          "base_uri": "https://localhost:8080/"
        },
        "id": "iYlxexFq_xBA",
        "outputId": "08126f6e-28ab-4801-bb71-a942044db84c"
      },
      "execution_count": 56,
      "outputs": [
        {
          "output_type": "stream",
          "name": "stdout",
          "text": [
            "ความแตกต่างระหว่างราคาประกาศขายและราคาประเมินของ\n",
            "บ้าน\n",
            "นักประเมิน คนที่ 1 = 18.36%\n",
            "จำนวนทรัพย์ทั้งหมด 10 ทรัพย์\n"
          ]
        }
      ]
    },
    {
      "cell_type": "markdown",
      "source": [
        "## Town home"
      ],
      "metadata": {
        "id": "UPVqrHgcSjqf"
      }
    },
    {
      "cell_type": "code",
      "source": [
        "est_2t['ประเมินโดย 1'] = est_2t['post id'].map(est_1t.set_index('post id')['ประเมินราคาซื้อ-ขาย'])\n",
        "est_2t.head(3)"
      ],
      "metadata": {
        "outputId": "b88a3690-640a-4095-f821-09a28335b3ca",
        "colab": {
          "base_uri": "https://localhost:8080/",
          "height": 517
        },
        "id": "_nKkZo_TSjqg"
      },
      "execution_count": 57,
      "outputs": [
        {
          "output_type": "stream",
          "name": "stderr",
          "text": [
            "<ipython-input-57-309d826ee320>:1: SettingWithCopyWarning: \n",
            "A value is trying to be set on a copy of a slice from a DataFrame.\n",
            "Try using .loc[row_indexer,col_indexer] = value instead\n",
            "\n",
            "See the caveats in the documentation: https://pandas.pydata.org/pandas-docs/stable/user_guide/indexing.html#returning-a-view-versus-a-copy\n",
            "  est_2t['ประเมินโดย 1'] = est_2t['post id'].map(est_1t.set_index('post id')['ประเมินราคาซื้อ-ขาย'])\n"
          ]
        },
        {
          "output_type": "execute_result",
          "data": {
            "text/plain": [
              "   ID ผู้ประเมิน                                post id property_type  \\\n",
              "1              2  https://nayoo.co/khonkaen/posts/11569      ทาวน์โฮม   \n",
              "3              2   https://nayoo.co/khonkaen/posts/1163      ทาวน์โฮม   \n",
              "5              2   https://nayoo.co/khonkaen/posts/1195      ทาวน์โฮม   \n",
              "\n",
              "  ความมั่นใจในการเมินราคาทรัพย์  ราคาทรัพย์  ประเมินราคาซื้อ-ขาย  \\\n",
              "1                        มั่นใจ     2900000            2700000.0   \n",
              "3                        มั่นใจ     2000000            2200000.0   \n",
              "5                        มั่นใจ      605000             650000.0   \n",
              "\n",
              "     ปัจจัยในการประเมินราคาซื้อ-ขาย  เหตุผลไม่มั่นใจราคาประเมิน  \\\n",
              "1  ราคาเสนอขาย 2.5-2.9 ล้านบาท/คูหา                         NaN   \n",
              "3   ราคาเสนอขาย 1.8-2.2ล้านบาท/คูหา                         NaN   \n",
              "5     ราคาเสนอขาย 6 - 9 แสนบาท/คูหา                         NaN   \n",
              "\n",
              "                      ให้คะแนนทรัพย์  Unnamed: 9  Unnamed: 10  Unnamed: 11  \\\n",
              "1  3 ขายได้ ใช้ระยะเวลา 7 - 12 เดือน         NaN          NaN          NaN   \n",
              "3   4 ขายได้ ใช้ระยะเวลา 4 - 6 เดือน         NaN          NaN          NaN   \n",
              "5  3 ขายได้ ใช้ระยะเวลา 7 - 12 เดือน         NaN          NaN          NaN   \n",
              "\n",
              "   Unnamed: 12  ประเมินโดย 1  \n",
              "1          NaN     2700000.0  \n",
              "3          NaN     2200000.0  \n",
              "5          NaN      800000.0  "
            ],
            "text/html": [
              "\n",
              "  <div id=\"df-15ade204-5d9a-4744-8cc1-338bf4480f59\">\n",
              "    <div class=\"colab-df-container\">\n",
              "      <div>\n",
              "<style scoped>\n",
              "    .dataframe tbody tr th:only-of-type {\n",
              "        vertical-align: middle;\n",
              "    }\n",
              "\n",
              "    .dataframe tbody tr th {\n",
              "        vertical-align: top;\n",
              "    }\n",
              "\n",
              "    .dataframe thead th {\n",
              "        text-align: right;\n",
              "    }\n",
              "</style>\n",
              "<table border=\"1\" class=\"dataframe\">\n",
              "  <thead>\n",
              "    <tr style=\"text-align: right;\">\n",
              "      <th></th>\n",
              "      <th>ID ผู้ประเมิน</th>\n",
              "      <th>post id</th>\n",
              "      <th>property_type</th>\n",
              "      <th>ความมั่นใจในการเมินราคาทรัพย์</th>\n",
              "      <th>ราคาทรัพย์</th>\n",
              "      <th>ประเมินราคาซื้อ-ขาย</th>\n",
              "      <th>ปัจจัยในการประเมินราคาซื้อ-ขาย</th>\n",
              "      <th>เหตุผลไม่มั่นใจราคาประเมิน</th>\n",
              "      <th>ให้คะแนนทรัพย์</th>\n",
              "      <th>Unnamed: 9</th>\n",
              "      <th>Unnamed: 10</th>\n",
              "      <th>Unnamed: 11</th>\n",
              "      <th>Unnamed: 12</th>\n",
              "      <th>ประเมินโดย 1</th>\n",
              "    </tr>\n",
              "  </thead>\n",
              "  <tbody>\n",
              "    <tr>\n",
              "      <th>1</th>\n",
              "      <td>2</td>\n",
              "      <td>https://nayoo.co/khonkaen/posts/11569</td>\n",
              "      <td>ทาวน์โฮม</td>\n",
              "      <td>มั่นใจ</td>\n",
              "      <td>2900000</td>\n",
              "      <td>2700000.0</td>\n",
              "      <td>ราคาเสนอขาย 2.5-2.9 ล้านบาท/คูหา</td>\n",
              "      <td>NaN</td>\n",
              "      <td>3 ขายได้ ใช้ระยะเวลา 7 - 12 เดือน</td>\n",
              "      <td>NaN</td>\n",
              "      <td>NaN</td>\n",
              "      <td>NaN</td>\n",
              "      <td>NaN</td>\n",
              "      <td>2700000.0</td>\n",
              "    </tr>\n",
              "    <tr>\n",
              "      <th>3</th>\n",
              "      <td>2</td>\n",
              "      <td>https://nayoo.co/khonkaen/posts/1163</td>\n",
              "      <td>ทาวน์โฮม</td>\n",
              "      <td>มั่นใจ</td>\n",
              "      <td>2000000</td>\n",
              "      <td>2200000.0</td>\n",
              "      <td>ราคาเสนอขาย 1.8-2.2ล้านบาท/คูหา</td>\n",
              "      <td>NaN</td>\n",
              "      <td>4 ขายได้ ใช้ระยะเวลา 4 - 6 เดือน</td>\n",
              "      <td>NaN</td>\n",
              "      <td>NaN</td>\n",
              "      <td>NaN</td>\n",
              "      <td>NaN</td>\n",
              "      <td>2200000.0</td>\n",
              "    </tr>\n",
              "    <tr>\n",
              "      <th>5</th>\n",
              "      <td>2</td>\n",
              "      <td>https://nayoo.co/khonkaen/posts/1195</td>\n",
              "      <td>ทาวน์โฮม</td>\n",
              "      <td>มั่นใจ</td>\n",
              "      <td>605000</td>\n",
              "      <td>650000.0</td>\n",
              "      <td>ราคาเสนอขาย 6 - 9 แสนบาท/คูหา</td>\n",
              "      <td>NaN</td>\n",
              "      <td>3 ขายได้ ใช้ระยะเวลา 7 - 12 เดือน</td>\n",
              "      <td>NaN</td>\n",
              "      <td>NaN</td>\n",
              "      <td>NaN</td>\n",
              "      <td>NaN</td>\n",
              "      <td>800000.0</td>\n",
              "    </tr>\n",
              "  </tbody>\n",
              "</table>\n",
              "</div>\n",
              "      <button class=\"colab-df-convert\" onclick=\"convertToInteractive('df-15ade204-5d9a-4744-8cc1-338bf4480f59')\"\n",
              "              title=\"Convert this dataframe to an interactive table.\"\n",
              "              style=\"display:none;\">\n",
              "        \n",
              "  <svg xmlns=\"http://www.w3.org/2000/svg\" height=\"24px\"viewBox=\"0 0 24 24\"\n",
              "       width=\"24px\">\n",
              "    <path d=\"M0 0h24v24H0V0z\" fill=\"none\"/>\n",
              "    <path d=\"M18.56 5.44l.94 2.06.94-2.06 2.06-.94-2.06-.94-.94-2.06-.94 2.06-2.06.94zm-11 1L8.5 8.5l.94-2.06 2.06-.94-2.06-.94L8.5 2.5l-.94 2.06-2.06.94zm10 10l.94 2.06.94-2.06 2.06-.94-2.06-.94-.94-2.06-.94 2.06-2.06.94z\"/><path d=\"M17.41 7.96l-1.37-1.37c-.4-.4-.92-.59-1.43-.59-.52 0-1.04.2-1.43.59L10.3 9.45l-7.72 7.72c-.78.78-.78 2.05 0 2.83L4 21.41c.39.39.9.59 1.41.59.51 0 1.02-.2 1.41-.59l7.78-7.78 2.81-2.81c.8-.78.8-2.07 0-2.86zM5.41 20L4 18.59l7.72-7.72 1.47 1.35L5.41 20z\"/>\n",
              "  </svg>\n",
              "      </button>\n",
              "      \n",
              "  <style>\n",
              "    .colab-df-container {\n",
              "      display:flex;\n",
              "      flex-wrap:wrap;\n",
              "      gap: 12px;\n",
              "    }\n",
              "\n",
              "    .colab-df-convert {\n",
              "      background-color: #E8F0FE;\n",
              "      border: none;\n",
              "      border-radius: 50%;\n",
              "      cursor: pointer;\n",
              "      display: none;\n",
              "      fill: #1967D2;\n",
              "      height: 32px;\n",
              "      padding: 0 0 0 0;\n",
              "      width: 32px;\n",
              "    }\n",
              "\n",
              "    .colab-df-convert:hover {\n",
              "      background-color: #E2EBFA;\n",
              "      box-shadow: 0px 1px 2px rgba(60, 64, 67, 0.3), 0px 1px 3px 1px rgba(60, 64, 67, 0.15);\n",
              "      fill: #174EA6;\n",
              "    }\n",
              "\n",
              "    [theme=dark] .colab-df-convert {\n",
              "      background-color: #3B4455;\n",
              "      fill: #D2E3FC;\n",
              "    }\n",
              "\n",
              "    [theme=dark] .colab-df-convert:hover {\n",
              "      background-color: #434B5C;\n",
              "      box-shadow: 0px 1px 3px 1px rgba(0, 0, 0, 0.15);\n",
              "      filter: drop-shadow(0px 1px 2px rgba(0, 0, 0, 0.3));\n",
              "      fill: #FFFFFF;\n",
              "    }\n",
              "  </style>\n",
              "\n",
              "      <script>\n",
              "        const buttonEl =\n",
              "          document.querySelector('#df-15ade204-5d9a-4744-8cc1-338bf4480f59 button.colab-df-convert');\n",
              "        buttonEl.style.display =\n",
              "          google.colab.kernel.accessAllowed ? 'block' : 'none';\n",
              "\n",
              "        async function convertToInteractive(key) {\n",
              "          const element = document.querySelector('#df-15ade204-5d9a-4744-8cc1-338bf4480f59');\n",
              "          const dataTable =\n",
              "            await google.colab.kernel.invokeFunction('convertToInteractive',\n",
              "                                                     [key], {});\n",
              "          if (!dataTable) return;\n",
              "\n",
              "          const docLinkHtml = 'Like what you see? Visit the ' +\n",
              "            '<a target=\"_blank\" href=https://colab.research.google.com/notebooks/data_table.ipynb>data table notebook</a>'\n",
              "            + ' to learn more about interactive tables.';\n",
              "          element.innerHTML = '';\n",
              "          dataTable['output_type'] = 'display_data';\n",
              "          await google.colab.output.renderOutput(dataTable, element);\n",
              "          const docLink = document.createElement('div');\n",
              "          docLink.innerHTML = docLinkHtml;\n",
              "          element.appendChild(docLink);\n",
              "        }\n",
              "      </script>\n",
              "    </div>\n",
              "  </div>\n",
              "  "
            ]
          },
          "metadata": {},
          "execution_count": 57
        }
      ]
    },
    {
      "cell_type": "code",
      "source": [
        "est_2t.rename(columns={'ประเมินราคาซื้อ-ขาย' :'ประเมินโดย 2'}, inplace=True)"
      ],
      "metadata": {
        "id": "S4h29AIASjqh",
        "colab": {
          "base_uri": "https://localhost:8080/"
        },
        "outputId": "629a98aa-7bd2-47c6-a1a7-73cb336253fd"
      },
      "execution_count": 58,
      "outputs": [
        {
          "output_type": "stream",
          "name": "stderr",
          "text": [
            "/usr/local/lib/python3.8/dist-packages/pandas/core/frame.py:5039: SettingWithCopyWarning: \n",
            "A value is trying to be set on a copy of a slice from a DataFrame\n",
            "\n",
            "See the caveats in the documentation: https://pandas.pydata.org/pandas-docs/stable/user_guide/indexing.html#returning-a-view-versus-a-copy\n",
            "  return super().rename(\n"
          ]
        }
      ]
    },
    {
      "cell_type": "code",
      "source": [
        "ass_th = est_2t[['post id','ราคาทรัพย์','ประเมินโดย 1','ประเมินโดย 2']]\n",
        "ass_th"
      ],
      "metadata": {
        "outputId": "fcfa2c93-add8-40a4-fc11-bc0a583b4633",
        "colab": {
          "base_uri": "https://localhost:8080/",
          "height": 424
        },
        "id": "aQWQHdm6Sjqi"
      },
      "execution_count": 59,
      "outputs": [
        {
          "output_type": "execute_result",
          "data": {
            "text/plain": [
              "                                   post id  ราคาทรัพย์  ประเมินโดย 1  \\\n",
              "1    https://nayoo.co/khonkaen/posts/11569     2900000     2700000.0   \n",
              "3     https://nayoo.co/khonkaen/posts/1163     2000000     2200000.0   \n",
              "5     https://nayoo.co/khonkaen/posts/1195      605000      800000.0   \n",
              "7     https://nayoo.co/khonkaen/posts/1196      715000      750000.0   \n",
              "9    https://nayoo.co/khonkaen/posts/12215     2400000     2500000.0   \n",
              "..                                     ...         ...           ...   \n",
              "231   https://nayoo.co/khonkaen/posts/8387     1350000     1400000.0   \n",
              "233   https://nayoo.co/khonkaen/posts/8388     1500000     1600000.0   \n",
              "235   https://nayoo.co/khonkaen/posts/8408     1750000     1800000.0   \n",
              "237   https://nayoo.co/khonkaen/posts/9057     1990000     1700000.0   \n",
              "239   https://nayoo.co/khonkaen/posts/9595     2950000     2800000.0   \n",
              "\n",
              "     ประเมินโดย 2  \n",
              "1       2700000.0  \n",
              "3       2200000.0  \n",
              "5        650000.0  \n",
              "7        600000.0  \n",
              "9       2300000.0  \n",
              "..            ...  \n",
              "231     1200000.0  \n",
              "233     1500000.0  \n",
              "235     1700000.0  \n",
              "237     1900000.0  \n",
              "239     2700000.0  \n",
              "\n",
              "[120 rows x 4 columns]"
            ],
            "text/html": [
              "\n",
              "  <div id=\"df-6cdb09b6-a323-42c6-a118-4fa508012062\">\n",
              "    <div class=\"colab-df-container\">\n",
              "      <div>\n",
              "<style scoped>\n",
              "    .dataframe tbody tr th:only-of-type {\n",
              "        vertical-align: middle;\n",
              "    }\n",
              "\n",
              "    .dataframe tbody tr th {\n",
              "        vertical-align: top;\n",
              "    }\n",
              "\n",
              "    .dataframe thead th {\n",
              "        text-align: right;\n",
              "    }\n",
              "</style>\n",
              "<table border=\"1\" class=\"dataframe\">\n",
              "  <thead>\n",
              "    <tr style=\"text-align: right;\">\n",
              "      <th></th>\n",
              "      <th>post id</th>\n",
              "      <th>ราคาทรัพย์</th>\n",
              "      <th>ประเมินโดย 1</th>\n",
              "      <th>ประเมินโดย 2</th>\n",
              "    </tr>\n",
              "  </thead>\n",
              "  <tbody>\n",
              "    <tr>\n",
              "      <th>1</th>\n",
              "      <td>https://nayoo.co/khonkaen/posts/11569</td>\n",
              "      <td>2900000</td>\n",
              "      <td>2700000.0</td>\n",
              "      <td>2700000.0</td>\n",
              "    </tr>\n",
              "    <tr>\n",
              "      <th>3</th>\n",
              "      <td>https://nayoo.co/khonkaen/posts/1163</td>\n",
              "      <td>2000000</td>\n",
              "      <td>2200000.0</td>\n",
              "      <td>2200000.0</td>\n",
              "    </tr>\n",
              "    <tr>\n",
              "      <th>5</th>\n",
              "      <td>https://nayoo.co/khonkaen/posts/1195</td>\n",
              "      <td>605000</td>\n",
              "      <td>800000.0</td>\n",
              "      <td>650000.0</td>\n",
              "    </tr>\n",
              "    <tr>\n",
              "      <th>7</th>\n",
              "      <td>https://nayoo.co/khonkaen/posts/1196</td>\n",
              "      <td>715000</td>\n",
              "      <td>750000.0</td>\n",
              "      <td>600000.0</td>\n",
              "    </tr>\n",
              "    <tr>\n",
              "      <th>9</th>\n",
              "      <td>https://nayoo.co/khonkaen/posts/12215</td>\n",
              "      <td>2400000</td>\n",
              "      <td>2500000.0</td>\n",
              "      <td>2300000.0</td>\n",
              "    </tr>\n",
              "    <tr>\n",
              "      <th>...</th>\n",
              "      <td>...</td>\n",
              "      <td>...</td>\n",
              "      <td>...</td>\n",
              "      <td>...</td>\n",
              "    </tr>\n",
              "    <tr>\n",
              "      <th>231</th>\n",
              "      <td>https://nayoo.co/khonkaen/posts/8387</td>\n",
              "      <td>1350000</td>\n",
              "      <td>1400000.0</td>\n",
              "      <td>1200000.0</td>\n",
              "    </tr>\n",
              "    <tr>\n",
              "      <th>233</th>\n",
              "      <td>https://nayoo.co/khonkaen/posts/8388</td>\n",
              "      <td>1500000</td>\n",
              "      <td>1600000.0</td>\n",
              "      <td>1500000.0</td>\n",
              "    </tr>\n",
              "    <tr>\n",
              "      <th>235</th>\n",
              "      <td>https://nayoo.co/khonkaen/posts/8408</td>\n",
              "      <td>1750000</td>\n",
              "      <td>1800000.0</td>\n",
              "      <td>1700000.0</td>\n",
              "    </tr>\n",
              "    <tr>\n",
              "      <th>237</th>\n",
              "      <td>https://nayoo.co/khonkaen/posts/9057</td>\n",
              "      <td>1990000</td>\n",
              "      <td>1700000.0</td>\n",
              "      <td>1900000.0</td>\n",
              "    </tr>\n",
              "    <tr>\n",
              "      <th>239</th>\n",
              "      <td>https://nayoo.co/khonkaen/posts/9595</td>\n",
              "      <td>2950000</td>\n",
              "      <td>2800000.0</td>\n",
              "      <td>2700000.0</td>\n",
              "    </tr>\n",
              "  </tbody>\n",
              "</table>\n",
              "<p>120 rows × 4 columns</p>\n",
              "</div>\n",
              "      <button class=\"colab-df-convert\" onclick=\"convertToInteractive('df-6cdb09b6-a323-42c6-a118-4fa508012062')\"\n",
              "              title=\"Convert this dataframe to an interactive table.\"\n",
              "              style=\"display:none;\">\n",
              "        \n",
              "  <svg xmlns=\"http://www.w3.org/2000/svg\" height=\"24px\"viewBox=\"0 0 24 24\"\n",
              "       width=\"24px\">\n",
              "    <path d=\"M0 0h24v24H0V0z\" fill=\"none\"/>\n",
              "    <path d=\"M18.56 5.44l.94 2.06.94-2.06 2.06-.94-2.06-.94-.94-2.06-.94 2.06-2.06.94zm-11 1L8.5 8.5l.94-2.06 2.06-.94-2.06-.94L8.5 2.5l-.94 2.06-2.06.94zm10 10l.94 2.06.94-2.06 2.06-.94-2.06-.94-.94-2.06-.94 2.06-2.06.94z\"/><path d=\"M17.41 7.96l-1.37-1.37c-.4-.4-.92-.59-1.43-.59-.52 0-1.04.2-1.43.59L10.3 9.45l-7.72 7.72c-.78.78-.78 2.05 0 2.83L4 21.41c.39.39.9.59 1.41.59.51 0 1.02-.2 1.41-.59l7.78-7.78 2.81-2.81c.8-.78.8-2.07 0-2.86zM5.41 20L4 18.59l7.72-7.72 1.47 1.35L5.41 20z\"/>\n",
              "  </svg>\n",
              "      </button>\n",
              "      \n",
              "  <style>\n",
              "    .colab-df-container {\n",
              "      display:flex;\n",
              "      flex-wrap:wrap;\n",
              "      gap: 12px;\n",
              "    }\n",
              "\n",
              "    .colab-df-convert {\n",
              "      background-color: #E8F0FE;\n",
              "      border: none;\n",
              "      border-radius: 50%;\n",
              "      cursor: pointer;\n",
              "      display: none;\n",
              "      fill: #1967D2;\n",
              "      height: 32px;\n",
              "      padding: 0 0 0 0;\n",
              "      width: 32px;\n",
              "    }\n",
              "\n",
              "    .colab-df-convert:hover {\n",
              "      background-color: #E2EBFA;\n",
              "      box-shadow: 0px 1px 2px rgba(60, 64, 67, 0.3), 0px 1px 3px 1px rgba(60, 64, 67, 0.15);\n",
              "      fill: #174EA6;\n",
              "    }\n",
              "\n",
              "    [theme=dark] .colab-df-convert {\n",
              "      background-color: #3B4455;\n",
              "      fill: #D2E3FC;\n",
              "    }\n",
              "\n",
              "    [theme=dark] .colab-df-convert:hover {\n",
              "      background-color: #434B5C;\n",
              "      box-shadow: 0px 1px 3px 1px rgba(0, 0, 0, 0.15);\n",
              "      filter: drop-shadow(0px 1px 2px rgba(0, 0, 0, 0.3));\n",
              "      fill: #FFFFFF;\n",
              "    }\n",
              "  </style>\n",
              "\n",
              "      <script>\n",
              "        const buttonEl =\n",
              "          document.querySelector('#df-6cdb09b6-a323-42c6-a118-4fa508012062 button.colab-df-convert');\n",
              "        buttonEl.style.display =\n",
              "          google.colab.kernel.accessAllowed ? 'block' : 'none';\n",
              "\n",
              "        async function convertToInteractive(key) {\n",
              "          const element = document.querySelector('#df-6cdb09b6-a323-42c6-a118-4fa508012062');\n",
              "          const dataTable =\n",
              "            await google.colab.kernel.invokeFunction('convertToInteractive',\n",
              "                                                     [key], {});\n",
              "          if (!dataTable) return;\n",
              "\n",
              "          const docLinkHtml = 'Like what you see? Visit the ' +\n",
              "            '<a target=\"_blank\" href=https://colab.research.google.com/notebooks/data_table.ipynb>data table notebook</a>'\n",
              "            + ' to learn more about interactive tables.';\n",
              "          element.innerHTML = '';\n",
              "          dataTable['output_type'] = 'display_data';\n",
              "          await google.colab.output.renderOutput(dataTable, element);\n",
              "          const docLink = document.createElement('div');\n",
              "          docLink.innerHTML = docLinkHtml;\n",
              "          element.appendChild(docLink);\n",
              "        }\n",
              "      </script>\n",
              "    </div>\n",
              "  </div>\n",
              "  "
            ]
          },
          "metadata": {},
          "execution_count": 59
        }
      ]
    },
    {
      "cell_type": "markdown",
      "source": [
        "เช็คและแก้ missing"
      ],
      "metadata": {
        "id": "3mrwlTmnSjqi"
      }
    },
    {
      "cell_type": "code",
      "source": [
        "ass_th.isnull().any()"
      ],
      "metadata": {
        "outputId": "eddf2059-7e5a-40ba-f109-5850402accf4",
        "colab": {
          "base_uri": "https://localhost:8080/"
        },
        "id": "Tyx5okNkSjqi"
      },
      "execution_count": 60,
      "outputs": [
        {
          "output_type": "execute_result",
          "data": {
            "text/plain": [
              "post id         False\n",
              "ราคาทรัพย์      False\n",
              "ประเมินโดย 1    False\n",
              "ประเมินโดย 2    False\n",
              "dtype: bool"
            ]
          },
          "metadata": {},
          "execution_count": 60
        }
      ]
    },
    {
      "cell_type": "markdown",
      "source": [
        "### MAPE"
      ],
      "metadata": {
        "id": "kN2pSCYJSjqj"
      }
    },
    {
      "cell_type": "code",
      "source": [
        "actual_th = ass_th[['ราคาทรัพย์']]\n",
        "pred_1th = ass_th[['ประเมินโดย 1']]\n",
        "pred_2th = ass_th[['ประเมินโดย 2']]"
      ],
      "metadata": {
        "id": "6DhhFaSaSjqj"
      },
      "execution_count": 61,
      "outputs": []
    },
    {
      "cell_type": "code",
      "source": [
        "mpth1 = mape(actual_th,pred_1th)\n",
        "mpth2 = mape(actual_th,pred_2th)\n",
        "mpth12 = mape(pred_1th,pred_2th)\n",
        "mpth21 = mape(pred_2th,pred_1th)"
      ],
      "metadata": {
        "id": "_ve2BnxhSjqj"
      },
      "execution_count": 62,
      "outputs": []
    },
    {
      "cell_type": "code",
      "source": [
        "print(f' MAPE ราคาทรัพย์กับผู้ประเมินคนที่ 1 คือ {mpth1:.2f}\\n MAPE ราคาทรัพย์กับผู้ประเมินคนที่ 2 คือ {mpth2:.2f}\\n MAPE ราคาตั้งขายของผู้ประเมินคนที่ 1 กับ ผู้ประเมินคนที่ 2 คือ {mpth12:.2f}\\n MAPE ราคาตั้งขายของผู้ประเมินคนที่ 2 กับ ผู้ประเมินคนที่ 1 คือ {mpth21:.2f}')"
      ],
      "metadata": {
        "outputId": "7b677937-1347-47b5-8322-928c7ad85e92",
        "colab": {
          "base_uri": "https://localhost:8080/"
        },
        "id": "D0xsUvNtSjqk"
      },
      "execution_count": 63,
      "outputs": [
        {
          "output_type": "stream",
          "name": "stdout",
          "text": [
            " MAPE ราคาทรัพย์กับผู้ประเมินคนที่ 1 คือ 0.12\n",
            " MAPE ราคาทรัพย์กับผู้ประเมินคนที่ 2 คือ 0.09\n",
            " MAPE ราคาตั้งขายของผู้ประเมินคนที่ 1 กับ ผู้ประเมินคนที่ 2 คือ 0.11\n",
            " MAPE ราคาตั้งขายของผู้ประเมินคนที่ 2 กับ ผู้ประเมินคนที่ 1 คือ 0.11\n"
          ]
        }
      ]
    },
    {
      "cell_type": "code",
      "source": [
        "idt1 = tw[tw['ID ผู้ประเมิน']==1]\n",
        "idt1 = idt1.dropna(subset=['ราคาทรัพย์','ประเมินราคาซื้อ-ขาย'])\n",
        "idt2 = tw[tw['ID ผู้ประเมิน']==2]\n",
        "idt2 = idt2.dropna(subset=['ราคาทรัพย์','ประเมินราคาซื้อ-ขาย'])\n",
        "idt1MAPE = mape(idt1['ประเมินราคาซื้อ-ขาย'],pd.to_numeric(idt1['ราคาทรัพย์']))\n",
        "idt2MAPE = mape(idt2['ประเมินราคาซื้อ-ขาย'],pd.to_numeric(idt2['ราคาทรัพย์']))\n",
        "print(f'ความแตกต่างระหว่างราคาประกาศขายและราคาประเมินของ\\nบ้าน\\nนักประเมิน คนที่ 1 = {idt1MAPE*100:.2f}%\\nนักประเมิน คนที่ 2 = {idt2MAPE*100:.2f}%')\n",
        "idt2['ประเมิน2'] = idt2['post id'].map(idt1.set_index('post id')['ประเมินราคาซื้อ-ขาย'])\n",
        "id2_t = idt2.dropna(subset=['ประเมินราคาซื้อ-ขาย','ประเมิน2','ราคาทรัพย์'])\n",
        "one2twot = mape(id2_t['ประเมินราคาซื้อ-ขาย'],id2_t['ประเมิน2'])\n",
        "two2onet = mape(id2_t['ประเมิน2'],id2_t['ประเมินราคาซื้อ-ขาย'])\n",
        "print(f'ความผิดพลาดระหว่างนักประเมินทั้ง {((one2twot)+(two2onet))*50:.2f}%')\n",
        "print(f'จำนวนทรัพย์ทั้งหมด {len(id2_t)} ทรัพย์')"
      ],
      "metadata": {
        "colab": {
          "base_uri": "https://localhost:8080/"
        },
        "id": "PKEGGeRsIsfi",
        "outputId": "d286c951-529a-4349-d8c2-3e41a27be481"
      },
      "execution_count": 64,
      "outputs": [
        {
          "output_type": "stream",
          "name": "stdout",
          "text": [
            "ความแตกต่างระหว่างราคาประกาศขายและราคาประเมินของ\n",
            "บ้าน\n",
            "นักประเมิน คนที่ 1 = 15.26%\n",
            "นักประเมิน คนที่ 2 = 12.20%\n",
            "ความผิดพลาดระหว่างนักประเมินทั้ง 10.92%\n",
            "จำนวนทรัพย์ทั้งหมด 120 ทรัพย์\n"
          ]
        }
      ]
    },
    {
      "cell_type": "markdown",
      "source": [
        "## Shop house"
      ],
      "metadata": {
        "id": "ciiwJ2UAVbZw"
      }
    },
    {
      "cell_type": "code",
      "source": [
        "est_2s['ประเมินโดย 1'] = est_2s['post id'].map(est_1s.set_index('post id')['ประเมินราคาซื้อ-ขาย'])\n",
        "est_2s.head(3)"
      ],
      "metadata": {
        "outputId": "c72ecc52-9aff-4153-82cb-43d521895eed",
        "colab": {
          "base_uri": "https://localhost:8080/",
          "height": 361
        },
        "id": "SVjsjkdFVbZ6"
      },
      "execution_count": 65,
      "outputs": [
        {
          "output_type": "stream",
          "name": "stderr",
          "text": [
            "<ipython-input-65-f42338c5bcdb>:1: SettingWithCopyWarning: \n",
            "A value is trying to be set on a copy of a slice from a DataFrame.\n",
            "Try using .loc[row_indexer,col_indexer] = value instead\n",
            "\n",
            "See the caveats in the documentation: https://pandas.pydata.org/pandas-docs/stable/user_guide/indexing.html#returning-a-view-versus-a-copy\n",
            "  est_2s['ประเมินโดย 1'] = est_2s['post id'].map(est_1s.set_index('post id')['ประเมินราคาซื้อ-ขาย'])\n"
          ]
        },
        {
          "output_type": "execute_result",
          "data": {
            "text/plain": [
              "   ID ผู้ประเมิน                             post id          property_type  \\\n",
              "1              2   https://nayoo.co/khonkaen/posts/6  อาคารพาณิชย์/สำนักงาน   \n",
              "3              2  https://nayoo.co/khonkaen/posts/17  อาคารพาณิชย์/สำนักงาน   \n",
              "5              2  https://nayoo.co/khonkaen/posts/21  อาคารพาณิชย์/สำนักงาน   \n",
              "\n",
              "  ความมั่นใจในการเมินราคาทรัพย์  ราคาทรัพย์  ประเมินราคาซื้อ-ขาย  \\\n",
              "1                        มั่นใจ     6600000            8000000.0   \n",
              "3                        มั่นใจ    11400000           12000000.0   \n",
              "5                        มั่นใจ    22500000           20000000.0   \n",
              "\n",
              "             ปัจจัยในการประเมินราคาซื้อ-ขาย เหตุผลไม่มั่นใจราคาประเมิน  \\\n",
              "1  ราคาเสนอขาย 4,000,000-6,000,000 บาท/คูหา                        NaN   \n",
              "3            ราคาเสนอขาย 4 - 5 ล้านบาท/คูหา                        NaN   \n",
              "5            ราคาเสนอขาย 6-8 ล้านบาท / คูหา                        NaN   \n",
              "\n",
              "                       ให้คะแนนทรัพย์  ประเมินโดย 1  \n",
              "1    4 ขายได้ ใช้ระยะเวลา 4 - 6 เดือน     6000000.0  \n",
              "3  2 ขายได้ยาก ใช้ระยะเวลามากว่า 1 ปี    12000000.0  \n",
              "5   3 ขายได้ ใช้ระยะเวลา 7 - 12 เดือน    13500000.0  "
            ],
            "text/html": [
              "\n",
              "  <div id=\"df-ea058874-94ee-491f-9f86-6a42fec68f1c\">\n",
              "    <div class=\"colab-df-container\">\n",
              "      <div>\n",
              "<style scoped>\n",
              "    .dataframe tbody tr th:only-of-type {\n",
              "        vertical-align: middle;\n",
              "    }\n",
              "\n",
              "    .dataframe tbody tr th {\n",
              "        vertical-align: top;\n",
              "    }\n",
              "\n",
              "    .dataframe thead th {\n",
              "        text-align: right;\n",
              "    }\n",
              "</style>\n",
              "<table border=\"1\" class=\"dataframe\">\n",
              "  <thead>\n",
              "    <tr style=\"text-align: right;\">\n",
              "      <th></th>\n",
              "      <th>ID ผู้ประเมิน</th>\n",
              "      <th>post id</th>\n",
              "      <th>property_type</th>\n",
              "      <th>ความมั่นใจในการเมินราคาทรัพย์</th>\n",
              "      <th>ราคาทรัพย์</th>\n",
              "      <th>ประเมินราคาซื้อ-ขาย</th>\n",
              "      <th>ปัจจัยในการประเมินราคาซื้อ-ขาย</th>\n",
              "      <th>เหตุผลไม่มั่นใจราคาประเมิน</th>\n",
              "      <th>ให้คะแนนทรัพย์</th>\n",
              "      <th>ประเมินโดย 1</th>\n",
              "    </tr>\n",
              "  </thead>\n",
              "  <tbody>\n",
              "    <tr>\n",
              "      <th>1</th>\n",
              "      <td>2</td>\n",
              "      <td>https://nayoo.co/khonkaen/posts/6</td>\n",
              "      <td>อาคารพาณิชย์/สำนักงาน</td>\n",
              "      <td>มั่นใจ</td>\n",
              "      <td>6600000</td>\n",
              "      <td>8000000.0</td>\n",
              "      <td>ราคาเสนอขาย 4,000,000-6,000,000 บาท/คูหา</td>\n",
              "      <td>NaN</td>\n",
              "      <td>4 ขายได้ ใช้ระยะเวลา 4 - 6 เดือน</td>\n",
              "      <td>6000000.0</td>\n",
              "    </tr>\n",
              "    <tr>\n",
              "      <th>3</th>\n",
              "      <td>2</td>\n",
              "      <td>https://nayoo.co/khonkaen/posts/17</td>\n",
              "      <td>อาคารพาณิชย์/สำนักงาน</td>\n",
              "      <td>มั่นใจ</td>\n",
              "      <td>11400000</td>\n",
              "      <td>12000000.0</td>\n",
              "      <td>ราคาเสนอขาย 4 - 5 ล้านบาท/คูหา</td>\n",
              "      <td>NaN</td>\n",
              "      <td>2 ขายได้ยาก ใช้ระยะเวลามากว่า 1 ปี</td>\n",
              "      <td>12000000.0</td>\n",
              "    </tr>\n",
              "    <tr>\n",
              "      <th>5</th>\n",
              "      <td>2</td>\n",
              "      <td>https://nayoo.co/khonkaen/posts/21</td>\n",
              "      <td>อาคารพาณิชย์/สำนักงาน</td>\n",
              "      <td>มั่นใจ</td>\n",
              "      <td>22500000</td>\n",
              "      <td>20000000.0</td>\n",
              "      <td>ราคาเสนอขาย 6-8 ล้านบาท / คูหา</td>\n",
              "      <td>NaN</td>\n",
              "      <td>3 ขายได้ ใช้ระยะเวลา 7 - 12 เดือน</td>\n",
              "      <td>13500000.0</td>\n",
              "    </tr>\n",
              "  </tbody>\n",
              "</table>\n",
              "</div>\n",
              "      <button class=\"colab-df-convert\" onclick=\"convertToInteractive('df-ea058874-94ee-491f-9f86-6a42fec68f1c')\"\n",
              "              title=\"Convert this dataframe to an interactive table.\"\n",
              "              style=\"display:none;\">\n",
              "        \n",
              "  <svg xmlns=\"http://www.w3.org/2000/svg\" height=\"24px\"viewBox=\"0 0 24 24\"\n",
              "       width=\"24px\">\n",
              "    <path d=\"M0 0h24v24H0V0z\" fill=\"none\"/>\n",
              "    <path d=\"M18.56 5.44l.94 2.06.94-2.06 2.06-.94-2.06-.94-.94-2.06-.94 2.06-2.06.94zm-11 1L8.5 8.5l.94-2.06 2.06-.94-2.06-.94L8.5 2.5l-.94 2.06-2.06.94zm10 10l.94 2.06.94-2.06 2.06-.94-2.06-.94-.94-2.06-.94 2.06-2.06.94z\"/><path d=\"M17.41 7.96l-1.37-1.37c-.4-.4-.92-.59-1.43-.59-.52 0-1.04.2-1.43.59L10.3 9.45l-7.72 7.72c-.78.78-.78 2.05 0 2.83L4 21.41c.39.39.9.59 1.41.59.51 0 1.02-.2 1.41-.59l7.78-7.78 2.81-2.81c.8-.78.8-2.07 0-2.86zM5.41 20L4 18.59l7.72-7.72 1.47 1.35L5.41 20z\"/>\n",
              "  </svg>\n",
              "      </button>\n",
              "      \n",
              "  <style>\n",
              "    .colab-df-container {\n",
              "      display:flex;\n",
              "      flex-wrap:wrap;\n",
              "      gap: 12px;\n",
              "    }\n",
              "\n",
              "    .colab-df-convert {\n",
              "      background-color: #E8F0FE;\n",
              "      border: none;\n",
              "      border-radius: 50%;\n",
              "      cursor: pointer;\n",
              "      display: none;\n",
              "      fill: #1967D2;\n",
              "      height: 32px;\n",
              "      padding: 0 0 0 0;\n",
              "      width: 32px;\n",
              "    }\n",
              "\n",
              "    .colab-df-convert:hover {\n",
              "      background-color: #E2EBFA;\n",
              "      box-shadow: 0px 1px 2px rgba(60, 64, 67, 0.3), 0px 1px 3px 1px rgba(60, 64, 67, 0.15);\n",
              "      fill: #174EA6;\n",
              "    }\n",
              "\n",
              "    [theme=dark] .colab-df-convert {\n",
              "      background-color: #3B4455;\n",
              "      fill: #D2E3FC;\n",
              "    }\n",
              "\n",
              "    [theme=dark] .colab-df-convert:hover {\n",
              "      background-color: #434B5C;\n",
              "      box-shadow: 0px 1px 3px 1px rgba(0, 0, 0, 0.15);\n",
              "      filter: drop-shadow(0px 1px 2px rgba(0, 0, 0, 0.3));\n",
              "      fill: #FFFFFF;\n",
              "    }\n",
              "  </style>\n",
              "\n",
              "      <script>\n",
              "        const buttonEl =\n",
              "          document.querySelector('#df-ea058874-94ee-491f-9f86-6a42fec68f1c button.colab-df-convert');\n",
              "        buttonEl.style.display =\n",
              "          google.colab.kernel.accessAllowed ? 'block' : 'none';\n",
              "\n",
              "        async function convertToInteractive(key) {\n",
              "          const element = document.querySelector('#df-ea058874-94ee-491f-9f86-6a42fec68f1c');\n",
              "          const dataTable =\n",
              "            await google.colab.kernel.invokeFunction('convertToInteractive',\n",
              "                                                     [key], {});\n",
              "          if (!dataTable) return;\n",
              "\n",
              "          const docLinkHtml = 'Like what you see? Visit the ' +\n",
              "            '<a target=\"_blank\" href=https://colab.research.google.com/notebooks/data_table.ipynb>data table notebook</a>'\n",
              "            + ' to learn more about interactive tables.';\n",
              "          element.innerHTML = '';\n",
              "          dataTable['output_type'] = 'display_data';\n",
              "          await google.colab.output.renderOutput(dataTable, element);\n",
              "          const docLink = document.createElement('div');\n",
              "          docLink.innerHTML = docLinkHtml;\n",
              "          element.appendChild(docLink);\n",
              "        }\n",
              "      </script>\n",
              "    </div>\n",
              "  </div>\n",
              "  "
            ]
          },
          "metadata": {},
          "execution_count": 65
        }
      ]
    },
    {
      "cell_type": "code",
      "source": [
        "est_2s.rename(columns={'ประเมินราคาซื้อ-ขาย' :'ประเมินโดย 2'}, inplace=True)"
      ],
      "metadata": {
        "id": "mokyBia_VbZ7",
        "outputId": "0dbfe0d3-721e-4f8d-eadc-9c0139eea4f4",
        "colab": {
          "base_uri": "https://localhost:8080/"
        }
      },
      "execution_count": 66,
      "outputs": [
        {
          "output_type": "stream",
          "name": "stderr",
          "text": [
            "/usr/local/lib/python3.8/dist-packages/pandas/core/frame.py:5039: SettingWithCopyWarning: \n",
            "A value is trying to be set on a copy of a slice from a DataFrame\n",
            "\n",
            "See the caveats in the documentation: https://pandas.pydata.org/pandas-docs/stable/user_guide/indexing.html#returning-a-view-versus-a-copy\n",
            "  return super().rename(\n"
          ]
        }
      ]
    },
    {
      "cell_type": "code",
      "source": [
        "ass_sh = est_2s[['post id','ราคาทรัพย์','ประเมินโดย 1','ประเมินโดย 2']]\n",
        "ass_sh"
      ],
      "metadata": {
        "outputId": "7c96c666-d2bc-43a2-e340-9b824ff921b2",
        "colab": {
          "base_uri": "https://localhost:8080/",
          "height": 424
        },
        "id": "IDWFR8YJVbZ7"
      },
      "execution_count": 67,
      "outputs": [
        {
          "output_type": "execute_result",
          "data": {
            "text/plain": [
              "                                  post id  ราคาทรัพย์  ประเมินโดย 1  \\\n",
              "1       https://nayoo.co/khonkaen/posts/6     6600000     6000000.0   \n",
              "3      https://nayoo.co/khonkaen/posts/17    11400000    12000000.0   \n",
              "5      https://nayoo.co/khonkaen/posts/21    22500000    13500000.0   \n",
              "7      https://nayoo.co/khonkaen/posts/22     3500000     4000000.0   \n",
              "9      https://nayoo.co/khonkaen/posts/24     3900000     2200000.0   \n",
              "..                                    ...         ...           ...   \n",
              "191  https://nayoo.co/khonkaen/posts/7137     3900000     3600000.0   \n",
              "193  https://nayoo.co/khonkaen/posts/7138     4500000     2300000.0   \n",
              "195  https://nayoo.co/khonkaen/posts/7439     6900000     3300000.0   \n",
              "197  https://nayoo.co/khonkaen/posts/7668    12000000     1500000.0   \n",
              "199  https://nayoo.co/khonkaen/posts/7705     2200000     2500000.0   \n",
              "\n",
              "     ประเมินโดย 2  \n",
              "1       8000000.0  \n",
              "3      12000000.0  \n",
              "5      20000000.0  \n",
              "7       4000000.0  \n",
              "9       3000000.0  \n",
              "..            ...  \n",
              "191     4000000.0  \n",
              "193           NaN  \n",
              "195           NaN  \n",
              "197           NaN  \n",
              "199     2000000.0  \n",
              "\n",
              "[100 rows x 4 columns]"
            ],
            "text/html": [
              "\n",
              "  <div id=\"df-9ae89abc-7893-4336-bbb7-1743648dd00d\">\n",
              "    <div class=\"colab-df-container\">\n",
              "      <div>\n",
              "<style scoped>\n",
              "    .dataframe tbody tr th:only-of-type {\n",
              "        vertical-align: middle;\n",
              "    }\n",
              "\n",
              "    .dataframe tbody tr th {\n",
              "        vertical-align: top;\n",
              "    }\n",
              "\n",
              "    .dataframe thead th {\n",
              "        text-align: right;\n",
              "    }\n",
              "</style>\n",
              "<table border=\"1\" class=\"dataframe\">\n",
              "  <thead>\n",
              "    <tr style=\"text-align: right;\">\n",
              "      <th></th>\n",
              "      <th>post id</th>\n",
              "      <th>ราคาทรัพย์</th>\n",
              "      <th>ประเมินโดย 1</th>\n",
              "      <th>ประเมินโดย 2</th>\n",
              "    </tr>\n",
              "  </thead>\n",
              "  <tbody>\n",
              "    <tr>\n",
              "      <th>1</th>\n",
              "      <td>https://nayoo.co/khonkaen/posts/6</td>\n",
              "      <td>6600000</td>\n",
              "      <td>6000000.0</td>\n",
              "      <td>8000000.0</td>\n",
              "    </tr>\n",
              "    <tr>\n",
              "      <th>3</th>\n",
              "      <td>https://nayoo.co/khonkaen/posts/17</td>\n",
              "      <td>11400000</td>\n",
              "      <td>12000000.0</td>\n",
              "      <td>12000000.0</td>\n",
              "    </tr>\n",
              "    <tr>\n",
              "      <th>5</th>\n",
              "      <td>https://nayoo.co/khonkaen/posts/21</td>\n",
              "      <td>22500000</td>\n",
              "      <td>13500000.0</td>\n",
              "      <td>20000000.0</td>\n",
              "    </tr>\n",
              "    <tr>\n",
              "      <th>7</th>\n",
              "      <td>https://nayoo.co/khonkaen/posts/22</td>\n",
              "      <td>3500000</td>\n",
              "      <td>4000000.0</td>\n",
              "      <td>4000000.0</td>\n",
              "    </tr>\n",
              "    <tr>\n",
              "      <th>9</th>\n",
              "      <td>https://nayoo.co/khonkaen/posts/24</td>\n",
              "      <td>3900000</td>\n",
              "      <td>2200000.0</td>\n",
              "      <td>3000000.0</td>\n",
              "    </tr>\n",
              "    <tr>\n",
              "      <th>...</th>\n",
              "      <td>...</td>\n",
              "      <td>...</td>\n",
              "      <td>...</td>\n",
              "      <td>...</td>\n",
              "    </tr>\n",
              "    <tr>\n",
              "      <th>191</th>\n",
              "      <td>https://nayoo.co/khonkaen/posts/7137</td>\n",
              "      <td>3900000</td>\n",
              "      <td>3600000.0</td>\n",
              "      <td>4000000.0</td>\n",
              "    </tr>\n",
              "    <tr>\n",
              "      <th>193</th>\n",
              "      <td>https://nayoo.co/khonkaen/posts/7138</td>\n",
              "      <td>4500000</td>\n",
              "      <td>2300000.0</td>\n",
              "      <td>NaN</td>\n",
              "    </tr>\n",
              "    <tr>\n",
              "      <th>195</th>\n",
              "      <td>https://nayoo.co/khonkaen/posts/7439</td>\n",
              "      <td>6900000</td>\n",
              "      <td>3300000.0</td>\n",
              "      <td>NaN</td>\n",
              "    </tr>\n",
              "    <tr>\n",
              "      <th>197</th>\n",
              "      <td>https://nayoo.co/khonkaen/posts/7668</td>\n",
              "      <td>12000000</td>\n",
              "      <td>1500000.0</td>\n",
              "      <td>NaN</td>\n",
              "    </tr>\n",
              "    <tr>\n",
              "      <th>199</th>\n",
              "      <td>https://nayoo.co/khonkaen/posts/7705</td>\n",
              "      <td>2200000</td>\n",
              "      <td>2500000.0</td>\n",
              "      <td>2000000.0</td>\n",
              "    </tr>\n",
              "  </tbody>\n",
              "</table>\n",
              "<p>100 rows × 4 columns</p>\n",
              "</div>\n",
              "      <button class=\"colab-df-convert\" onclick=\"convertToInteractive('df-9ae89abc-7893-4336-bbb7-1743648dd00d')\"\n",
              "              title=\"Convert this dataframe to an interactive table.\"\n",
              "              style=\"display:none;\">\n",
              "        \n",
              "  <svg xmlns=\"http://www.w3.org/2000/svg\" height=\"24px\"viewBox=\"0 0 24 24\"\n",
              "       width=\"24px\">\n",
              "    <path d=\"M0 0h24v24H0V0z\" fill=\"none\"/>\n",
              "    <path d=\"M18.56 5.44l.94 2.06.94-2.06 2.06-.94-2.06-.94-.94-2.06-.94 2.06-2.06.94zm-11 1L8.5 8.5l.94-2.06 2.06-.94-2.06-.94L8.5 2.5l-.94 2.06-2.06.94zm10 10l.94 2.06.94-2.06 2.06-.94-2.06-.94-.94-2.06-.94 2.06-2.06.94z\"/><path d=\"M17.41 7.96l-1.37-1.37c-.4-.4-.92-.59-1.43-.59-.52 0-1.04.2-1.43.59L10.3 9.45l-7.72 7.72c-.78.78-.78 2.05 0 2.83L4 21.41c.39.39.9.59 1.41.59.51 0 1.02-.2 1.41-.59l7.78-7.78 2.81-2.81c.8-.78.8-2.07 0-2.86zM5.41 20L4 18.59l7.72-7.72 1.47 1.35L5.41 20z\"/>\n",
              "  </svg>\n",
              "      </button>\n",
              "      \n",
              "  <style>\n",
              "    .colab-df-container {\n",
              "      display:flex;\n",
              "      flex-wrap:wrap;\n",
              "      gap: 12px;\n",
              "    }\n",
              "\n",
              "    .colab-df-convert {\n",
              "      background-color: #E8F0FE;\n",
              "      border: none;\n",
              "      border-radius: 50%;\n",
              "      cursor: pointer;\n",
              "      display: none;\n",
              "      fill: #1967D2;\n",
              "      height: 32px;\n",
              "      padding: 0 0 0 0;\n",
              "      width: 32px;\n",
              "    }\n",
              "\n",
              "    .colab-df-convert:hover {\n",
              "      background-color: #E2EBFA;\n",
              "      box-shadow: 0px 1px 2px rgba(60, 64, 67, 0.3), 0px 1px 3px 1px rgba(60, 64, 67, 0.15);\n",
              "      fill: #174EA6;\n",
              "    }\n",
              "\n",
              "    [theme=dark] .colab-df-convert {\n",
              "      background-color: #3B4455;\n",
              "      fill: #D2E3FC;\n",
              "    }\n",
              "\n",
              "    [theme=dark] .colab-df-convert:hover {\n",
              "      background-color: #434B5C;\n",
              "      box-shadow: 0px 1px 3px 1px rgba(0, 0, 0, 0.15);\n",
              "      filter: drop-shadow(0px 1px 2px rgba(0, 0, 0, 0.3));\n",
              "      fill: #FFFFFF;\n",
              "    }\n",
              "  </style>\n",
              "\n",
              "      <script>\n",
              "        const buttonEl =\n",
              "          document.querySelector('#df-9ae89abc-7893-4336-bbb7-1743648dd00d button.colab-df-convert');\n",
              "        buttonEl.style.display =\n",
              "          google.colab.kernel.accessAllowed ? 'block' : 'none';\n",
              "\n",
              "        async function convertToInteractive(key) {\n",
              "          const element = document.querySelector('#df-9ae89abc-7893-4336-bbb7-1743648dd00d');\n",
              "          const dataTable =\n",
              "            await google.colab.kernel.invokeFunction('convertToInteractive',\n",
              "                                                     [key], {});\n",
              "          if (!dataTable) return;\n",
              "\n",
              "          const docLinkHtml = 'Like what you see? Visit the ' +\n",
              "            '<a target=\"_blank\" href=https://colab.research.google.com/notebooks/data_table.ipynb>data table notebook</a>'\n",
              "            + ' to learn more about interactive tables.';\n",
              "          element.innerHTML = '';\n",
              "          dataTable['output_type'] = 'display_data';\n",
              "          await google.colab.output.renderOutput(dataTable, element);\n",
              "          const docLink = document.createElement('div');\n",
              "          docLink.innerHTML = docLinkHtml;\n",
              "          element.appendChild(docLink);\n",
              "        }\n",
              "      </script>\n",
              "    </div>\n",
              "  </div>\n",
              "  "
            ]
          },
          "metadata": {},
          "execution_count": 67
        }
      ]
    },
    {
      "cell_type": "markdown",
      "source": [
        "เช็คและแก้ missing"
      ],
      "metadata": {
        "id": "OhPLCBJGVbZ7"
      }
    },
    {
      "cell_type": "code",
      "source": [
        "ass_sh.isnull().any()"
      ],
      "metadata": {
        "outputId": "e0d98b6c-a8a7-4200-a0c0-4c254bbd452f",
        "colab": {
          "base_uri": "https://localhost:8080/"
        },
        "id": "D3xBzWqAVbZ7"
      },
      "execution_count": 68,
      "outputs": [
        {
          "output_type": "execute_result",
          "data": {
            "text/plain": [
              "post id         False\n",
              "ราคาทรัพย์      False\n",
              "ประเมินโดย 1    False\n",
              "ประเมินโดย 2     True\n",
              "dtype: bool"
            ]
          },
          "metadata": {},
          "execution_count": 68
        }
      ]
    },
    {
      "cell_type": "code",
      "source": [
        "ass_sh = ass_sh.dropna(subset=['ราคาทรัพย์','ประเมินโดย 1','ประเมินโดย 2'])"
      ],
      "metadata": {
        "id": "ZqZXfnO_CY99"
      },
      "execution_count": 69,
      "outputs": []
    },
    {
      "cell_type": "code",
      "source": [
        "ass_sh.isnull().any()"
      ],
      "metadata": {
        "colab": {
          "base_uri": "https://localhost:8080/"
        },
        "id": "heHc-hjmCc98",
        "outputId": "615a115d-611f-40b2-e80e-4a87eab8de39"
      },
      "execution_count": 70,
      "outputs": [
        {
          "output_type": "execute_result",
          "data": {
            "text/plain": [
              "post id         False\n",
              "ราคาทรัพย์      False\n",
              "ประเมินโดย 1    False\n",
              "ประเมินโดย 2    False\n",
              "dtype: bool"
            ]
          },
          "metadata": {},
          "execution_count": 70
        }
      ]
    },
    {
      "cell_type": "markdown",
      "source": [
        "### MAPE"
      ],
      "metadata": {
        "id": "MoWFxvzMVbZ7"
      }
    },
    {
      "cell_type": "code",
      "source": [
        "actual_sh = pd.to_numeric(ass_sh['ราคาทรัพย์'])\n",
        "pred_1sh = ass_sh['ประเมินโดย 1']\n",
        "pred_2sh = ass_sh['ประเมินโดย 2']"
      ],
      "metadata": {
        "id": "r1W5A9LAVbZ7"
      },
      "execution_count": 71,
      "outputs": []
    },
    {
      "cell_type": "code",
      "source": [
        "mpsh1 = mape(actual_sh,pred_1sh)\n",
        "mpsh2 = mape(actual_sh,pred_2sh)\n",
        "mpsh12 = mape(pred_1sh,pred_2sh)\n",
        "mpsh21 = mape(pred_2sh,pred_1sh)"
      ],
      "metadata": {
        "id": "wiI6HV67VbZ7"
      },
      "execution_count": 72,
      "outputs": []
    },
    {
      "cell_type": "code",
      "source": [
        "print(f' MAPE ราคาทรัพย์กับผู้ประเมินคนที่ 1 คือ {mpsh1:.2f}\\n MAPE ราคาทรัพย์กับผู้ประเมินคนที่ 2 คือ {mpsh2:.2f}\\n MAPE ราคาตั้งขายของผู้ประเมินคนที่ 1 กับ ผู้ประเมินคนที่ 2 คือ {mpsh12:.2f}\\n MAPE ราคาตั้งขายของผู้ประเมินคนที่ 2 กับ ผู้ประเมินคนที่ 2 คือ {mpsh21:.2f}')"
      ],
      "metadata": {
        "outputId": "85f92048-4f2e-4218-da2d-7ecd998c6e3e",
        "colab": {
          "base_uri": "https://localhost:8080/"
        },
        "id": "TMf6RGP7VbZ7"
      },
      "execution_count": 73,
      "outputs": [
        {
          "output_type": "stream",
          "name": "stdout",
          "text": [
            " MAPE ราคาทรัพย์กับผู้ประเมินคนที่ 1 คือ 0.12\n",
            " MAPE ราคาทรัพย์กับผู้ประเมินคนที่ 2 คือ 0.11\n",
            " MAPE ราคาตั้งขายของผู้ประเมินคนที่ 1 กับ ผู้ประเมินคนที่ 2 คือ 0.13\n",
            " MAPE ราคาตั้งขายของผู้ประเมินคนที่ 2 กับ ผู้ประเมินคนที่ 2 คือ 0.12\n"
          ]
        }
      ]
    },
    {
      "cell_type": "code",
      "source": [
        "ids1 = sh[sh['ID ผู้ประเมิน']==1]\n",
        "ids1 = ids1.dropna(subset=['ราคาทรัพย์','ประเมินราคาซื้อ-ขาย'])\n",
        "ids2 = sh[sh['ID ผู้ประเมิน']==2]\n",
        "ids2 = ids2.dropna(subset=['ราคาทรัพย์','ประเมินราคาซื้อ-ขาย'])\n",
        "ids1MAPE = mape(ids1['ประเมินราคาซื้อ-ขาย'],pd.to_numeric(ids1['ราคาทรัพย์']))\n",
        "ids2MAPE = mape(ids2['ประเมินราคาซื้อ-ขาย'],pd.to_numeric(ids2['ราคาทรัพย์']))\n",
        "print(f'ความแตกต่างระหว่างราคาประกาศขายและราคาประเมินของ\\nบ้าน\\nนักประเมิน คนที่ 1 = {ids1MAPE*100:.2f}%\\nนักประเมิน คนที่ 2 = {ids2MAPE*100:.2f}%')\n",
        "ids2['ประเมิน2'] = ids2['post id'].map(ids1.set_index('post id')['ประเมินราคาซื้อ-ขาย'])\n",
        "id2_s = idt2.dropna(subset=['ประเมินราคาซื้อ-ขาย','ประเมิน2','ราคาทรัพย์'])\n",
        "one2twos = mape(id2_s['ประเมินราคาซื้อ-ขาย'],id2_s['ประเมิน2'])\n",
        "two2ones = mape(id2_s['ประเมิน2'],id2_s['ประเมินราคาซื้อ-ขาย'])\n",
        "print(f'ความผิดพลาดระหว่างนักประเมินทั้ง {((one2twos)+(two2ones))*50:.2f}%')\n",
        "print(f'จำนวนทรัพย์ทั้งหมด {len(id2_s)} ทรัพย์')"
      ],
      "metadata": {
        "colab": {
          "base_uri": "https://localhost:8080/"
        },
        "id": "qEUNWbDlBMO3",
        "outputId": "9c7ca6dc-bae4-4b55-bd20-c6348a708861"
      },
      "execution_count": 74,
      "outputs": [
        {
          "output_type": "stream",
          "name": "stdout",
          "text": [
            "ความแตกต่างระหว่างราคาประกาศขายและราคาประเมินของ\n",
            "บ้าน\n",
            "นักประเมิน คนที่ 1 = 20.25%\n",
            "นักประเมิน คนที่ 2 = 9.49%\n",
            "ความผิดพลาดระหว่างนักประเมินทั้ง 10.92%\n",
            "จำนวนทรัพย์ทั้งหมด 120 ทรัพย์\n"
          ]
        },
        {
          "output_type": "stream",
          "name": "stderr",
          "text": [
            "<ipython-input-74-421a5d0b44dd>:8: SettingWithCopyWarning: \n",
            "A value is trying to be set on a copy of a slice from a DataFrame.\n",
            "Try using .loc[row_indexer,col_indexer] = value instead\n",
            "\n",
            "See the caveats in the documentation: https://pandas.pydata.org/pandas-docs/stable/user_guide/indexing.html#returning-a-view-versus-a-copy\n",
            "  ids2['ประเมิน2'] = ids2['post id'].map(ids1.set_index('post id')['ประเมินราคาซื้อ-ขาย'])\n"
          ]
        }
      ]
    },
    {
      "cell_type": "markdown",
      "source": [
        "# HW2"
      ],
      "metadata": {
        "id": "Kprpw89CCuU2"
      }
    },
    {
      "cell_type": "markdown",
      "source": [
        "# เขียน function ตรวจสอบค่าที่เติม 0 ผิด"
      ],
      "metadata": {
        "id": "HdcWwnF3xSa2"
      }
    },
    {
      "cell_type": "markdown",
      "source": [
        "Check1 = list()\n",
        "for row in ass_h.iterrows() :\n",
        "    print(row)"
      ],
      "metadata": {
        "id": "rCYLBADCxdCy"
      }
    },
    {
      "cell_type": "code",
      "source": [
        "max(10,2)"
      ],
      "metadata": {
        "id": "TXQxtklMFqH0",
        "outputId": "aadf4ee3-5cdd-4c83-b36d-a050d4d4d260",
        "colab": {
          "base_uri": "https://localhost:8080/"
        }
      },
      "execution_count": 75,
      "outputs": [
        {
          "output_type": "execute_result",
          "data": {
            "text/plain": [
              "10"
            ]
          },
          "metadata": {},
          "execution_count": 75
        }
      ]
    },
    {
      "cell_type": "code",
      "source": [
        "def check_v(in1,in2):\n",
        "    return max(in1/in2,in2/in1)"
      ],
      "metadata": {
        "id": "v6Sa_VJrxdCx"
      },
      "execution_count": 76,
      "outputs": []
    },
    {
      "cell_type": "code",
      "source": [
        "check_v(100,12)"
      ],
      "metadata": {
        "id": "lnxFB4JTK2Dp",
        "outputId": "b75ba931-5dcf-4e18-8cd3-6debbc79142e",
        "colab": {
          "base_uri": "https://localhost:8080/"
        }
      },
      "execution_count": 77,
      "outputs": [
        {
          "output_type": "execute_result",
          "data": {
            "text/plain": [
              "8.333333333333334"
            ]
          },
          "metadata": {},
          "execution_count": 77
        }
      ]
    },
    {
      "cell_type": "code",
      "source": [
        "check_v(100,1200)"
      ],
      "metadata": {
        "id": "ksqlA3TtK7W5",
        "outputId": "fcc696fb-c4e3-4d9a-f2a1-5fd0ab26c483",
        "colab": {
          "base_uri": "https://localhost:8080/"
        }
      },
      "execution_count": 78,
      "outputs": [
        {
          "output_type": "execute_result",
          "data": {
            "text/plain": [
              "12.0"
            ]
          },
          "metadata": {},
          "execution_count": 78
        }
      ]
    },
    {
      "cell_type": "markdown",
      "source": [
        "# สร้าง column ใหม่ ลงในตาราง home โดย ค่าใน column คือค่า จาก function check(ราคาตั้งขาย,ราคาประเมิน1)"
      ],
      "metadata": {
        "id": "Wskkq4-aPj1b"
      }
    },
    {
      "cell_type": "code",
      "source": [
        "linke = 'https://docs.google.com/spreadsheets/d/1BfDFCLKHfCOcc7CkEpsxivg-xnJjjXMdmgohbf6vgs0/export?format=xlsx' #google sheet ที่แก้แล้ว"
      ],
      "metadata": {
        "id": "569UDoqHdfqL"
      },
      "execution_count": 79,
      "outputs": []
    },
    {
      "cell_type": "markdown",
      "source": [
        "## House"
      ],
      "metadata": {
        "id": "Px-OanYGxoue"
      }
    },
    {
      "cell_type": "code",
      "source": [
        "ass_h['Check1'] = ass_h.apply(lambda x:check_v(x['ราคาทรัพย์'],x['ประเมินโดย 1']), axis = 1)\n",
        "ass_h['Check2'] = ass_h.apply(lambda x:check_v(x['ราคาทรัพย์'],x['ประเมินโดย 2']), axis = 1)"
      ],
      "metadata": {
        "id": "9eOhc1ykDwh4"
      },
      "execution_count": 80,
      "outputs": []
    },
    {
      "cell_type": "code",
      "source": [
        "ass_h.sort_values(by=['Check1'], ascending=False)"
      ],
      "metadata": {
        "outputId": "b8fc0b15-78cf-4338-93e7-b5f854d576bb",
        "colab": {
          "base_uri": "https://localhost:8080/",
          "height": 424
        },
        "id": "FEVcKUccxdCy"
      },
      "execution_count": 81,
      "outputs": [
        {
          "output_type": "execute_result",
          "data": {
            "text/plain": [
              "                                   post id  ราคาทรัพย์  ประเมินโดย 1  \\\n",
              "802   https://nayoo.co/khonkaen/posts/3208    23900000     2300000.0   \n",
              "1070  https://nayoo.co/khonkaen/posts/6037     1450000     3500000.0   \n",
              "228    https://nayoo.co/khonkaen/posts/525     1933000      830000.0   \n",
              "1210  https://nayoo.co/khonkaen/posts/6255      260000      550000.0   \n",
              "767   https://nayoo.co/khonkaen/posts/2321      465000      900000.0   \n",
              "...                                    ...         ...           ...   \n",
              "266    https://nayoo.co/khonkaen/posts/585     3300000     3300000.0   \n",
              "63    https://nayoo.co/khonkaen/posts/2033     1200000     1200000.0   \n",
              "652   https://nayoo.co/khonkaen/posts/2256     2000000     2000000.0   \n",
              "43    https://nayoo.co/khonkaen/posts/1128     4200000     4200000.0   \n",
              "928   https://nayoo.co/khonkaen/posts/3819     2500000     2500000.0   \n",
              "\n",
              "      ประเมินโดย 2     Check1     Check2  \n",
              "802      2200000.0  10.391304  10.863636  \n",
              "1070     3000000.0   2.413793   2.068966  \n",
              "228      2200000.0   2.328916   1.138127  \n",
              "1210      300000.0   2.115385   1.153846  \n",
              "767       400000.0   1.935484   1.162500  \n",
              "...            ...        ...        ...  \n",
              "266      3500000.0   1.000000   1.060606  \n",
              "63       1000000.0   1.000000   1.200000  \n",
              "652      2200000.0   1.000000   1.100000  \n",
              "43       5000000.0   1.000000   1.190476  \n",
              "928      2900000.0   1.000000   1.160000  \n",
              "\n",
              "[498 rows x 6 columns]"
            ],
            "text/html": [
              "\n",
              "  <div id=\"df-baa94fbc-c9fc-40ad-8c27-1642d5c9f69a\">\n",
              "    <div class=\"colab-df-container\">\n",
              "      <div>\n",
              "<style scoped>\n",
              "    .dataframe tbody tr th:only-of-type {\n",
              "        vertical-align: middle;\n",
              "    }\n",
              "\n",
              "    .dataframe tbody tr th {\n",
              "        vertical-align: top;\n",
              "    }\n",
              "\n",
              "    .dataframe thead th {\n",
              "        text-align: right;\n",
              "    }\n",
              "</style>\n",
              "<table border=\"1\" class=\"dataframe\">\n",
              "  <thead>\n",
              "    <tr style=\"text-align: right;\">\n",
              "      <th></th>\n",
              "      <th>post id</th>\n",
              "      <th>ราคาทรัพย์</th>\n",
              "      <th>ประเมินโดย 1</th>\n",
              "      <th>ประเมินโดย 2</th>\n",
              "      <th>Check1</th>\n",
              "      <th>Check2</th>\n",
              "    </tr>\n",
              "  </thead>\n",
              "  <tbody>\n",
              "    <tr>\n",
              "      <th>802</th>\n",
              "      <td>https://nayoo.co/khonkaen/posts/3208</td>\n",
              "      <td>23900000</td>\n",
              "      <td>2300000.0</td>\n",
              "      <td>2200000.0</td>\n",
              "      <td>10.391304</td>\n",
              "      <td>10.863636</td>\n",
              "    </tr>\n",
              "    <tr>\n",
              "      <th>1070</th>\n",
              "      <td>https://nayoo.co/khonkaen/posts/6037</td>\n",
              "      <td>1450000</td>\n",
              "      <td>3500000.0</td>\n",
              "      <td>3000000.0</td>\n",
              "      <td>2.413793</td>\n",
              "      <td>2.068966</td>\n",
              "    </tr>\n",
              "    <tr>\n",
              "      <th>228</th>\n",
              "      <td>https://nayoo.co/khonkaen/posts/525</td>\n",
              "      <td>1933000</td>\n",
              "      <td>830000.0</td>\n",
              "      <td>2200000.0</td>\n",
              "      <td>2.328916</td>\n",
              "      <td>1.138127</td>\n",
              "    </tr>\n",
              "    <tr>\n",
              "      <th>1210</th>\n",
              "      <td>https://nayoo.co/khonkaen/posts/6255</td>\n",
              "      <td>260000</td>\n",
              "      <td>550000.0</td>\n",
              "      <td>300000.0</td>\n",
              "      <td>2.115385</td>\n",
              "      <td>1.153846</td>\n",
              "    </tr>\n",
              "    <tr>\n",
              "      <th>767</th>\n",
              "      <td>https://nayoo.co/khonkaen/posts/2321</td>\n",
              "      <td>465000</td>\n",
              "      <td>900000.0</td>\n",
              "      <td>400000.0</td>\n",
              "      <td>1.935484</td>\n",
              "      <td>1.162500</td>\n",
              "    </tr>\n",
              "    <tr>\n",
              "      <th>...</th>\n",
              "      <td>...</td>\n",
              "      <td>...</td>\n",
              "      <td>...</td>\n",
              "      <td>...</td>\n",
              "      <td>...</td>\n",
              "      <td>...</td>\n",
              "    </tr>\n",
              "    <tr>\n",
              "      <th>266</th>\n",
              "      <td>https://nayoo.co/khonkaen/posts/585</td>\n",
              "      <td>3300000</td>\n",
              "      <td>3300000.0</td>\n",
              "      <td>3500000.0</td>\n",
              "      <td>1.000000</td>\n",
              "      <td>1.060606</td>\n",
              "    </tr>\n",
              "    <tr>\n",
              "      <th>63</th>\n",
              "      <td>https://nayoo.co/khonkaen/posts/2033</td>\n",
              "      <td>1200000</td>\n",
              "      <td>1200000.0</td>\n",
              "      <td>1000000.0</td>\n",
              "      <td>1.000000</td>\n",
              "      <td>1.200000</td>\n",
              "    </tr>\n",
              "    <tr>\n",
              "      <th>652</th>\n",
              "      <td>https://nayoo.co/khonkaen/posts/2256</td>\n",
              "      <td>2000000</td>\n",
              "      <td>2000000.0</td>\n",
              "      <td>2200000.0</td>\n",
              "      <td>1.000000</td>\n",
              "      <td>1.100000</td>\n",
              "    </tr>\n",
              "    <tr>\n",
              "      <th>43</th>\n",
              "      <td>https://nayoo.co/khonkaen/posts/1128</td>\n",
              "      <td>4200000</td>\n",
              "      <td>4200000.0</td>\n",
              "      <td>5000000.0</td>\n",
              "      <td>1.000000</td>\n",
              "      <td>1.190476</td>\n",
              "    </tr>\n",
              "    <tr>\n",
              "      <th>928</th>\n",
              "      <td>https://nayoo.co/khonkaen/posts/3819</td>\n",
              "      <td>2500000</td>\n",
              "      <td>2500000.0</td>\n",
              "      <td>2900000.0</td>\n",
              "      <td>1.000000</td>\n",
              "      <td>1.160000</td>\n",
              "    </tr>\n",
              "  </tbody>\n",
              "</table>\n",
              "<p>498 rows × 6 columns</p>\n",
              "</div>\n",
              "      <button class=\"colab-df-convert\" onclick=\"convertToInteractive('df-baa94fbc-c9fc-40ad-8c27-1642d5c9f69a')\"\n",
              "              title=\"Convert this dataframe to an interactive table.\"\n",
              "              style=\"display:none;\">\n",
              "        \n",
              "  <svg xmlns=\"http://www.w3.org/2000/svg\" height=\"24px\"viewBox=\"0 0 24 24\"\n",
              "       width=\"24px\">\n",
              "    <path d=\"M0 0h24v24H0V0z\" fill=\"none\"/>\n",
              "    <path d=\"M18.56 5.44l.94 2.06.94-2.06 2.06-.94-2.06-.94-.94-2.06-.94 2.06-2.06.94zm-11 1L8.5 8.5l.94-2.06 2.06-.94-2.06-.94L8.5 2.5l-.94 2.06-2.06.94zm10 10l.94 2.06.94-2.06 2.06-.94-2.06-.94-.94-2.06-.94 2.06-2.06.94z\"/><path d=\"M17.41 7.96l-1.37-1.37c-.4-.4-.92-.59-1.43-.59-.52 0-1.04.2-1.43.59L10.3 9.45l-7.72 7.72c-.78.78-.78 2.05 0 2.83L4 21.41c.39.39.9.59 1.41.59.51 0 1.02-.2 1.41-.59l7.78-7.78 2.81-2.81c.8-.78.8-2.07 0-2.86zM5.41 20L4 18.59l7.72-7.72 1.47 1.35L5.41 20z\"/>\n",
              "  </svg>\n",
              "      </button>\n",
              "      \n",
              "  <style>\n",
              "    .colab-df-container {\n",
              "      display:flex;\n",
              "      flex-wrap:wrap;\n",
              "      gap: 12px;\n",
              "    }\n",
              "\n",
              "    .colab-df-convert {\n",
              "      background-color: #E8F0FE;\n",
              "      border: none;\n",
              "      border-radius: 50%;\n",
              "      cursor: pointer;\n",
              "      display: none;\n",
              "      fill: #1967D2;\n",
              "      height: 32px;\n",
              "      padding: 0 0 0 0;\n",
              "      width: 32px;\n",
              "    }\n",
              "\n",
              "    .colab-df-convert:hover {\n",
              "      background-color: #E2EBFA;\n",
              "      box-shadow: 0px 1px 2px rgba(60, 64, 67, 0.3), 0px 1px 3px 1px rgba(60, 64, 67, 0.15);\n",
              "      fill: #174EA6;\n",
              "    }\n",
              "\n",
              "    [theme=dark] .colab-df-convert {\n",
              "      background-color: #3B4455;\n",
              "      fill: #D2E3FC;\n",
              "    }\n",
              "\n",
              "    [theme=dark] .colab-df-convert:hover {\n",
              "      background-color: #434B5C;\n",
              "      box-shadow: 0px 1px 3px 1px rgba(0, 0, 0, 0.15);\n",
              "      filter: drop-shadow(0px 1px 2px rgba(0, 0, 0, 0.3));\n",
              "      fill: #FFFFFF;\n",
              "    }\n",
              "  </style>\n",
              "\n",
              "      <script>\n",
              "        const buttonEl =\n",
              "          document.querySelector('#df-baa94fbc-c9fc-40ad-8c27-1642d5c9f69a button.colab-df-convert');\n",
              "        buttonEl.style.display =\n",
              "          google.colab.kernel.accessAllowed ? 'block' : 'none';\n",
              "\n",
              "        async function convertToInteractive(key) {\n",
              "          const element = document.querySelector('#df-baa94fbc-c9fc-40ad-8c27-1642d5c9f69a');\n",
              "          const dataTable =\n",
              "            await google.colab.kernel.invokeFunction('convertToInteractive',\n",
              "                                                     [key], {});\n",
              "          if (!dataTable) return;\n",
              "\n",
              "          const docLinkHtml = 'Like what you see? Visit the ' +\n",
              "            '<a target=\"_blank\" href=https://colab.research.google.com/notebooks/data_table.ipynb>data table notebook</a>'\n",
              "            + ' to learn more about interactive tables.';\n",
              "          element.innerHTML = '';\n",
              "          dataTable['output_type'] = 'display_data';\n",
              "          await google.colab.output.renderOutput(dataTable, element);\n",
              "          const docLink = document.createElement('div');\n",
              "          docLink.innerHTML = docLinkHtml;\n",
              "          element.appendChild(docLink);\n",
              "        }\n",
              "      </script>\n",
              "    </div>\n",
              "  </div>\n",
              "  "
            ]
          },
          "metadata": {},
          "execution_count": 81
        }
      ]
    },
    {
      "cell_type": "code",
      "source": [
        "ass_h.sort_values(by=['Check2'], ascending=False)"
      ],
      "metadata": {
        "colab": {
          "base_uri": "https://localhost:8080/",
          "height": 424
        },
        "id": "czmsTrgyD6fH",
        "outputId": "2d9c0b2b-f6c2-40e3-e2b3-e2151c83e62f"
      },
      "execution_count": 82,
      "outputs": [
        {
          "output_type": "execute_result",
          "data": {
            "text/plain": [
              "                                    post id  ราคาทรัพย์  ประเมินโดย 1  \\\n",
              "802    https://nayoo.co/khonkaen/posts/3208    23900000     2300000.0   \n",
              "544    https://nayoo.co/khonkaen/posts/1619     2850000     2500000.0   \n",
              "292     https://nayoo.co/khonkaen/posts/622     8019000     7900000.0   \n",
              "75        https://nayoo.co/khonkaen/posts/1      390000      600000.0   \n",
              "1070   https://nayoo.co/khonkaen/posts/6037     1450000     3500000.0   \n",
              "...                                     ...         ...           ...   \n",
              "806    https://nayoo.co/khonkaen/posts/3210     2390000     2500000.0   \n",
              "169   https://nayoo.co/khonkaen/posts/11264     6500000     5600000.0   \n",
              "763    https://nayoo.co/khonkaen/posts/2319     1200000     1200000.0   \n",
              "1149   https://nayoo.co/khonkaen/posts/6096     2200000     2200000.0   \n",
              "564    https://nayoo.co/khonkaen/posts/1834     1700000     1500000.0   \n",
              "\n",
              "      ประเมินโดย 2     Check1     Check2  \n",
              "802      2200000.0  10.391304  10.863636  \n",
              "544     29000000.0   1.140000  10.175439  \n",
              "292     80000000.0   1.015063   9.976306  \n",
              "75       1300000.0   1.538462   3.333333  \n",
              "1070     3000000.0   2.413793   2.068966  \n",
              "...            ...        ...        ...  \n",
              "806      2390000.0   1.046025   1.000000  \n",
              "169      6500000.0   1.160714   1.000000  \n",
              "763      1200000.0   1.000000   1.000000  \n",
              "1149     2200000.0   1.000000   1.000000  \n",
              "564      1700000.0   1.133333   1.000000  \n",
              "\n",
              "[498 rows x 6 columns]"
            ],
            "text/html": [
              "\n",
              "  <div id=\"df-d47217b3-6b3a-48be-b708-1bce2dfc3885\">\n",
              "    <div class=\"colab-df-container\">\n",
              "      <div>\n",
              "<style scoped>\n",
              "    .dataframe tbody tr th:only-of-type {\n",
              "        vertical-align: middle;\n",
              "    }\n",
              "\n",
              "    .dataframe tbody tr th {\n",
              "        vertical-align: top;\n",
              "    }\n",
              "\n",
              "    .dataframe thead th {\n",
              "        text-align: right;\n",
              "    }\n",
              "</style>\n",
              "<table border=\"1\" class=\"dataframe\">\n",
              "  <thead>\n",
              "    <tr style=\"text-align: right;\">\n",
              "      <th></th>\n",
              "      <th>post id</th>\n",
              "      <th>ราคาทรัพย์</th>\n",
              "      <th>ประเมินโดย 1</th>\n",
              "      <th>ประเมินโดย 2</th>\n",
              "      <th>Check1</th>\n",
              "      <th>Check2</th>\n",
              "    </tr>\n",
              "  </thead>\n",
              "  <tbody>\n",
              "    <tr>\n",
              "      <th>802</th>\n",
              "      <td>https://nayoo.co/khonkaen/posts/3208</td>\n",
              "      <td>23900000</td>\n",
              "      <td>2300000.0</td>\n",
              "      <td>2200000.0</td>\n",
              "      <td>10.391304</td>\n",
              "      <td>10.863636</td>\n",
              "    </tr>\n",
              "    <tr>\n",
              "      <th>544</th>\n",
              "      <td>https://nayoo.co/khonkaen/posts/1619</td>\n",
              "      <td>2850000</td>\n",
              "      <td>2500000.0</td>\n",
              "      <td>29000000.0</td>\n",
              "      <td>1.140000</td>\n",
              "      <td>10.175439</td>\n",
              "    </tr>\n",
              "    <tr>\n",
              "      <th>292</th>\n",
              "      <td>https://nayoo.co/khonkaen/posts/622</td>\n",
              "      <td>8019000</td>\n",
              "      <td>7900000.0</td>\n",
              "      <td>80000000.0</td>\n",
              "      <td>1.015063</td>\n",
              "      <td>9.976306</td>\n",
              "    </tr>\n",
              "    <tr>\n",
              "      <th>75</th>\n",
              "      <td>https://nayoo.co/khonkaen/posts/1</td>\n",
              "      <td>390000</td>\n",
              "      <td>600000.0</td>\n",
              "      <td>1300000.0</td>\n",
              "      <td>1.538462</td>\n",
              "      <td>3.333333</td>\n",
              "    </tr>\n",
              "    <tr>\n",
              "      <th>1070</th>\n",
              "      <td>https://nayoo.co/khonkaen/posts/6037</td>\n",
              "      <td>1450000</td>\n",
              "      <td>3500000.0</td>\n",
              "      <td>3000000.0</td>\n",
              "      <td>2.413793</td>\n",
              "      <td>2.068966</td>\n",
              "    </tr>\n",
              "    <tr>\n",
              "      <th>...</th>\n",
              "      <td>...</td>\n",
              "      <td>...</td>\n",
              "      <td>...</td>\n",
              "      <td>...</td>\n",
              "      <td>...</td>\n",
              "      <td>...</td>\n",
              "    </tr>\n",
              "    <tr>\n",
              "      <th>806</th>\n",
              "      <td>https://nayoo.co/khonkaen/posts/3210</td>\n",
              "      <td>2390000</td>\n",
              "      <td>2500000.0</td>\n",
              "      <td>2390000.0</td>\n",
              "      <td>1.046025</td>\n",
              "      <td>1.000000</td>\n",
              "    </tr>\n",
              "    <tr>\n",
              "      <th>169</th>\n",
              "      <td>https://nayoo.co/khonkaen/posts/11264</td>\n",
              "      <td>6500000</td>\n",
              "      <td>5600000.0</td>\n",
              "      <td>6500000.0</td>\n",
              "      <td>1.160714</td>\n",
              "      <td>1.000000</td>\n",
              "    </tr>\n",
              "    <tr>\n",
              "      <th>763</th>\n",
              "      <td>https://nayoo.co/khonkaen/posts/2319</td>\n",
              "      <td>1200000</td>\n",
              "      <td>1200000.0</td>\n",
              "      <td>1200000.0</td>\n",
              "      <td>1.000000</td>\n",
              "      <td>1.000000</td>\n",
              "    </tr>\n",
              "    <tr>\n",
              "      <th>1149</th>\n",
              "      <td>https://nayoo.co/khonkaen/posts/6096</td>\n",
              "      <td>2200000</td>\n",
              "      <td>2200000.0</td>\n",
              "      <td>2200000.0</td>\n",
              "      <td>1.000000</td>\n",
              "      <td>1.000000</td>\n",
              "    </tr>\n",
              "    <tr>\n",
              "      <th>564</th>\n",
              "      <td>https://nayoo.co/khonkaen/posts/1834</td>\n",
              "      <td>1700000</td>\n",
              "      <td>1500000.0</td>\n",
              "      <td>1700000.0</td>\n",
              "      <td>1.133333</td>\n",
              "      <td>1.000000</td>\n",
              "    </tr>\n",
              "  </tbody>\n",
              "</table>\n",
              "<p>498 rows × 6 columns</p>\n",
              "</div>\n",
              "      <button class=\"colab-df-convert\" onclick=\"convertToInteractive('df-d47217b3-6b3a-48be-b708-1bce2dfc3885')\"\n",
              "              title=\"Convert this dataframe to an interactive table.\"\n",
              "              style=\"display:none;\">\n",
              "        \n",
              "  <svg xmlns=\"http://www.w3.org/2000/svg\" height=\"24px\"viewBox=\"0 0 24 24\"\n",
              "       width=\"24px\">\n",
              "    <path d=\"M0 0h24v24H0V0z\" fill=\"none\"/>\n",
              "    <path d=\"M18.56 5.44l.94 2.06.94-2.06 2.06-.94-2.06-.94-.94-2.06-.94 2.06-2.06.94zm-11 1L8.5 8.5l.94-2.06 2.06-.94-2.06-.94L8.5 2.5l-.94 2.06-2.06.94zm10 10l.94 2.06.94-2.06 2.06-.94-2.06-.94-.94-2.06-.94 2.06-2.06.94z\"/><path d=\"M17.41 7.96l-1.37-1.37c-.4-.4-.92-.59-1.43-.59-.52 0-1.04.2-1.43.59L10.3 9.45l-7.72 7.72c-.78.78-.78 2.05 0 2.83L4 21.41c.39.39.9.59 1.41.59.51 0 1.02-.2 1.41-.59l7.78-7.78 2.81-2.81c.8-.78.8-2.07 0-2.86zM5.41 20L4 18.59l7.72-7.72 1.47 1.35L5.41 20z\"/>\n",
              "  </svg>\n",
              "      </button>\n",
              "      \n",
              "  <style>\n",
              "    .colab-df-container {\n",
              "      display:flex;\n",
              "      flex-wrap:wrap;\n",
              "      gap: 12px;\n",
              "    }\n",
              "\n",
              "    .colab-df-convert {\n",
              "      background-color: #E8F0FE;\n",
              "      border: none;\n",
              "      border-radius: 50%;\n",
              "      cursor: pointer;\n",
              "      display: none;\n",
              "      fill: #1967D2;\n",
              "      height: 32px;\n",
              "      padding: 0 0 0 0;\n",
              "      width: 32px;\n",
              "    }\n",
              "\n",
              "    .colab-df-convert:hover {\n",
              "      background-color: #E2EBFA;\n",
              "      box-shadow: 0px 1px 2px rgba(60, 64, 67, 0.3), 0px 1px 3px 1px rgba(60, 64, 67, 0.15);\n",
              "      fill: #174EA6;\n",
              "    }\n",
              "\n",
              "    [theme=dark] .colab-df-convert {\n",
              "      background-color: #3B4455;\n",
              "      fill: #D2E3FC;\n",
              "    }\n",
              "\n",
              "    [theme=dark] .colab-df-convert:hover {\n",
              "      background-color: #434B5C;\n",
              "      box-shadow: 0px 1px 3px 1px rgba(0, 0, 0, 0.15);\n",
              "      filter: drop-shadow(0px 1px 2px rgba(0, 0, 0, 0.3));\n",
              "      fill: #FFFFFF;\n",
              "    }\n",
              "  </style>\n",
              "\n",
              "      <script>\n",
              "        const buttonEl =\n",
              "          document.querySelector('#df-d47217b3-6b3a-48be-b708-1bce2dfc3885 button.colab-df-convert');\n",
              "        buttonEl.style.display =\n",
              "          google.colab.kernel.accessAllowed ? 'block' : 'none';\n",
              "\n",
              "        async function convertToInteractive(key) {\n",
              "          const element = document.querySelector('#df-d47217b3-6b3a-48be-b708-1bce2dfc3885');\n",
              "          const dataTable =\n",
              "            await google.colab.kernel.invokeFunction('convertToInteractive',\n",
              "                                                     [key], {});\n",
              "          if (!dataTable) return;\n",
              "\n",
              "          const docLinkHtml = 'Like what you see? Visit the ' +\n",
              "            '<a target=\"_blank\" href=https://colab.research.google.com/notebooks/data_table.ipynb>data table notebook</a>'\n",
              "            + ' to learn more about interactive tables.';\n",
              "          element.innerHTML = '';\n",
              "          dataTable['output_type'] = 'display_data';\n",
              "          await google.colab.output.renderOutput(dataTable, element);\n",
              "          const docLink = document.createElement('div');\n",
              "          docLink.innerHTML = docLinkHtml;\n",
              "          element.appendChild(docLink);\n",
              "        }\n",
              "      </script>\n",
              "    </div>\n",
              "  </div>\n",
              "  "
            ]
          },
          "metadata": {},
          "execution_count": 82
        }
      ]
    },
    {
      "cell_type": "markdown",
      "source": [
        "- แก้(2) 1619,622\n",
        "- ลบ 3208\n"
      ],
      "metadata": {
        "id": "19hfH5ji4XLd"
      }
    },
    {
      "cell_type": "markdown",
      "source": [
        "### MAPE ใหม่"
      ],
      "metadata": {
        "id": "6o0C6YPJsQYp"
      }
    },
    {
      "cell_type": "code",
      "source": [
        "house_e = pd.read_excel(linke,sheet_name='house')\n",
        "id1 = house_e[house_e['ID ผู้ประเมิน']==1]\n",
        "id1 = id1.dropna(subset=['ราคาทรัพย์','ประเมินราคาซื้อ-ขาย'])\n",
        "id2 = house_e[house_e['ID ผู้ประเมิน']==2]\n",
        "id2 = id2.dropna(subset=['ราคาทรัพย์','ประเมินราคาซื้อ-ขาย'])\n",
        "id1MAPE = mape(id1['ประเมินราคาซื้อ-ขาย'],pd.to_numeric(id1['ราคาทรัพย์']))\n",
        "id2MAPE = mape(id2['ประเมินราคาซื้อ-ขาย'],pd.to_numeric(id2['ราคาทรัพย์']))\n",
        "print(f'ความแตกต่างระหว่างราคาประกาศขายและราคาประเมินของ\\nบ้าน\\nนักประเมิน คนที่ 1 = {id1MAPE*100:.2f}%\\nนักประเมิน คนที่ 2 = {id2MAPE*100:.2f}%')\n",
        "id2['ประเมิน2'] = id2['post id'].map(id1.set_index('post id')['ประเมินราคาซื้อ-ขาย'])\n",
        "id2_d = id2.dropna(subset=['ประเมินราคาซื้อ-ขาย','ประเมิน2','ราคาทรัพย์'])\n",
        "one2two = mape(id2_d['ประเมินราคาซื้อ-ขาย'],id2_d['ประเมิน2'])\n",
        "two2one = mape(id2_d['ประเมิน2'],id2_d['ประเมินราคาซื้อ-ขาย'])\n",
        "print(f'ความผิดพลาดระหว่างนักประเมินทั้ง {((one2two)+(two2one))*50:.2f}%')\n",
        "print(f'จำนวนทรัพย์ทั้งหมด {len(id2_d)} ทรัพย์')"
      ],
      "metadata": {
        "colab": {
          "base_uri": "https://localhost:8080/"
        },
        "id": "fMua5eaCsS1b",
        "outputId": "8cac5208-2f3c-4437-95f7-6d258b79f759"
      },
      "execution_count": 83,
      "outputs": [
        {
          "output_type": "stream",
          "name": "stdout",
          "text": [
            "ความแตกต่างระหว่างราคาประกาศขายและราคาประเมินของ\n",
            "บ้าน\n",
            "นักประเมิน คนที่ 1 = 12.97%\n",
            "นักประเมิน คนที่ 2 = 8.82%\n",
            "ความผิดพลาดระหว่างนักประเมินทั้ง 12.45%\n",
            "จำนวนทรัพย์ทั้งหมด 497 ทรัพย์\n"
          ]
        }
      ]
    },
    {
      "cell_type": "markdown",
      "source": [
        "## Land"
      ],
      "metadata": {
        "id": "Kzew5AVqOB0Z"
      }
    },
    {
      "cell_type": "code",
      "source": [
        "ass_l['Check1'] = ass_l.apply(lambda x:check_v(x['ราคาทรัพย์'],x['ประเมินโดย 1']), axis = 1)\n",
        "ass_l['Check2'] = ass_l.apply(lambda x:check_v(x['ราคาทรัพย์'],x['ประเมินโดย 2']), axis = 1)"
      ],
      "metadata": {
        "colab": {
          "base_uri": "https://localhost:8080/"
        },
        "id": "bHWmuvFgENox",
        "outputId": "0aad5ca2-16fb-4b39-ccd1-25b7661d98bd"
      },
      "execution_count": 84,
      "outputs": [
        {
          "output_type": "stream",
          "name": "stderr",
          "text": [
            "<ipython-input-84-33bffeb5ccf1>:1: SettingWithCopyWarning: \n",
            "A value is trying to be set on a copy of a slice from a DataFrame.\n",
            "Try using .loc[row_indexer,col_indexer] = value instead\n",
            "\n",
            "See the caveats in the documentation: https://pandas.pydata.org/pandas-docs/stable/user_guide/indexing.html#returning-a-view-versus-a-copy\n",
            "  ass_l['Check1'] = ass_l.apply(lambda x:check_v(x['ราคาทรัพย์'],x['ประเมินโดย 1']), axis = 1)\n",
            "<ipython-input-84-33bffeb5ccf1>:2: SettingWithCopyWarning: \n",
            "A value is trying to be set on a copy of a slice from a DataFrame.\n",
            "Try using .loc[row_indexer,col_indexer] = value instead\n",
            "\n",
            "See the caveats in the documentation: https://pandas.pydata.org/pandas-docs/stable/user_guide/indexing.html#returning-a-view-versus-a-copy\n",
            "  ass_l['Check2'] = ass_l.apply(lambda x:check_v(x['ราคาทรัพย์'],x['ประเมินโดย 2']), axis = 1)\n"
          ]
        }
      ]
    },
    {
      "cell_type": "code",
      "source": [
        "ass_l.sort_values(by=['Check1'], ascending=False)"
      ],
      "metadata": {
        "colab": {
          "base_uri": "https://localhost:8080/",
          "height": 424
        },
        "id": "lE-djjxjOVn-",
        "outputId": "81a07cf9-b6ac-4af2-a04b-4e2d2559e771"
      },
      "execution_count": 85,
      "outputs": [
        {
          "output_type": "execute_result",
          "data": {
            "text/plain": [
              "                                   post id  ราคาทรัพย์  ประเมินโดย 1  \\\n",
              "194  https://nayoo.co/khonkaen/posts/13702    90000000     4500000.0   \n",
              "112   https://nayoo.co/khonkaen/posts/7955     2600000    32000000.0   \n",
              "47    https://nayoo.co/khonkaen/posts/7349   245000000    24000000.0   \n",
              "58    https://nayoo.co/khonkaen/posts/9203   120000000    14000000.0   \n",
              "7     https://nayoo.co/khonkaen/posts/1726    90000000    18000000.0   \n",
              "..                                     ...         ...           ...   \n",
              "182   https://nayoo.co/khonkaen/posts/9598     3900000     4000000.0   \n",
              "78    https://nayoo.co/khonkaen/posts/3447      980000     1000000.0   \n",
              "100   https://nayoo.co/khonkaen/posts/1663     1485000     1500000.0   \n",
              "122  https://nayoo.co/khonkaen/posts/12762      650000      650000.0   \n",
              "130   https://nayoo.co/khonkaen/posts/1599     2500000     2500000.0   \n",
              "\n",
              "     ประเมินโดย 2     Check1     Check2  \n",
              "194    75000000.0  20.000000   1.200000  \n",
              "112     2000000.0  12.307692   1.300000  \n",
              "47     18000000.0  10.208333  13.611111  \n",
              "58     11000000.0   8.571429  10.909091  \n",
              "7      70000000.0   5.000000   1.285714  \n",
              "..            ...        ...        ...  \n",
              "182     4000000.0   1.025641   1.025641  \n",
              "78       800000.0   1.020408   1.225000  \n",
              "100     1200000.0   1.010101   1.237500  \n",
              "122      700000.0   1.000000   1.076923  \n",
              "130     2200000.0   1.000000   1.136364  \n",
              "\n",
              "[100 rows x 6 columns]"
            ],
            "text/html": [
              "\n",
              "  <div id=\"df-1703b494-5a02-4c85-84a9-0d0b4e9db1f5\">\n",
              "    <div class=\"colab-df-container\">\n",
              "      <div>\n",
              "<style scoped>\n",
              "    .dataframe tbody tr th:only-of-type {\n",
              "        vertical-align: middle;\n",
              "    }\n",
              "\n",
              "    .dataframe tbody tr th {\n",
              "        vertical-align: top;\n",
              "    }\n",
              "\n",
              "    .dataframe thead th {\n",
              "        text-align: right;\n",
              "    }\n",
              "</style>\n",
              "<table border=\"1\" class=\"dataframe\">\n",
              "  <thead>\n",
              "    <tr style=\"text-align: right;\">\n",
              "      <th></th>\n",
              "      <th>post id</th>\n",
              "      <th>ราคาทรัพย์</th>\n",
              "      <th>ประเมินโดย 1</th>\n",
              "      <th>ประเมินโดย 2</th>\n",
              "      <th>Check1</th>\n",
              "      <th>Check2</th>\n",
              "    </tr>\n",
              "  </thead>\n",
              "  <tbody>\n",
              "    <tr>\n",
              "      <th>194</th>\n",
              "      <td>https://nayoo.co/khonkaen/posts/13702</td>\n",
              "      <td>90000000</td>\n",
              "      <td>4500000.0</td>\n",
              "      <td>75000000.0</td>\n",
              "      <td>20.000000</td>\n",
              "      <td>1.200000</td>\n",
              "    </tr>\n",
              "    <tr>\n",
              "      <th>112</th>\n",
              "      <td>https://nayoo.co/khonkaen/posts/7955</td>\n",
              "      <td>2600000</td>\n",
              "      <td>32000000.0</td>\n",
              "      <td>2000000.0</td>\n",
              "      <td>12.307692</td>\n",
              "      <td>1.300000</td>\n",
              "    </tr>\n",
              "    <tr>\n",
              "      <th>47</th>\n",
              "      <td>https://nayoo.co/khonkaen/posts/7349</td>\n",
              "      <td>245000000</td>\n",
              "      <td>24000000.0</td>\n",
              "      <td>18000000.0</td>\n",
              "      <td>10.208333</td>\n",
              "      <td>13.611111</td>\n",
              "    </tr>\n",
              "    <tr>\n",
              "      <th>58</th>\n",
              "      <td>https://nayoo.co/khonkaen/posts/9203</td>\n",
              "      <td>120000000</td>\n",
              "      <td>14000000.0</td>\n",
              "      <td>11000000.0</td>\n",
              "      <td>8.571429</td>\n",
              "      <td>10.909091</td>\n",
              "    </tr>\n",
              "    <tr>\n",
              "      <th>7</th>\n",
              "      <td>https://nayoo.co/khonkaen/posts/1726</td>\n",
              "      <td>90000000</td>\n",
              "      <td>18000000.0</td>\n",
              "      <td>70000000.0</td>\n",
              "      <td>5.000000</td>\n",
              "      <td>1.285714</td>\n",
              "    </tr>\n",
              "    <tr>\n",
              "      <th>...</th>\n",
              "      <td>...</td>\n",
              "      <td>...</td>\n",
              "      <td>...</td>\n",
              "      <td>...</td>\n",
              "      <td>...</td>\n",
              "      <td>...</td>\n",
              "    </tr>\n",
              "    <tr>\n",
              "      <th>182</th>\n",
              "      <td>https://nayoo.co/khonkaen/posts/9598</td>\n",
              "      <td>3900000</td>\n",
              "      <td>4000000.0</td>\n",
              "      <td>4000000.0</td>\n",
              "      <td>1.025641</td>\n",
              "      <td>1.025641</td>\n",
              "    </tr>\n",
              "    <tr>\n",
              "      <th>78</th>\n",
              "      <td>https://nayoo.co/khonkaen/posts/3447</td>\n",
              "      <td>980000</td>\n",
              "      <td>1000000.0</td>\n",
              "      <td>800000.0</td>\n",
              "      <td>1.020408</td>\n",
              "      <td>1.225000</td>\n",
              "    </tr>\n",
              "    <tr>\n",
              "      <th>100</th>\n",
              "      <td>https://nayoo.co/khonkaen/posts/1663</td>\n",
              "      <td>1485000</td>\n",
              "      <td>1500000.0</td>\n",
              "      <td>1200000.0</td>\n",
              "      <td>1.010101</td>\n",
              "      <td>1.237500</td>\n",
              "    </tr>\n",
              "    <tr>\n",
              "      <th>122</th>\n",
              "      <td>https://nayoo.co/khonkaen/posts/12762</td>\n",
              "      <td>650000</td>\n",
              "      <td>650000.0</td>\n",
              "      <td>700000.0</td>\n",
              "      <td>1.000000</td>\n",
              "      <td>1.076923</td>\n",
              "    </tr>\n",
              "    <tr>\n",
              "      <th>130</th>\n",
              "      <td>https://nayoo.co/khonkaen/posts/1599</td>\n",
              "      <td>2500000</td>\n",
              "      <td>2500000.0</td>\n",
              "      <td>2200000.0</td>\n",
              "      <td>1.000000</td>\n",
              "      <td>1.136364</td>\n",
              "    </tr>\n",
              "  </tbody>\n",
              "</table>\n",
              "<p>100 rows × 6 columns</p>\n",
              "</div>\n",
              "      <button class=\"colab-df-convert\" onclick=\"convertToInteractive('df-1703b494-5a02-4c85-84a9-0d0b4e9db1f5')\"\n",
              "              title=\"Convert this dataframe to an interactive table.\"\n",
              "              style=\"display:none;\">\n",
              "        \n",
              "  <svg xmlns=\"http://www.w3.org/2000/svg\" height=\"24px\"viewBox=\"0 0 24 24\"\n",
              "       width=\"24px\">\n",
              "    <path d=\"M0 0h24v24H0V0z\" fill=\"none\"/>\n",
              "    <path d=\"M18.56 5.44l.94 2.06.94-2.06 2.06-.94-2.06-.94-.94-2.06-.94 2.06-2.06.94zm-11 1L8.5 8.5l.94-2.06 2.06-.94-2.06-.94L8.5 2.5l-.94 2.06-2.06.94zm10 10l.94 2.06.94-2.06 2.06-.94-2.06-.94-.94-2.06-.94 2.06-2.06.94z\"/><path d=\"M17.41 7.96l-1.37-1.37c-.4-.4-.92-.59-1.43-.59-.52 0-1.04.2-1.43.59L10.3 9.45l-7.72 7.72c-.78.78-.78 2.05 0 2.83L4 21.41c.39.39.9.59 1.41.59.51 0 1.02-.2 1.41-.59l7.78-7.78 2.81-2.81c.8-.78.8-2.07 0-2.86zM5.41 20L4 18.59l7.72-7.72 1.47 1.35L5.41 20z\"/>\n",
              "  </svg>\n",
              "      </button>\n",
              "      \n",
              "  <style>\n",
              "    .colab-df-container {\n",
              "      display:flex;\n",
              "      flex-wrap:wrap;\n",
              "      gap: 12px;\n",
              "    }\n",
              "\n",
              "    .colab-df-convert {\n",
              "      background-color: #E8F0FE;\n",
              "      border: none;\n",
              "      border-radius: 50%;\n",
              "      cursor: pointer;\n",
              "      display: none;\n",
              "      fill: #1967D2;\n",
              "      height: 32px;\n",
              "      padding: 0 0 0 0;\n",
              "      width: 32px;\n",
              "    }\n",
              "\n",
              "    .colab-df-convert:hover {\n",
              "      background-color: #E2EBFA;\n",
              "      box-shadow: 0px 1px 2px rgba(60, 64, 67, 0.3), 0px 1px 3px 1px rgba(60, 64, 67, 0.15);\n",
              "      fill: #174EA6;\n",
              "    }\n",
              "\n",
              "    [theme=dark] .colab-df-convert {\n",
              "      background-color: #3B4455;\n",
              "      fill: #D2E3FC;\n",
              "    }\n",
              "\n",
              "    [theme=dark] .colab-df-convert:hover {\n",
              "      background-color: #434B5C;\n",
              "      box-shadow: 0px 1px 3px 1px rgba(0, 0, 0, 0.15);\n",
              "      filter: drop-shadow(0px 1px 2px rgba(0, 0, 0, 0.3));\n",
              "      fill: #FFFFFF;\n",
              "    }\n",
              "  </style>\n",
              "\n",
              "      <script>\n",
              "        const buttonEl =\n",
              "          document.querySelector('#df-1703b494-5a02-4c85-84a9-0d0b4e9db1f5 button.colab-df-convert');\n",
              "        buttonEl.style.display =\n",
              "          google.colab.kernel.accessAllowed ? 'block' : 'none';\n",
              "\n",
              "        async function convertToInteractive(key) {\n",
              "          const element = document.querySelector('#df-1703b494-5a02-4c85-84a9-0d0b4e9db1f5');\n",
              "          const dataTable =\n",
              "            await google.colab.kernel.invokeFunction('convertToInteractive',\n",
              "                                                     [key], {});\n",
              "          if (!dataTable) return;\n",
              "\n",
              "          const docLinkHtml = 'Like what you see? Visit the ' +\n",
              "            '<a target=\"_blank\" href=https://colab.research.google.com/notebooks/data_table.ipynb>data table notebook</a>'\n",
              "            + ' to learn more about interactive tables.';\n",
              "          element.innerHTML = '';\n",
              "          dataTable['output_type'] = 'display_data';\n",
              "          await google.colab.output.renderOutput(dataTable, element);\n",
              "          const docLink = document.createElement('div');\n",
              "          docLink.innerHTML = docLinkHtml;\n",
              "          element.appendChild(docLink);\n",
              "        }\n",
              "      </script>\n",
              "    </div>\n",
              "  </div>\n",
              "  "
            ]
          },
          "metadata": {},
          "execution_count": 85
        }
      ]
    },
    {
      "cell_type": "code",
      "source": [
        "ass_l.sort_values(by=['Check2'], ascending=False)"
      ],
      "metadata": {
        "colab": {
          "base_uri": "https://localhost:8080/",
          "height": 424
        },
        "id": "bNHigT8XObQE",
        "outputId": "13e5895a-db95-4554-f755-7d3eda3e7872"
      },
      "execution_count": 86,
      "outputs": [
        {
          "output_type": "execute_result",
          "data": {
            "text/plain": [
              "                                   post id  ราคาทรัพย์  ประเมินโดย 1  \\\n",
              "47    https://nayoo.co/khonkaen/posts/7349   245000000    24000000.0   \n",
              "58    https://nayoo.co/khonkaen/posts/9203   120000000    14000000.0   \n",
              "148   https://nayoo.co/khonkaen/posts/3561     7374550     6000000.0   \n",
              "188  https://nayoo.co/khonkaen/posts/12250     2300000     2500000.0   \n",
              "144   https://nayoo.co/khonkaen/posts/3341     1700000     1600000.0   \n",
              "..                                     ...         ...           ...   \n",
              "104   https://nayoo.co/khonkaen/posts/1921     8080000     2800000.0   \n",
              "60   https://nayoo.co/khonkaen/posts/12607     7990000    10000000.0   \n",
              "202  https://nayoo.co/khonkaen/posts/16072      750000      500000.0   \n",
              "158   https://nayoo.co/khonkaen/posts/6732     3500000     2800000.0   \n",
              "37    https://nayoo.co/khonkaen/posts/3305    14000000    12000000.0   \n",
              "\n",
              "     ประเมินโดย 2     Check1     Check2  \n",
              "47     18000000.0  10.208333  13.611111  \n",
              "58     11000000.0   8.571429  10.909091  \n",
              "148    80000000.0   1.229092  10.848120  \n",
              "188    24000000.0   1.086957  10.434783  \n",
              "144     9000000.0   1.062500   5.294118  \n",
              "..            ...        ...        ...  \n",
              "104     8000000.0   2.885714   1.010000  \n",
              "60      8000000.0   1.251564   1.001252  \n",
              "202      750000.0   1.500000   1.000000  \n",
              "158     3500000.0   1.250000   1.000000  \n",
              "37     14000000.0   1.166667   1.000000  \n",
              "\n",
              "[100 rows x 6 columns]"
            ],
            "text/html": [
              "\n",
              "  <div id=\"df-a42c5306-741d-49ce-8836-2d090da20740\">\n",
              "    <div class=\"colab-df-container\">\n",
              "      <div>\n",
              "<style scoped>\n",
              "    .dataframe tbody tr th:only-of-type {\n",
              "        vertical-align: middle;\n",
              "    }\n",
              "\n",
              "    .dataframe tbody tr th {\n",
              "        vertical-align: top;\n",
              "    }\n",
              "\n",
              "    .dataframe thead th {\n",
              "        text-align: right;\n",
              "    }\n",
              "</style>\n",
              "<table border=\"1\" class=\"dataframe\">\n",
              "  <thead>\n",
              "    <tr style=\"text-align: right;\">\n",
              "      <th></th>\n",
              "      <th>post id</th>\n",
              "      <th>ราคาทรัพย์</th>\n",
              "      <th>ประเมินโดย 1</th>\n",
              "      <th>ประเมินโดย 2</th>\n",
              "      <th>Check1</th>\n",
              "      <th>Check2</th>\n",
              "    </tr>\n",
              "  </thead>\n",
              "  <tbody>\n",
              "    <tr>\n",
              "      <th>47</th>\n",
              "      <td>https://nayoo.co/khonkaen/posts/7349</td>\n",
              "      <td>245000000</td>\n",
              "      <td>24000000.0</td>\n",
              "      <td>18000000.0</td>\n",
              "      <td>10.208333</td>\n",
              "      <td>13.611111</td>\n",
              "    </tr>\n",
              "    <tr>\n",
              "      <th>58</th>\n",
              "      <td>https://nayoo.co/khonkaen/posts/9203</td>\n",
              "      <td>120000000</td>\n",
              "      <td>14000000.0</td>\n",
              "      <td>11000000.0</td>\n",
              "      <td>8.571429</td>\n",
              "      <td>10.909091</td>\n",
              "    </tr>\n",
              "    <tr>\n",
              "      <th>148</th>\n",
              "      <td>https://nayoo.co/khonkaen/posts/3561</td>\n",
              "      <td>7374550</td>\n",
              "      <td>6000000.0</td>\n",
              "      <td>80000000.0</td>\n",
              "      <td>1.229092</td>\n",
              "      <td>10.848120</td>\n",
              "    </tr>\n",
              "    <tr>\n",
              "      <th>188</th>\n",
              "      <td>https://nayoo.co/khonkaen/posts/12250</td>\n",
              "      <td>2300000</td>\n",
              "      <td>2500000.0</td>\n",
              "      <td>24000000.0</td>\n",
              "      <td>1.086957</td>\n",
              "      <td>10.434783</td>\n",
              "    </tr>\n",
              "    <tr>\n",
              "      <th>144</th>\n",
              "      <td>https://nayoo.co/khonkaen/posts/3341</td>\n",
              "      <td>1700000</td>\n",
              "      <td>1600000.0</td>\n",
              "      <td>9000000.0</td>\n",
              "      <td>1.062500</td>\n",
              "      <td>5.294118</td>\n",
              "    </tr>\n",
              "    <tr>\n",
              "      <th>...</th>\n",
              "      <td>...</td>\n",
              "      <td>...</td>\n",
              "      <td>...</td>\n",
              "      <td>...</td>\n",
              "      <td>...</td>\n",
              "      <td>...</td>\n",
              "    </tr>\n",
              "    <tr>\n",
              "      <th>104</th>\n",
              "      <td>https://nayoo.co/khonkaen/posts/1921</td>\n",
              "      <td>8080000</td>\n",
              "      <td>2800000.0</td>\n",
              "      <td>8000000.0</td>\n",
              "      <td>2.885714</td>\n",
              "      <td>1.010000</td>\n",
              "    </tr>\n",
              "    <tr>\n",
              "      <th>60</th>\n",
              "      <td>https://nayoo.co/khonkaen/posts/12607</td>\n",
              "      <td>7990000</td>\n",
              "      <td>10000000.0</td>\n",
              "      <td>8000000.0</td>\n",
              "      <td>1.251564</td>\n",
              "      <td>1.001252</td>\n",
              "    </tr>\n",
              "    <tr>\n",
              "      <th>202</th>\n",
              "      <td>https://nayoo.co/khonkaen/posts/16072</td>\n",
              "      <td>750000</td>\n",
              "      <td>500000.0</td>\n",
              "      <td>750000.0</td>\n",
              "      <td>1.500000</td>\n",
              "      <td>1.000000</td>\n",
              "    </tr>\n",
              "    <tr>\n",
              "      <th>158</th>\n",
              "      <td>https://nayoo.co/khonkaen/posts/6732</td>\n",
              "      <td>3500000</td>\n",
              "      <td>2800000.0</td>\n",
              "      <td>3500000.0</td>\n",
              "      <td>1.250000</td>\n",
              "      <td>1.000000</td>\n",
              "    </tr>\n",
              "    <tr>\n",
              "      <th>37</th>\n",
              "      <td>https://nayoo.co/khonkaen/posts/3305</td>\n",
              "      <td>14000000</td>\n",
              "      <td>12000000.0</td>\n",
              "      <td>14000000.0</td>\n",
              "      <td>1.166667</td>\n",
              "      <td>1.000000</td>\n",
              "    </tr>\n",
              "  </tbody>\n",
              "</table>\n",
              "<p>100 rows × 6 columns</p>\n",
              "</div>\n",
              "      <button class=\"colab-df-convert\" onclick=\"convertToInteractive('df-a42c5306-741d-49ce-8836-2d090da20740')\"\n",
              "              title=\"Convert this dataframe to an interactive table.\"\n",
              "              style=\"display:none;\">\n",
              "        \n",
              "  <svg xmlns=\"http://www.w3.org/2000/svg\" height=\"24px\"viewBox=\"0 0 24 24\"\n",
              "       width=\"24px\">\n",
              "    <path d=\"M0 0h24v24H0V0z\" fill=\"none\"/>\n",
              "    <path d=\"M18.56 5.44l.94 2.06.94-2.06 2.06-.94-2.06-.94-.94-2.06-.94 2.06-2.06.94zm-11 1L8.5 8.5l.94-2.06 2.06-.94-2.06-.94L8.5 2.5l-.94 2.06-2.06.94zm10 10l.94 2.06.94-2.06 2.06-.94-2.06-.94-.94-2.06-.94 2.06-2.06.94z\"/><path d=\"M17.41 7.96l-1.37-1.37c-.4-.4-.92-.59-1.43-.59-.52 0-1.04.2-1.43.59L10.3 9.45l-7.72 7.72c-.78.78-.78 2.05 0 2.83L4 21.41c.39.39.9.59 1.41.59.51 0 1.02-.2 1.41-.59l7.78-7.78 2.81-2.81c.8-.78.8-2.07 0-2.86zM5.41 20L4 18.59l7.72-7.72 1.47 1.35L5.41 20z\"/>\n",
              "  </svg>\n",
              "      </button>\n",
              "      \n",
              "  <style>\n",
              "    .colab-df-container {\n",
              "      display:flex;\n",
              "      flex-wrap:wrap;\n",
              "      gap: 12px;\n",
              "    }\n",
              "\n",
              "    .colab-df-convert {\n",
              "      background-color: #E8F0FE;\n",
              "      border: none;\n",
              "      border-radius: 50%;\n",
              "      cursor: pointer;\n",
              "      display: none;\n",
              "      fill: #1967D2;\n",
              "      height: 32px;\n",
              "      padding: 0 0 0 0;\n",
              "      width: 32px;\n",
              "    }\n",
              "\n",
              "    .colab-df-convert:hover {\n",
              "      background-color: #E2EBFA;\n",
              "      box-shadow: 0px 1px 2px rgba(60, 64, 67, 0.3), 0px 1px 3px 1px rgba(60, 64, 67, 0.15);\n",
              "      fill: #174EA6;\n",
              "    }\n",
              "\n",
              "    [theme=dark] .colab-df-convert {\n",
              "      background-color: #3B4455;\n",
              "      fill: #D2E3FC;\n",
              "    }\n",
              "\n",
              "    [theme=dark] .colab-df-convert:hover {\n",
              "      background-color: #434B5C;\n",
              "      box-shadow: 0px 1px 3px 1px rgba(0, 0, 0, 0.15);\n",
              "      filter: drop-shadow(0px 1px 2px rgba(0, 0, 0, 0.3));\n",
              "      fill: #FFFFFF;\n",
              "    }\n",
              "  </style>\n",
              "\n",
              "      <script>\n",
              "        const buttonEl =\n",
              "          document.querySelector('#df-a42c5306-741d-49ce-8836-2d090da20740 button.colab-df-convert');\n",
              "        buttonEl.style.display =\n",
              "          google.colab.kernel.accessAllowed ? 'block' : 'none';\n",
              "\n",
              "        async function convertToInteractive(key) {\n",
              "          const element = document.querySelector('#df-a42c5306-741d-49ce-8836-2d090da20740');\n",
              "          const dataTable =\n",
              "            await google.colab.kernel.invokeFunction('convertToInteractive',\n",
              "                                                     [key], {});\n",
              "          if (!dataTable) return;\n",
              "\n",
              "          const docLinkHtml = 'Like what you see? Visit the ' +\n",
              "            '<a target=\"_blank\" href=https://colab.research.google.com/notebooks/data_table.ipynb>data table notebook</a>'\n",
              "            + ' to learn more about interactive tables.';\n",
              "          element.innerHTML = '';\n",
              "          dataTable['output_type'] = 'display_data';\n",
              "          await google.colab.output.renderOutput(dataTable, element);\n",
              "          const docLink = document.createElement('div');\n",
              "          docLink.innerHTML = docLinkHtml;\n",
              "          element.appendChild(docLink);\n",
              "        }\n",
              "      </script>\n",
              "    </div>\n",
              "  </div>\n",
              "  "
            ]
          },
          "metadata": {},
          "execution_count": 86
        }
      ]
    },
    {
      "cell_type": "markdown",
      "source": [
        "- แก้(1) 7955,13702\n",
        "- แก้(2) 3561,12250\n",
        "- ลบ 7349,9203"
      ],
      "metadata": {
        "id": "9Lt0HqJmyUzE"
      }
    },
    {
      "cell_type": "markdown",
      "source": [
        "### MAPE ใหม่"
      ],
      "metadata": {
        "id": "lDAr_oe1tW7l"
      }
    },
    {
      "cell_type": "code",
      "source": [
        "land_e = pd.read_excel(linke,sheet_name='land')\n",
        "idl1 = land_e[land_e['ID ผู้ประเมิน']==1]\n",
        "idl1 = idl1.dropna(subset=['ราคาทรัพย์','ประเมินราคาซื้อ-ขาย'])\n",
        "idl2 = land_e[land_e['ID ผู้ประเมิน']==2]\n",
        "idl2 = idl2.dropna(subset=['ราคาทรัพย์','ประเมินราคาซื้อ-ขาย'])\n",
        "idl1MAPE = mape(idl1['ประเมินราคาซื้อ-ขาย'],pd.to_numeric(idl1['ราคาทรัพย์']))\n",
        "idl2MAPE = mape(idl2['ประเมินราคาซื้อ-ขาย'],pd.to_numeric(idl2['ราคาทรัพย์']))\n",
        "print(f'ความแตกต่างระหว่างราคาประกาศขายและราคาประเมินของ\\nบ้าน\\nนักประเมิน คนที่ 1 = {idl1MAPE*100:.2f}%\\nนักประเมิน คนที่ 2 = {idl2MAPE*100:.2f}%')\n",
        "idl2['ประเมิน2'] = idl2['post id'].map(idl1.set_index('post id')['ประเมินราคาซื้อ-ขาย'])\n",
        "id2_l = idl2.dropna(subset=['ประเมินราคาซื้อ-ขาย','ประเมิน2','ราคาทรัพย์'])\n",
        "one2twol = mape(id2_l['ประเมินราคาซื้อ-ขาย'],id2_l['ประเมิน2'])\n",
        "two2onel = mape(id2_l['ประเมิน2'],id2_l['ประเมินราคาซื้อ-ขาย'])\n",
        "print(f'ความผิดพลาดระหว่างนักประเมินทั้ง {((one2twol)+(two2onel))*50:.2f}%')\n",
        "print(f'จำนวนทรัพย์ทั้งหมด {len(id2_l)} ทรัพย์')"
      ],
      "metadata": {
        "colab": {
          "base_uri": "https://localhost:8080/"
        },
        "id": "lktmXKUJs8Ri",
        "outputId": "3300595f-7909-47ae-afd0-0f62fe39a49a"
      },
      "execution_count": 87,
      "outputs": [
        {
          "output_type": "stream",
          "name": "stdout",
          "text": [
            "ความแตกต่างระหว่างราคาประกาศขายและราคาประเมินของ\n",
            "บ้าน\n",
            "นักประเมิน คนที่ 1 = 45.13%\n",
            "นักประเมิน คนที่ 2 = 19.89%\n",
            "ความผิดพลาดระหว่างนักประเมินทั้ง 32.23%\n",
            "จำนวนทรัพย์ทั้งหมด 98 ทรัพย์\n"
          ]
        }
      ]
    },
    {
      "cell_type": "markdown",
      "source": [
        "## Condo"
      ],
      "metadata": {
        "id": "sPEGufzzeTvf"
      }
    },
    {
      "cell_type": "code",
      "source": [
        "ass_c['Check1']=ass_c.apply(lambda x:check_v(x['ราคาทรัพย์'],x['ประเมินโดย 1']),axis=1)"
      ],
      "metadata": {
        "colab": {
          "base_uri": "https://localhost:8080/"
        },
        "id": "0zcGEphheTCf",
        "outputId": "0e7180e1-390b-4489-fd6f-5c93ff53f907"
      },
      "execution_count": 88,
      "outputs": [
        {
          "output_type": "stream",
          "name": "stderr",
          "text": [
            "<ipython-input-88-2352dd2a2226>:1: SettingWithCopyWarning: \n",
            "A value is trying to be set on a copy of a slice from a DataFrame.\n",
            "Try using .loc[row_indexer,col_indexer] = value instead\n",
            "\n",
            "See the caveats in the documentation: https://pandas.pydata.org/pandas-docs/stable/user_guide/indexing.html#returning-a-view-versus-a-copy\n",
            "  ass_c['Check1']=ass_c.apply(lambda x:check_v(x['ราคาทรัพย์'],x['ประเมินโดย 1']),axis=1)\n"
          ]
        }
      ]
    },
    {
      "cell_type": "code",
      "source": [
        "ass_c.sort_values(by=['Check1'], ascending=False)"
      ],
      "metadata": {
        "colab": {
          "base_uri": "https://localhost:8080/",
          "height": 363
        },
        "id": "7d2ixN2yekI7",
        "outputId": "077a819c-918a-4b68-bce2-55a358e3b366"
      },
      "execution_count": 89,
      "outputs": [
        {
          "output_type": "execute_result",
          "data": {
            "text/plain": [
              "   post id  ราคาทรัพย์  ประเมินโดย 1    Check1\n",
              "7   1641.0     4290000     2700000.0  1.588889\n",
              "3   1395.0     1600000     2300000.0  1.437500\n",
              "9   1840.0     3790000     2800000.0  1.353571\n",
              "6   1640.0     1280000     1600000.0  1.250000\n",
              "2    603.0     2438000     2800000.0  1.148482\n",
              "1     36.0     1930000     2200000.0  1.139896\n",
              "8   1650.0     1700000     1550000.0  1.096774\n",
              "4   1443.0     1860000     1800000.0  1.033333\n",
              "5   1609.0     1490000     1500000.0  1.006711\n",
              "0     32.0     3500000     3500000.0  1.000000"
            ],
            "text/html": [
              "\n",
              "  <div id=\"df-e805e488-839f-4f1f-9a60-a275ee978e3c\">\n",
              "    <div class=\"colab-df-container\">\n",
              "      <div>\n",
              "<style scoped>\n",
              "    .dataframe tbody tr th:only-of-type {\n",
              "        vertical-align: middle;\n",
              "    }\n",
              "\n",
              "    .dataframe tbody tr th {\n",
              "        vertical-align: top;\n",
              "    }\n",
              "\n",
              "    .dataframe thead th {\n",
              "        text-align: right;\n",
              "    }\n",
              "</style>\n",
              "<table border=\"1\" class=\"dataframe\">\n",
              "  <thead>\n",
              "    <tr style=\"text-align: right;\">\n",
              "      <th></th>\n",
              "      <th>post id</th>\n",
              "      <th>ราคาทรัพย์</th>\n",
              "      <th>ประเมินโดย 1</th>\n",
              "      <th>Check1</th>\n",
              "    </tr>\n",
              "  </thead>\n",
              "  <tbody>\n",
              "    <tr>\n",
              "      <th>7</th>\n",
              "      <td>1641.0</td>\n",
              "      <td>4290000</td>\n",
              "      <td>2700000.0</td>\n",
              "      <td>1.588889</td>\n",
              "    </tr>\n",
              "    <tr>\n",
              "      <th>3</th>\n",
              "      <td>1395.0</td>\n",
              "      <td>1600000</td>\n",
              "      <td>2300000.0</td>\n",
              "      <td>1.437500</td>\n",
              "    </tr>\n",
              "    <tr>\n",
              "      <th>9</th>\n",
              "      <td>1840.0</td>\n",
              "      <td>3790000</td>\n",
              "      <td>2800000.0</td>\n",
              "      <td>1.353571</td>\n",
              "    </tr>\n",
              "    <tr>\n",
              "      <th>6</th>\n",
              "      <td>1640.0</td>\n",
              "      <td>1280000</td>\n",
              "      <td>1600000.0</td>\n",
              "      <td>1.250000</td>\n",
              "    </tr>\n",
              "    <tr>\n",
              "      <th>2</th>\n",
              "      <td>603.0</td>\n",
              "      <td>2438000</td>\n",
              "      <td>2800000.0</td>\n",
              "      <td>1.148482</td>\n",
              "    </tr>\n",
              "    <tr>\n",
              "      <th>1</th>\n",
              "      <td>36.0</td>\n",
              "      <td>1930000</td>\n",
              "      <td>2200000.0</td>\n",
              "      <td>1.139896</td>\n",
              "    </tr>\n",
              "    <tr>\n",
              "      <th>8</th>\n",
              "      <td>1650.0</td>\n",
              "      <td>1700000</td>\n",
              "      <td>1550000.0</td>\n",
              "      <td>1.096774</td>\n",
              "    </tr>\n",
              "    <tr>\n",
              "      <th>4</th>\n",
              "      <td>1443.0</td>\n",
              "      <td>1860000</td>\n",
              "      <td>1800000.0</td>\n",
              "      <td>1.033333</td>\n",
              "    </tr>\n",
              "    <tr>\n",
              "      <th>5</th>\n",
              "      <td>1609.0</td>\n",
              "      <td>1490000</td>\n",
              "      <td>1500000.0</td>\n",
              "      <td>1.006711</td>\n",
              "    </tr>\n",
              "    <tr>\n",
              "      <th>0</th>\n",
              "      <td>32.0</td>\n",
              "      <td>3500000</td>\n",
              "      <td>3500000.0</td>\n",
              "      <td>1.000000</td>\n",
              "    </tr>\n",
              "  </tbody>\n",
              "</table>\n",
              "</div>\n",
              "      <button class=\"colab-df-convert\" onclick=\"convertToInteractive('df-e805e488-839f-4f1f-9a60-a275ee978e3c')\"\n",
              "              title=\"Convert this dataframe to an interactive table.\"\n",
              "              style=\"display:none;\">\n",
              "        \n",
              "  <svg xmlns=\"http://www.w3.org/2000/svg\" height=\"24px\"viewBox=\"0 0 24 24\"\n",
              "       width=\"24px\">\n",
              "    <path d=\"M0 0h24v24H0V0z\" fill=\"none\"/>\n",
              "    <path d=\"M18.56 5.44l.94 2.06.94-2.06 2.06-.94-2.06-.94-.94-2.06-.94 2.06-2.06.94zm-11 1L8.5 8.5l.94-2.06 2.06-.94-2.06-.94L8.5 2.5l-.94 2.06-2.06.94zm10 10l.94 2.06.94-2.06 2.06-.94-2.06-.94-.94-2.06-.94 2.06-2.06.94z\"/><path d=\"M17.41 7.96l-1.37-1.37c-.4-.4-.92-.59-1.43-.59-.52 0-1.04.2-1.43.59L10.3 9.45l-7.72 7.72c-.78.78-.78 2.05 0 2.83L4 21.41c.39.39.9.59 1.41.59.51 0 1.02-.2 1.41-.59l7.78-7.78 2.81-2.81c.8-.78.8-2.07 0-2.86zM5.41 20L4 18.59l7.72-7.72 1.47 1.35L5.41 20z\"/>\n",
              "  </svg>\n",
              "      </button>\n",
              "      \n",
              "  <style>\n",
              "    .colab-df-container {\n",
              "      display:flex;\n",
              "      flex-wrap:wrap;\n",
              "      gap: 12px;\n",
              "    }\n",
              "\n",
              "    .colab-df-convert {\n",
              "      background-color: #E8F0FE;\n",
              "      border: none;\n",
              "      border-radius: 50%;\n",
              "      cursor: pointer;\n",
              "      display: none;\n",
              "      fill: #1967D2;\n",
              "      height: 32px;\n",
              "      padding: 0 0 0 0;\n",
              "      width: 32px;\n",
              "    }\n",
              "\n",
              "    .colab-df-convert:hover {\n",
              "      background-color: #E2EBFA;\n",
              "      box-shadow: 0px 1px 2px rgba(60, 64, 67, 0.3), 0px 1px 3px 1px rgba(60, 64, 67, 0.15);\n",
              "      fill: #174EA6;\n",
              "    }\n",
              "\n",
              "    [theme=dark] .colab-df-convert {\n",
              "      background-color: #3B4455;\n",
              "      fill: #D2E3FC;\n",
              "    }\n",
              "\n",
              "    [theme=dark] .colab-df-convert:hover {\n",
              "      background-color: #434B5C;\n",
              "      box-shadow: 0px 1px 3px 1px rgba(0, 0, 0, 0.15);\n",
              "      filter: drop-shadow(0px 1px 2px rgba(0, 0, 0, 0.3));\n",
              "      fill: #FFFFFF;\n",
              "    }\n",
              "  </style>\n",
              "\n",
              "      <script>\n",
              "        const buttonEl =\n",
              "          document.querySelector('#df-e805e488-839f-4f1f-9a60-a275ee978e3c button.colab-df-convert');\n",
              "        buttonEl.style.display =\n",
              "          google.colab.kernel.accessAllowed ? 'block' : 'none';\n",
              "\n",
              "        async function convertToInteractive(key) {\n",
              "          const element = document.querySelector('#df-e805e488-839f-4f1f-9a60-a275ee978e3c');\n",
              "          const dataTable =\n",
              "            await google.colab.kernel.invokeFunction('convertToInteractive',\n",
              "                                                     [key], {});\n",
              "          if (!dataTable) return;\n",
              "\n",
              "          const docLinkHtml = 'Like what you see? Visit the ' +\n",
              "            '<a target=\"_blank\" href=https://colab.research.google.com/notebooks/data_table.ipynb>data table notebook</a>'\n",
              "            + ' to learn more about interactive tables.';\n",
              "          element.innerHTML = '';\n",
              "          dataTable['output_type'] = 'display_data';\n",
              "          await google.colab.output.renderOutput(dataTable, element);\n",
              "          const docLink = document.createElement('div');\n",
              "          docLink.innerHTML = docLinkHtml;\n",
              "          element.appendChild(docLink);\n",
              "        }\n",
              "      </script>\n",
              "    </div>\n",
              "  </div>\n",
              "  "
            ]
          },
          "metadata": {},
          "execution_count": 89
        }
      ]
    },
    {
      "cell_type": "markdown",
      "source": [
        "### MAPE ใหม่"
      ],
      "metadata": {
        "id": "G7kNAnuZux6o"
      }
    },
    {
      "cell_type": "code",
      "source": [
        "condo_e = pd.read_excel(linke,sheet_name='condo')\n",
        "idc1 = condo_e[condo_e['ID ผู้ประเมิน']==1]\n",
        "idc1 = idc1.dropna(subset=['ราคาทรัพย์','ประเมินราคาซื้อ-ขาย'])\n",
        "\n",
        "idc1MAPE = mape(idc1['ประเมินราคาซื้อ-ขาย'],pd.to_numeric(idc1['ราคาทรัพย์']))\n",
        "\n",
        "print(f'ความแตกต่างระหว่างราคาประกาศขายและราคาประเมินของ\\nบ้าน\\nนักประเมิน คนที่ 1 = {idc1MAPE*100:.2f}%')\n",
        "\n",
        "\n",
        "print(f'จำนวนทรัพย์ทั้งหมด {len(idc1)} ทรัพย์')"
      ],
      "metadata": {
        "colab": {
          "base_uri": "https://localhost:8080/"
        },
        "id": "3JWenruTuzjS",
        "outputId": "f5669b7c-4831-4cfc-c8e5-d74b0078d4c1"
      },
      "execution_count": 90,
      "outputs": [
        {
          "output_type": "stream",
          "name": "stdout",
          "text": [
            "ความแตกต่างระหว่างราคาประกาศขายและราคาประเมินของ\n",
            "บ้าน\n",
            "นักประเมิน คนที่ 1 = 18.36%\n",
            "จำนวนทรัพย์ทั้งหมด 10 ทรัพย์\n"
          ]
        }
      ]
    },
    {
      "cell_type": "markdown",
      "source": [
        "## Town home"
      ],
      "metadata": {
        "id": "h-OASwknOfm9"
      }
    },
    {
      "cell_type": "code",
      "source": [
        "ass_th['Check1']=ass_th.apply(lambda x:check_v(x['ราคาทรัพย์'],x['ประเมินโดย 1']),axis=1)\n",
        "ass_th['Check2']=ass_th.apply(lambda x:check_v(x['ราคาทรัพย์'],x['ประเมินโดย 2']),axis=1)"
      ],
      "metadata": {
        "colab": {
          "base_uri": "https://localhost:8080/"
        },
        "id": "ovwnbOdAOcOM",
        "outputId": "cbe178ce-0816-4636-e2f3-3a3778479fc0"
      },
      "execution_count": 91,
      "outputs": [
        {
          "output_type": "stream",
          "name": "stderr",
          "text": [
            "<ipython-input-91-c9d8ab3947d0>:1: SettingWithCopyWarning: \n",
            "A value is trying to be set on a copy of a slice from a DataFrame.\n",
            "Try using .loc[row_indexer,col_indexer] = value instead\n",
            "\n",
            "See the caveats in the documentation: https://pandas.pydata.org/pandas-docs/stable/user_guide/indexing.html#returning-a-view-versus-a-copy\n",
            "  ass_th['Check1']=ass_th.apply(lambda x:check_v(x['ราคาทรัพย์'],x['ประเมินโดย 1']),axis=1)\n",
            "<ipython-input-91-c9d8ab3947d0>:2: SettingWithCopyWarning: \n",
            "A value is trying to be set on a copy of a slice from a DataFrame.\n",
            "Try using .loc[row_indexer,col_indexer] = value instead\n",
            "\n",
            "See the caveats in the documentation: https://pandas.pydata.org/pandas-docs/stable/user_guide/indexing.html#returning-a-view-versus-a-copy\n",
            "  ass_th['Check2']=ass_th.apply(lambda x:check_v(x['ราคาทรัพย์'],x['ประเมินโดย 2']),axis=1)\n"
          ]
        }
      ]
    },
    {
      "cell_type": "code",
      "source": [
        "ass_th.sort_values(by=['Check1'], ascending=False)"
      ],
      "metadata": {
        "colab": {
          "base_uri": "https://localhost:8080/",
          "height": 424
        },
        "id": "mrDZnHUmO3t6",
        "outputId": "d8ae903b-cabf-4c0f-8401-b9e6d40b3146"
      },
      "execution_count": 92,
      "outputs": [
        {
          "output_type": "execute_result",
          "data": {
            "text/plain": [
              "                                   post id  ราคาทรัพย์  ประเมินโดย 1  \\\n",
              "159   https://nayoo.co/khonkaen/posts/3528     2190000      350000.0   \n",
              "175    https://nayoo.co/khonkaen/posts/582      544000     1000000.0   \n",
              "33   https://nayoo.co/khonkaen/posts/17507     1085000      650000.0   \n",
              "53   https://nayoo.co/khonkaen/posts/17535      840000     1300000.0   \n",
              "167    https://nayoo.co/khonkaen/posts/548     1045000      700000.0   \n",
              "..                                     ...         ...           ...   \n",
              "131   https://nayoo.co/khonkaen/posts/2242     1610000     1600000.0   \n",
              "81   https://nayoo.co/khonkaen/posts/17923     1990000     2000000.0   \n",
              "141   https://nayoo.co/khonkaen/posts/2829     2490000     2500000.0   \n",
              "13   https://nayoo.co/khonkaen/posts/13411     3200000     3200000.0   \n",
              "27   https://nayoo.co/khonkaen/posts/17503     1500000     1500000.0   \n",
              "\n",
              "     ประเมินโดย 2    Check1    Check2  \n",
              "159      400000.0  6.257143  5.475000  \n",
              "175      800000.0  1.838235  1.470588  \n",
              "33       700000.0  1.669231  1.550000  \n",
              "53      1000000.0  1.547619  1.190476  \n",
              "167     1500000.0  1.492857  1.435407  \n",
              "..            ...       ...       ...  \n",
              "131     1600000.0  1.006250  1.006250  \n",
              "81      2200000.0  1.005025  1.105528  \n",
              "141     2300000.0  1.004016  1.082609  \n",
              "13      3200000.0  1.000000  1.000000  \n",
              "27      1300000.0  1.000000  1.153846  \n",
              "\n",
              "[120 rows x 6 columns]"
            ],
            "text/html": [
              "\n",
              "  <div id=\"df-c1f38a1b-3d63-40b7-8022-68cf055fa6ad\">\n",
              "    <div class=\"colab-df-container\">\n",
              "      <div>\n",
              "<style scoped>\n",
              "    .dataframe tbody tr th:only-of-type {\n",
              "        vertical-align: middle;\n",
              "    }\n",
              "\n",
              "    .dataframe tbody tr th {\n",
              "        vertical-align: top;\n",
              "    }\n",
              "\n",
              "    .dataframe thead th {\n",
              "        text-align: right;\n",
              "    }\n",
              "</style>\n",
              "<table border=\"1\" class=\"dataframe\">\n",
              "  <thead>\n",
              "    <tr style=\"text-align: right;\">\n",
              "      <th></th>\n",
              "      <th>post id</th>\n",
              "      <th>ราคาทรัพย์</th>\n",
              "      <th>ประเมินโดย 1</th>\n",
              "      <th>ประเมินโดย 2</th>\n",
              "      <th>Check1</th>\n",
              "      <th>Check2</th>\n",
              "    </tr>\n",
              "  </thead>\n",
              "  <tbody>\n",
              "    <tr>\n",
              "      <th>159</th>\n",
              "      <td>https://nayoo.co/khonkaen/posts/3528</td>\n",
              "      <td>2190000</td>\n",
              "      <td>350000.0</td>\n",
              "      <td>400000.0</td>\n",
              "      <td>6.257143</td>\n",
              "      <td>5.475000</td>\n",
              "    </tr>\n",
              "    <tr>\n",
              "      <th>175</th>\n",
              "      <td>https://nayoo.co/khonkaen/posts/582</td>\n",
              "      <td>544000</td>\n",
              "      <td>1000000.0</td>\n",
              "      <td>800000.0</td>\n",
              "      <td>1.838235</td>\n",
              "      <td>1.470588</td>\n",
              "    </tr>\n",
              "    <tr>\n",
              "      <th>33</th>\n",
              "      <td>https://nayoo.co/khonkaen/posts/17507</td>\n",
              "      <td>1085000</td>\n",
              "      <td>650000.0</td>\n",
              "      <td>700000.0</td>\n",
              "      <td>1.669231</td>\n",
              "      <td>1.550000</td>\n",
              "    </tr>\n",
              "    <tr>\n",
              "      <th>53</th>\n",
              "      <td>https://nayoo.co/khonkaen/posts/17535</td>\n",
              "      <td>840000</td>\n",
              "      <td>1300000.0</td>\n",
              "      <td>1000000.0</td>\n",
              "      <td>1.547619</td>\n",
              "      <td>1.190476</td>\n",
              "    </tr>\n",
              "    <tr>\n",
              "      <th>167</th>\n",
              "      <td>https://nayoo.co/khonkaen/posts/548</td>\n",
              "      <td>1045000</td>\n",
              "      <td>700000.0</td>\n",
              "      <td>1500000.0</td>\n",
              "      <td>1.492857</td>\n",
              "      <td>1.435407</td>\n",
              "    </tr>\n",
              "    <tr>\n",
              "      <th>...</th>\n",
              "      <td>...</td>\n",
              "      <td>...</td>\n",
              "      <td>...</td>\n",
              "      <td>...</td>\n",
              "      <td>...</td>\n",
              "      <td>...</td>\n",
              "    </tr>\n",
              "    <tr>\n",
              "      <th>131</th>\n",
              "      <td>https://nayoo.co/khonkaen/posts/2242</td>\n",
              "      <td>1610000</td>\n",
              "      <td>1600000.0</td>\n",
              "      <td>1600000.0</td>\n",
              "      <td>1.006250</td>\n",
              "      <td>1.006250</td>\n",
              "    </tr>\n",
              "    <tr>\n",
              "      <th>81</th>\n",
              "      <td>https://nayoo.co/khonkaen/posts/17923</td>\n",
              "      <td>1990000</td>\n",
              "      <td>2000000.0</td>\n",
              "      <td>2200000.0</td>\n",
              "      <td>1.005025</td>\n",
              "      <td>1.105528</td>\n",
              "    </tr>\n",
              "    <tr>\n",
              "      <th>141</th>\n",
              "      <td>https://nayoo.co/khonkaen/posts/2829</td>\n",
              "      <td>2490000</td>\n",
              "      <td>2500000.0</td>\n",
              "      <td>2300000.0</td>\n",
              "      <td>1.004016</td>\n",
              "      <td>1.082609</td>\n",
              "    </tr>\n",
              "    <tr>\n",
              "      <th>13</th>\n",
              "      <td>https://nayoo.co/khonkaen/posts/13411</td>\n",
              "      <td>3200000</td>\n",
              "      <td>3200000.0</td>\n",
              "      <td>3200000.0</td>\n",
              "      <td>1.000000</td>\n",
              "      <td>1.000000</td>\n",
              "    </tr>\n",
              "    <tr>\n",
              "      <th>27</th>\n",
              "      <td>https://nayoo.co/khonkaen/posts/17503</td>\n",
              "      <td>1500000</td>\n",
              "      <td>1500000.0</td>\n",
              "      <td>1300000.0</td>\n",
              "      <td>1.000000</td>\n",
              "      <td>1.153846</td>\n",
              "    </tr>\n",
              "  </tbody>\n",
              "</table>\n",
              "<p>120 rows × 6 columns</p>\n",
              "</div>\n",
              "      <button class=\"colab-df-convert\" onclick=\"convertToInteractive('df-c1f38a1b-3d63-40b7-8022-68cf055fa6ad')\"\n",
              "              title=\"Convert this dataframe to an interactive table.\"\n",
              "              style=\"display:none;\">\n",
              "        \n",
              "  <svg xmlns=\"http://www.w3.org/2000/svg\" height=\"24px\"viewBox=\"0 0 24 24\"\n",
              "       width=\"24px\">\n",
              "    <path d=\"M0 0h24v24H0V0z\" fill=\"none\"/>\n",
              "    <path d=\"M18.56 5.44l.94 2.06.94-2.06 2.06-.94-2.06-.94-.94-2.06-.94 2.06-2.06.94zm-11 1L8.5 8.5l.94-2.06 2.06-.94-2.06-.94L8.5 2.5l-.94 2.06-2.06.94zm10 10l.94 2.06.94-2.06 2.06-.94-2.06-.94-.94-2.06-.94 2.06-2.06.94z\"/><path d=\"M17.41 7.96l-1.37-1.37c-.4-.4-.92-.59-1.43-.59-.52 0-1.04.2-1.43.59L10.3 9.45l-7.72 7.72c-.78.78-.78 2.05 0 2.83L4 21.41c.39.39.9.59 1.41.59.51 0 1.02-.2 1.41-.59l7.78-7.78 2.81-2.81c.8-.78.8-2.07 0-2.86zM5.41 20L4 18.59l7.72-7.72 1.47 1.35L5.41 20z\"/>\n",
              "  </svg>\n",
              "      </button>\n",
              "      \n",
              "  <style>\n",
              "    .colab-df-container {\n",
              "      display:flex;\n",
              "      flex-wrap:wrap;\n",
              "      gap: 12px;\n",
              "    }\n",
              "\n",
              "    .colab-df-convert {\n",
              "      background-color: #E8F0FE;\n",
              "      border: none;\n",
              "      border-radius: 50%;\n",
              "      cursor: pointer;\n",
              "      display: none;\n",
              "      fill: #1967D2;\n",
              "      height: 32px;\n",
              "      padding: 0 0 0 0;\n",
              "      width: 32px;\n",
              "    }\n",
              "\n",
              "    .colab-df-convert:hover {\n",
              "      background-color: #E2EBFA;\n",
              "      box-shadow: 0px 1px 2px rgba(60, 64, 67, 0.3), 0px 1px 3px 1px rgba(60, 64, 67, 0.15);\n",
              "      fill: #174EA6;\n",
              "    }\n",
              "\n",
              "    [theme=dark] .colab-df-convert {\n",
              "      background-color: #3B4455;\n",
              "      fill: #D2E3FC;\n",
              "    }\n",
              "\n",
              "    [theme=dark] .colab-df-convert:hover {\n",
              "      background-color: #434B5C;\n",
              "      box-shadow: 0px 1px 3px 1px rgba(0, 0, 0, 0.15);\n",
              "      filter: drop-shadow(0px 1px 2px rgba(0, 0, 0, 0.3));\n",
              "      fill: #FFFFFF;\n",
              "    }\n",
              "  </style>\n",
              "\n",
              "      <script>\n",
              "        const buttonEl =\n",
              "          document.querySelector('#df-c1f38a1b-3d63-40b7-8022-68cf055fa6ad button.colab-df-convert');\n",
              "        buttonEl.style.display =\n",
              "          google.colab.kernel.accessAllowed ? 'block' : 'none';\n",
              "\n",
              "        async function convertToInteractive(key) {\n",
              "          const element = document.querySelector('#df-c1f38a1b-3d63-40b7-8022-68cf055fa6ad');\n",
              "          const dataTable =\n",
              "            await google.colab.kernel.invokeFunction('convertToInteractive',\n",
              "                                                     [key], {});\n",
              "          if (!dataTable) return;\n",
              "\n",
              "          const docLinkHtml = 'Like what you see? Visit the ' +\n",
              "            '<a target=\"_blank\" href=https://colab.research.google.com/notebooks/data_table.ipynb>data table notebook</a>'\n",
              "            + ' to learn more about interactive tables.';\n",
              "          element.innerHTML = '';\n",
              "          dataTable['output_type'] = 'display_data';\n",
              "          await google.colab.output.renderOutput(dataTable, element);\n",
              "          const docLink = document.createElement('div');\n",
              "          docLink.innerHTML = docLinkHtml;\n",
              "          element.appendChild(docLink);\n",
              "        }\n",
              "      </script>\n",
              "    </div>\n",
              "  </div>\n",
              "  "
            ]
          },
          "metadata": {},
          "execution_count": 92
        }
      ]
    },
    {
      "cell_type": "code",
      "source": [
        "ass_th.sort_values(by=['Check2'], ascending=False)"
      ],
      "metadata": {
        "colab": {
          "base_uri": "https://localhost:8080/",
          "height": 424
        },
        "id": "d2qvlEwUO4Dx",
        "outputId": "6f219845-be1e-42aa-8c12-ea224377253d"
      },
      "execution_count": 93,
      "outputs": [
        {
          "output_type": "execute_result",
          "data": {
            "text/plain": [
              "                                   post id  ราคาทรัพย์  ประเมินโดย 1  \\\n",
              "159   https://nayoo.co/khonkaen/posts/3528     2190000      350000.0   \n",
              "93   https://nayoo.co/khonkaen/posts/18090     2850000     2800000.0   \n",
              "169    https://nayoo.co/khonkaen/posts/549      935000      700000.0   \n",
              "171    https://nayoo.co/khonkaen/posts/579     2520000     3500000.0   \n",
              "33   https://nayoo.co/khonkaen/posts/17507     1085000      650000.0   \n",
              "..                                     ...         ...           ...   \n",
              "71   https://nayoo.co/khonkaen/posts/17709     1600000     1400000.0   \n",
              "79   https://nayoo.co/khonkaen/posts/17919     1700000     1600000.0   \n",
              "109   https://nayoo.co/khonkaen/posts/2011     1100000      900000.0   \n",
              "107   https://nayoo.co/khonkaen/posts/1978     2500000     2700000.0   \n",
              "121   https://nayoo.co/khonkaen/posts/2185     2600000     2500000.0   \n",
              "\n",
              "     ประเมินโดย 2    Check1    Check2  \n",
              "159      400000.0  6.257143  5.475000  \n",
              "93      1500000.0  1.017857  1.900000  \n",
              "169     1500000.0  1.335714  1.604278  \n",
              "171     4000000.0  1.388889  1.587302  \n",
              "33       700000.0  1.669231  1.550000  \n",
              "..            ...       ...       ...  \n",
              "71      1600000.0  1.142857  1.000000  \n",
              "79      1700000.0  1.062500  1.000000  \n",
              "109     1100000.0  1.222222  1.000000  \n",
              "107     2500000.0  1.080000  1.000000  \n",
              "121     2600000.0  1.040000  1.000000  \n",
              "\n",
              "[120 rows x 6 columns]"
            ],
            "text/html": [
              "\n",
              "  <div id=\"df-088bb323-1068-4f60-90b8-8dc7e9b305f3\">\n",
              "    <div class=\"colab-df-container\">\n",
              "      <div>\n",
              "<style scoped>\n",
              "    .dataframe tbody tr th:only-of-type {\n",
              "        vertical-align: middle;\n",
              "    }\n",
              "\n",
              "    .dataframe tbody tr th {\n",
              "        vertical-align: top;\n",
              "    }\n",
              "\n",
              "    .dataframe thead th {\n",
              "        text-align: right;\n",
              "    }\n",
              "</style>\n",
              "<table border=\"1\" class=\"dataframe\">\n",
              "  <thead>\n",
              "    <tr style=\"text-align: right;\">\n",
              "      <th></th>\n",
              "      <th>post id</th>\n",
              "      <th>ราคาทรัพย์</th>\n",
              "      <th>ประเมินโดย 1</th>\n",
              "      <th>ประเมินโดย 2</th>\n",
              "      <th>Check1</th>\n",
              "      <th>Check2</th>\n",
              "    </tr>\n",
              "  </thead>\n",
              "  <tbody>\n",
              "    <tr>\n",
              "      <th>159</th>\n",
              "      <td>https://nayoo.co/khonkaen/posts/3528</td>\n",
              "      <td>2190000</td>\n",
              "      <td>350000.0</td>\n",
              "      <td>400000.0</td>\n",
              "      <td>6.257143</td>\n",
              "      <td>5.475000</td>\n",
              "    </tr>\n",
              "    <tr>\n",
              "      <th>93</th>\n",
              "      <td>https://nayoo.co/khonkaen/posts/18090</td>\n",
              "      <td>2850000</td>\n",
              "      <td>2800000.0</td>\n",
              "      <td>1500000.0</td>\n",
              "      <td>1.017857</td>\n",
              "      <td>1.900000</td>\n",
              "    </tr>\n",
              "    <tr>\n",
              "      <th>169</th>\n",
              "      <td>https://nayoo.co/khonkaen/posts/549</td>\n",
              "      <td>935000</td>\n",
              "      <td>700000.0</td>\n",
              "      <td>1500000.0</td>\n",
              "      <td>1.335714</td>\n",
              "      <td>1.604278</td>\n",
              "    </tr>\n",
              "    <tr>\n",
              "      <th>171</th>\n",
              "      <td>https://nayoo.co/khonkaen/posts/579</td>\n",
              "      <td>2520000</td>\n",
              "      <td>3500000.0</td>\n",
              "      <td>4000000.0</td>\n",
              "      <td>1.388889</td>\n",
              "      <td>1.587302</td>\n",
              "    </tr>\n",
              "    <tr>\n",
              "      <th>33</th>\n",
              "      <td>https://nayoo.co/khonkaen/posts/17507</td>\n",
              "      <td>1085000</td>\n",
              "      <td>650000.0</td>\n",
              "      <td>700000.0</td>\n",
              "      <td>1.669231</td>\n",
              "      <td>1.550000</td>\n",
              "    </tr>\n",
              "    <tr>\n",
              "      <th>...</th>\n",
              "      <td>...</td>\n",
              "      <td>...</td>\n",
              "      <td>...</td>\n",
              "      <td>...</td>\n",
              "      <td>...</td>\n",
              "      <td>...</td>\n",
              "    </tr>\n",
              "    <tr>\n",
              "      <th>71</th>\n",
              "      <td>https://nayoo.co/khonkaen/posts/17709</td>\n",
              "      <td>1600000</td>\n",
              "      <td>1400000.0</td>\n",
              "      <td>1600000.0</td>\n",
              "      <td>1.142857</td>\n",
              "      <td>1.000000</td>\n",
              "    </tr>\n",
              "    <tr>\n",
              "      <th>79</th>\n",
              "      <td>https://nayoo.co/khonkaen/posts/17919</td>\n",
              "      <td>1700000</td>\n",
              "      <td>1600000.0</td>\n",
              "      <td>1700000.0</td>\n",
              "      <td>1.062500</td>\n",
              "      <td>1.000000</td>\n",
              "    </tr>\n",
              "    <tr>\n",
              "      <th>109</th>\n",
              "      <td>https://nayoo.co/khonkaen/posts/2011</td>\n",
              "      <td>1100000</td>\n",
              "      <td>900000.0</td>\n",
              "      <td>1100000.0</td>\n",
              "      <td>1.222222</td>\n",
              "      <td>1.000000</td>\n",
              "    </tr>\n",
              "    <tr>\n",
              "      <th>107</th>\n",
              "      <td>https://nayoo.co/khonkaen/posts/1978</td>\n",
              "      <td>2500000</td>\n",
              "      <td>2700000.0</td>\n",
              "      <td>2500000.0</td>\n",
              "      <td>1.080000</td>\n",
              "      <td>1.000000</td>\n",
              "    </tr>\n",
              "    <tr>\n",
              "      <th>121</th>\n",
              "      <td>https://nayoo.co/khonkaen/posts/2185</td>\n",
              "      <td>2600000</td>\n",
              "      <td>2500000.0</td>\n",
              "      <td>2600000.0</td>\n",
              "      <td>1.040000</td>\n",
              "      <td>1.000000</td>\n",
              "    </tr>\n",
              "  </tbody>\n",
              "</table>\n",
              "<p>120 rows × 6 columns</p>\n",
              "</div>\n",
              "      <button class=\"colab-df-convert\" onclick=\"convertToInteractive('df-088bb323-1068-4f60-90b8-8dc7e9b305f3')\"\n",
              "              title=\"Convert this dataframe to an interactive table.\"\n",
              "              style=\"display:none;\">\n",
              "        \n",
              "  <svg xmlns=\"http://www.w3.org/2000/svg\" height=\"24px\"viewBox=\"0 0 24 24\"\n",
              "       width=\"24px\">\n",
              "    <path d=\"M0 0h24v24H0V0z\" fill=\"none\"/>\n",
              "    <path d=\"M18.56 5.44l.94 2.06.94-2.06 2.06-.94-2.06-.94-.94-2.06-.94 2.06-2.06.94zm-11 1L8.5 8.5l.94-2.06 2.06-.94-2.06-.94L8.5 2.5l-.94 2.06-2.06.94zm10 10l.94 2.06.94-2.06 2.06-.94-2.06-.94-.94-2.06-.94 2.06-2.06.94z\"/><path d=\"M17.41 7.96l-1.37-1.37c-.4-.4-.92-.59-1.43-.59-.52 0-1.04.2-1.43.59L10.3 9.45l-7.72 7.72c-.78.78-.78 2.05 0 2.83L4 21.41c.39.39.9.59 1.41.59.51 0 1.02-.2 1.41-.59l7.78-7.78 2.81-2.81c.8-.78.8-2.07 0-2.86zM5.41 20L4 18.59l7.72-7.72 1.47 1.35L5.41 20z\"/>\n",
              "  </svg>\n",
              "      </button>\n",
              "      \n",
              "  <style>\n",
              "    .colab-df-container {\n",
              "      display:flex;\n",
              "      flex-wrap:wrap;\n",
              "      gap: 12px;\n",
              "    }\n",
              "\n",
              "    .colab-df-convert {\n",
              "      background-color: #E8F0FE;\n",
              "      border: none;\n",
              "      border-radius: 50%;\n",
              "      cursor: pointer;\n",
              "      display: none;\n",
              "      fill: #1967D2;\n",
              "      height: 32px;\n",
              "      padding: 0 0 0 0;\n",
              "      width: 32px;\n",
              "    }\n",
              "\n",
              "    .colab-df-convert:hover {\n",
              "      background-color: #E2EBFA;\n",
              "      box-shadow: 0px 1px 2px rgba(60, 64, 67, 0.3), 0px 1px 3px 1px rgba(60, 64, 67, 0.15);\n",
              "      fill: #174EA6;\n",
              "    }\n",
              "\n",
              "    [theme=dark] .colab-df-convert {\n",
              "      background-color: #3B4455;\n",
              "      fill: #D2E3FC;\n",
              "    }\n",
              "\n",
              "    [theme=dark] .colab-df-convert:hover {\n",
              "      background-color: #434B5C;\n",
              "      box-shadow: 0px 1px 3px 1px rgba(0, 0, 0, 0.15);\n",
              "      filter: drop-shadow(0px 1px 2px rgba(0, 0, 0, 0.3));\n",
              "      fill: #FFFFFF;\n",
              "    }\n",
              "  </style>\n",
              "\n",
              "      <script>\n",
              "        const buttonEl =\n",
              "          document.querySelector('#df-088bb323-1068-4f60-90b8-8dc7e9b305f3 button.colab-df-convert');\n",
              "        buttonEl.style.display =\n",
              "          google.colab.kernel.accessAllowed ? 'block' : 'none';\n",
              "\n",
              "        async function convertToInteractive(key) {\n",
              "          const element = document.querySelector('#df-088bb323-1068-4f60-90b8-8dc7e9b305f3');\n",
              "          const dataTable =\n",
              "            await google.colab.kernel.invokeFunction('convertToInteractive',\n",
              "                                                     [key], {});\n",
              "          if (!dataTable) return;\n",
              "\n",
              "          const docLinkHtml = 'Like what you see? Visit the ' +\n",
              "            '<a target=\"_blank\" href=https://colab.research.google.com/notebooks/data_table.ipynb>data table notebook</a>'\n",
              "            + ' to learn more about interactive tables.';\n",
              "          element.innerHTML = '';\n",
              "          dataTable['output_type'] = 'display_data';\n",
              "          await google.colab.output.renderOutput(dataTable, element);\n",
              "          const docLink = document.createElement('div');\n",
              "          docLink.innerHTML = docLinkHtml;\n",
              "          element.appendChild(docLink);\n",
              "        }\n",
              "      </script>\n",
              "    </div>\n",
              "  </div>\n",
              "  "
            ]
          },
          "metadata": {},
          "execution_count": 93
        }
      ]
    },
    {
      "cell_type": "markdown",
      "source": [
        "- แก้(1,2) 3528"
      ],
      "metadata": {
        "id": "Q4J8fKrL5ld3"
      }
    },
    {
      "cell_type": "markdown",
      "source": [
        "### MAPE ใหม่"
      ],
      "metadata": {
        "id": "wxwjpltLstvb"
      }
    },
    {
      "cell_type": "code",
      "source": [
        "twh_e = pd.read_excel(linke,sheet_name='town home')\n",
        "idt1 = twh_e[twh_e['ID ผู้ประเมิน']==1]\n",
        "idt1 = idt1.dropna(subset=['ราคาทรัพย์','ประเมินราคาซื้อ-ขาย'])\n",
        "idt2 = twh_e[twh_e['ID ผู้ประเมิน']==2]\n",
        "idt2 = idt2.dropna(subset=['ราคาทรัพย์','ประเมินราคาซื้อ-ขาย'])\n",
        "idt1MAPE = mape(idt1['ประเมินราคาซื้อ-ขาย'],pd.to_numeric(idt1['ราคาทรัพย์']))\n",
        "idt2MAPE = mape(idt2['ประเมินราคาซื้อ-ขาย'],pd.to_numeric(idt2['ราคาทรัพย์']))\n",
        "print(f'ความแตกต่างระหว่างราคาประกาศขายและราคาประเมินของ\\nบ้าน\\nนักประเมิน คนที่ 1 = {idt1MAPE*100:.2f}%\\nนักประเมิน คนที่ 2 = {idt2MAPE*100:.2f}%')\n",
        "idt2['ประเมิน2'] = idt2['post id'].map(idt1.set_index('post id')['ประเมินราคาซื้อ-ขาย'])\n",
        "id2_t = idt2.dropna(subset=['ประเมินราคาซื้อ-ขาย','ประเมิน2','ราคาทรัพย์'])\n",
        "one2twot = mape(id2_t['ประเมินราคาซื้อ-ขาย'],id2_t['ประเมิน2'])\n",
        "two2onet = mape(id2_t['ประเมิน2'],id2_t['ประเมินราคาซื้อ-ขาย'])\n",
        "print(f'ความผิดพลาดระหว่างนักประเมินทั้ง {((one2twot)+(two2onet))*50:.2f}%')\n",
        "print(f'จำนวนทรัพย์ทั้งหมด {len(id2_t)} ทรัพย์')"
      ],
      "metadata": {
        "colab": {
          "base_uri": "https://localhost:8080/"
        },
        "id": "J3nnO9QIstK0",
        "outputId": "f9aba0a3-fecb-4581-bb92-a8a13b8df916"
      },
      "execution_count": 94,
      "outputs": [
        {
          "output_type": "stream",
          "name": "stdout",
          "text": [
            "ความแตกต่างระหว่างราคาประกาศขายและราคาประเมินของ\n",
            "บ้าน\n",
            "นักประเมิน คนที่ 1 = 15.26%\n",
            "นักประเมิน คนที่ 2 = 12.20%\n",
            "ความผิดพลาดระหว่างนักประเมินทั้ง 10.92%\n",
            "จำนวนทรัพย์ทั้งหมด 120 ทรัพย์\n"
          ]
        }
      ]
    },
    {
      "cell_type": "markdown",
      "source": [
        "## Shop house"
      ],
      "metadata": {
        "id": "M1EMTHtfPGIW"
      }
    },
    {
      "cell_type": "code",
      "source": [
        "ass_sh['Check1']=ass_sh.apply(lambda x:check_v(x['ราคาทรัพย์'],x['ประเมินโดย 1']),axis=1)\n",
        "ass_sh['Check2']=ass_sh.apply(lambda x:check_v(x['ราคาทรัพย์'],x['ประเมินโดย 2']),axis=1)"
      ],
      "metadata": {
        "colab": {
          "base_uri": "https://localhost:8080/"
        },
        "id": "w1JW_ONeO7u9",
        "outputId": "edeb4e23-cb30-45a5-af19-09ea1d0cf306"
      },
      "execution_count": 95,
      "outputs": [
        {
          "output_type": "stream",
          "name": "stderr",
          "text": [
            "<ipython-input-95-2bb3ee927996>:1: SettingWithCopyWarning: \n",
            "A value is trying to be set on a copy of a slice from a DataFrame.\n",
            "Try using .loc[row_indexer,col_indexer] = value instead\n",
            "\n",
            "See the caveats in the documentation: https://pandas.pydata.org/pandas-docs/stable/user_guide/indexing.html#returning-a-view-versus-a-copy\n",
            "  ass_sh['Check1']=ass_sh.apply(lambda x:check_v(x['ราคาทรัพย์'],x['ประเมินโดย 1']),axis=1)\n",
            "<ipython-input-95-2bb3ee927996>:2: SettingWithCopyWarning: \n",
            "A value is trying to be set on a copy of a slice from a DataFrame.\n",
            "Try using .loc[row_indexer,col_indexer] = value instead\n",
            "\n",
            "See the caveats in the documentation: https://pandas.pydata.org/pandas-docs/stable/user_guide/indexing.html#returning-a-view-versus-a-copy\n",
            "  ass_sh['Check2']=ass_sh.apply(lambda x:check_v(x['ราคาทรัพย์'],x['ประเมินโดย 2']),axis=1)\n"
          ]
        }
      ]
    },
    {
      "cell_type": "code",
      "source": [
        "ass_sh.sort_values(by=['Check1'], ascending=False)"
      ],
      "metadata": {
        "colab": {
          "base_uri": "https://localhost:8080/",
          "height": 424
        },
        "id": "ZBCimZZePLr9",
        "outputId": "81215be8-4667-4bc4-ad5b-5d61885cd515"
      },
      "execution_count": 96,
      "outputs": [
        {
          "output_type": "execute_result",
          "data": {
            "text/plain": [
              "                                  post id  ราคาทรัพย์  ประเมินโดย 1  \\\n",
              "9      https://nayoo.co/khonkaen/posts/24     3900000     2200000.0   \n",
              "5      https://nayoo.co/khonkaen/posts/21    22500000    13500000.0   \n",
              "169  https://nayoo.co/khonkaen/posts/6043     2240000     3500000.0   \n",
              "87    https://nayoo.co/khonkaen/posts/707     1450000     2200000.0   \n",
              "81    https://nayoo.co/khonkaen/posts/701     1925000     2700000.0   \n",
              "..                                    ...         ...           ...   \n",
              "61    https://nayoo.co/khonkaen/posts/643     4180000     4200000.0   \n",
              "65    https://nayoo.co/khonkaen/posts/651     2200000     2200000.0   \n",
              "161  https://nayoo.co/khonkaen/posts/5995     3000000     3000000.0   \n",
              "177  https://nayoo.co/khonkaen/posts/6123     2200000     2200000.0   \n",
              "17    https://nayoo.co/khonkaen/posts/498     7000000     7000000.0   \n",
              "\n",
              "     ประเมินโดย 2    Check1    Check2  \n",
              "9       3000000.0  1.772727  1.300000  \n",
              "5      20000000.0  1.666667  1.125000  \n",
              "169     3000000.0  1.562500  1.339286  \n",
              "87      3200000.0  1.517241  2.206897  \n",
              "81      2000000.0  1.402597  1.038961  \n",
              "..            ...       ...       ...  \n",
              "61      4200000.0  1.004785  1.004785  \n",
              "65      2000000.0  1.000000  1.100000  \n",
              "161     6000000.0  1.000000  2.000000  \n",
              "177     2200000.0  1.000000  1.000000  \n",
              "17      8000000.0  1.000000  1.142857  \n",
              "\n",
              "[91 rows x 6 columns]"
            ],
            "text/html": [
              "\n",
              "  <div id=\"df-21d21a87-4bdf-4f7f-90fd-152761f1a060\">\n",
              "    <div class=\"colab-df-container\">\n",
              "      <div>\n",
              "<style scoped>\n",
              "    .dataframe tbody tr th:only-of-type {\n",
              "        vertical-align: middle;\n",
              "    }\n",
              "\n",
              "    .dataframe tbody tr th {\n",
              "        vertical-align: top;\n",
              "    }\n",
              "\n",
              "    .dataframe thead th {\n",
              "        text-align: right;\n",
              "    }\n",
              "</style>\n",
              "<table border=\"1\" class=\"dataframe\">\n",
              "  <thead>\n",
              "    <tr style=\"text-align: right;\">\n",
              "      <th></th>\n",
              "      <th>post id</th>\n",
              "      <th>ราคาทรัพย์</th>\n",
              "      <th>ประเมินโดย 1</th>\n",
              "      <th>ประเมินโดย 2</th>\n",
              "      <th>Check1</th>\n",
              "      <th>Check2</th>\n",
              "    </tr>\n",
              "  </thead>\n",
              "  <tbody>\n",
              "    <tr>\n",
              "      <th>9</th>\n",
              "      <td>https://nayoo.co/khonkaen/posts/24</td>\n",
              "      <td>3900000</td>\n",
              "      <td>2200000.0</td>\n",
              "      <td>3000000.0</td>\n",
              "      <td>1.772727</td>\n",
              "      <td>1.300000</td>\n",
              "    </tr>\n",
              "    <tr>\n",
              "      <th>5</th>\n",
              "      <td>https://nayoo.co/khonkaen/posts/21</td>\n",
              "      <td>22500000</td>\n",
              "      <td>13500000.0</td>\n",
              "      <td>20000000.0</td>\n",
              "      <td>1.666667</td>\n",
              "      <td>1.125000</td>\n",
              "    </tr>\n",
              "    <tr>\n",
              "      <th>169</th>\n",
              "      <td>https://nayoo.co/khonkaen/posts/6043</td>\n",
              "      <td>2240000</td>\n",
              "      <td>3500000.0</td>\n",
              "      <td>3000000.0</td>\n",
              "      <td>1.562500</td>\n",
              "      <td>1.339286</td>\n",
              "    </tr>\n",
              "    <tr>\n",
              "      <th>87</th>\n",
              "      <td>https://nayoo.co/khonkaen/posts/707</td>\n",
              "      <td>1450000</td>\n",
              "      <td>2200000.0</td>\n",
              "      <td>3200000.0</td>\n",
              "      <td>1.517241</td>\n",
              "      <td>2.206897</td>\n",
              "    </tr>\n",
              "    <tr>\n",
              "      <th>81</th>\n",
              "      <td>https://nayoo.co/khonkaen/posts/701</td>\n",
              "      <td>1925000</td>\n",
              "      <td>2700000.0</td>\n",
              "      <td>2000000.0</td>\n",
              "      <td>1.402597</td>\n",
              "      <td>1.038961</td>\n",
              "    </tr>\n",
              "    <tr>\n",
              "      <th>...</th>\n",
              "      <td>...</td>\n",
              "      <td>...</td>\n",
              "      <td>...</td>\n",
              "      <td>...</td>\n",
              "      <td>...</td>\n",
              "      <td>...</td>\n",
              "    </tr>\n",
              "    <tr>\n",
              "      <th>61</th>\n",
              "      <td>https://nayoo.co/khonkaen/posts/643</td>\n",
              "      <td>4180000</td>\n",
              "      <td>4200000.0</td>\n",
              "      <td>4200000.0</td>\n",
              "      <td>1.004785</td>\n",
              "      <td>1.004785</td>\n",
              "    </tr>\n",
              "    <tr>\n",
              "      <th>65</th>\n",
              "      <td>https://nayoo.co/khonkaen/posts/651</td>\n",
              "      <td>2200000</td>\n",
              "      <td>2200000.0</td>\n",
              "      <td>2000000.0</td>\n",
              "      <td>1.000000</td>\n",
              "      <td>1.100000</td>\n",
              "    </tr>\n",
              "    <tr>\n",
              "      <th>161</th>\n",
              "      <td>https://nayoo.co/khonkaen/posts/5995</td>\n",
              "      <td>3000000</td>\n",
              "      <td>3000000.0</td>\n",
              "      <td>6000000.0</td>\n",
              "      <td>1.000000</td>\n",
              "      <td>2.000000</td>\n",
              "    </tr>\n",
              "    <tr>\n",
              "      <th>177</th>\n",
              "      <td>https://nayoo.co/khonkaen/posts/6123</td>\n",
              "      <td>2200000</td>\n",
              "      <td>2200000.0</td>\n",
              "      <td>2200000.0</td>\n",
              "      <td>1.000000</td>\n",
              "      <td>1.000000</td>\n",
              "    </tr>\n",
              "    <tr>\n",
              "      <th>17</th>\n",
              "      <td>https://nayoo.co/khonkaen/posts/498</td>\n",
              "      <td>7000000</td>\n",
              "      <td>7000000.0</td>\n",
              "      <td>8000000.0</td>\n",
              "      <td>1.000000</td>\n",
              "      <td>1.142857</td>\n",
              "    </tr>\n",
              "  </tbody>\n",
              "</table>\n",
              "<p>91 rows × 6 columns</p>\n",
              "</div>\n",
              "      <button class=\"colab-df-convert\" onclick=\"convertToInteractive('df-21d21a87-4bdf-4f7f-90fd-152761f1a060')\"\n",
              "              title=\"Convert this dataframe to an interactive table.\"\n",
              "              style=\"display:none;\">\n",
              "        \n",
              "  <svg xmlns=\"http://www.w3.org/2000/svg\" height=\"24px\"viewBox=\"0 0 24 24\"\n",
              "       width=\"24px\">\n",
              "    <path d=\"M0 0h24v24H0V0z\" fill=\"none\"/>\n",
              "    <path d=\"M18.56 5.44l.94 2.06.94-2.06 2.06-.94-2.06-.94-.94-2.06-.94 2.06-2.06.94zm-11 1L8.5 8.5l.94-2.06 2.06-.94-2.06-.94L8.5 2.5l-.94 2.06-2.06.94zm10 10l.94 2.06.94-2.06 2.06-.94-2.06-.94-.94-2.06-.94 2.06-2.06.94z\"/><path d=\"M17.41 7.96l-1.37-1.37c-.4-.4-.92-.59-1.43-.59-.52 0-1.04.2-1.43.59L10.3 9.45l-7.72 7.72c-.78.78-.78 2.05 0 2.83L4 21.41c.39.39.9.59 1.41.59.51 0 1.02-.2 1.41-.59l7.78-7.78 2.81-2.81c.8-.78.8-2.07 0-2.86zM5.41 20L4 18.59l7.72-7.72 1.47 1.35L5.41 20z\"/>\n",
              "  </svg>\n",
              "      </button>\n",
              "      \n",
              "  <style>\n",
              "    .colab-df-container {\n",
              "      display:flex;\n",
              "      flex-wrap:wrap;\n",
              "      gap: 12px;\n",
              "    }\n",
              "\n",
              "    .colab-df-convert {\n",
              "      background-color: #E8F0FE;\n",
              "      border: none;\n",
              "      border-radius: 50%;\n",
              "      cursor: pointer;\n",
              "      display: none;\n",
              "      fill: #1967D2;\n",
              "      height: 32px;\n",
              "      padding: 0 0 0 0;\n",
              "      width: 32px;\n",
              "    }\n",
              "\n",
              "    .colab-df-convert:hover {\n",
              "      background-color: #E2EBFA;\n",
              "      box-shadow: 0px 1px 2px rgba(60, 64, 67, 0.3), 0px 1px 3px 1px rgba(60, 64, 67, 0.15);\n",
              "      fill: #174EA6;\n",
              "    }\n",
              "\n",
              "    [theme=dark] .colab-df-convert {\n",
              "      background-color: #3B4455;\n",
              "      fill: #D2E3FC;\n",
              "    }\n",
              "\n",
              "    [theme=dark] .colab-df-convert:hover {\n",
              "      background-color: #434B5C;\n",
              "      box-shadow: 0px 1px 3px 1px rgba(0, 0, 0, 0.15);\n",
              "      filter: drop-shadow(0px 1px 2px rgba(0, 0, 0, 0.3));\n",
              "      fill: #FFFFFF;\n",
              "    }\n",
              "  </style>\n",
              "\n",
              "      <script>\n",
              "        const buttonEl =\n",
              "          document.querySelector('#df-21d21a87-4bdf-4f7f-90fd-152761f1a060 button.colab-df-convert');\n",
              "        buttonEl.style.display =\n",
              "          google.colab.kernel.accessAllowed ? 'block' : 'none';\n",
              "\n",
              "        async function convertToInteractive(key) {\n",
              "          const element = document.querySelector('#df-21d21a87-4bdf-4f7f-90fd-152761f1a060');\n",
              "          const dataTable =\n",
              "            await google.colab.kernel.invokeFunction('convertToInteractive',\n",
              "                                                     [key], {});\n",
              "          if (!dataTable) return;\n",
              "\n",
              "          const docLinkHtml = 'Like what you see? Visit the ' +\n",
              "            '<a target=\"_blank\" href=https://colab.research.google.com/notebooks/data_table.ipynb>data table notebook</a>'\n",
              "            + ' to learn more about interactive tables.';\n",
              "          element.innerHTML = '';\n",
              "          dataTable['output_type'] = 'display_data';\n",
              "          await google.colab.output.renderOutput(dataTable, element);\n",
              "          const docLink = document.createElement('div');\n",
              "          docLink.innerHTML = docLinkHtml;\n",
              "          element.appendChild(docLink);\n",
              "        }\n",
              "      </script>\n",
              "    </div>\n",
              "  </div>\n",
              "  "
            ]
          },
          "metadata": {},
          "execution_count": 96
        }
      ]
    },
    {
      "cell_type": "code",
      "source": [
        "ass_sh.sort_values(by=['Check2'], ascending=False)"
      ],
      "metadata": {
        "colab": {
          "base_uri": "https://localhost:8080/",
          "height": 424
        },
        "id": "E6AqtmF2PNmN",
        "outputId": "23be4289-fcf5-414c-d59e-5145c480244c"
      },
      "execution_count": 97,
      "outputs": [
        {
          "output_type": "execute_result",
          "data": {
            "text/plain": [
              "                                  post id  ราคาทรัพย์  ประเมินโดย 1  \\\n",
              "163  https://nayoo.co/khonkaen/posts/6009     2250000     2700000.0   \n",
              "87    https://nayoo.co/khonkaen/posts/707     1450000     2200000.0   \n",
              "161  https://nayoo.co/khonkaen/posts/5995     3000000     3000000.0   \n",
              "49    https://nayoo.co/khonkaen/posts/602     2520000     3300000.0   \n",
              "169  https://nayoo.co/khonkaen/posts/6043     2240000     3500000.0   \n",
              "..                                    ...         ...           ...   \n",
              "121  https://nayoo.co/khonkaen/posts/2180     5000000     4000000.0   \n",
              "109  https://nayoo.co/khonkaen/posts/1885     3500000     3400000.0   \n",
              "107  https://nayoo.co/khonkaen/posts/1858     1500000     2000000.0   \n",
              "101  https://nayoo.co/khonkaen/posts/1614     2500000     2700000.0   \n",
              "127  https://nayoo.co/khonkaen/posts/2247     1900000     2500000.0   \n",
              "\n",
              "     ประเมินโดย 2    Check1    Check2  \n",
              "163     5000000.0  1.200000  2.222222  \n",
              "87      3200000.0  1.517241  2.206897  \n",
              "161     6000000.0  1.000000  2.000000  \n",
              "49      3500000.0  1.309524  1.388889  \n",
              "169     3000000.0  1.562500  1.339286  \n",
              "..            ...       ...       ...  \n",
              "121     5000000.0  1.250000  1.000000  \n",
              "109     3500000.0  1.029412  1.000000  \n",
              "107     1500000.0  1.333333  1.000000  \n",
              "101     2500000.0  1.080000  1.000000  \n",
              "127     1900000.0  1.315789  1.000000  \n",
              "\n",
              "[91 rows x 6 columns]"
            ],
            "text/html": [
              "\n",
              "  <div id=\"df-a5524b73-149d-46ca-8330-af0eccf385d2\">\n",
              "    <div class=\"colab-df-container\">\n",
              "      <div>\n",
              "<style scoped>\n",
              "    .dataframe tbody tr th:only-of-type {\n",
              "        vertical-align: middle;\n",
              "    }\n",
              "\n",
              "    .dataframe tbody tr th {\n",
              "        vertical-align: top;\n",
              "    }\n",
              "\n",
              "    .dataframe thead th {\n",
              "        text-align: right;\n",
              "    }\n",
              "</style>\n",
              "<table border=\"1\" class=\"dataframe\">\n",
              "  <thead>\n",
              "    <tr style=\"text-align: right;\">\n",
              "      <th></th>\n",
              "      <th>post id</th>\n",
              "      <th>ราคาทรัพย์</th>\n",
              "      <th>ประเมินโดย 1</th>\n",
              "      <th>ประเมินโดย 2</th>\n",
              "      <th>Check1</th>\n",
              "      <th>Check2</th>\n",
              "    </tr>\n",
              "  </thead>\n",
              "  <tbody>\n",
              "    <tr>\n",
              "      <th>163</th>\n",
              "      <td>https://nayoo.co/khonkaen/posts/6009</td>\n",
              "      <td>2250000</td>\n",
              "      <td>2700000.0</td>\n",
              "      <td>5000000.0</td>\n",
              "      <td>1.200000</td>\n",
              "      <td>2.222222</td>\n",
              "    </tr>\n",
              "    <tr>\n",
              "      <th>87</th>\n",
              "      <td>https://nayoo.co/khonkaen/posts/707</td>\n",
              "      <td>1450000</td>\n",
              "      <td>2200000.0</td>\n",
              "      <td>3200000.0</td>\n",
              "      <td>1.517241</td>\n",
              "      <td>2.206897</td>\n",
              "    </tr>\n",
              "    <tr>\n",
              "      <th>161</th>\n",
              "      <td>https://nayoo.co/khonkaen/posts/5995</td>\n",
              "      <td>3000000</td>\n",
              "      <td>3000000.0</td>\n",
              "      <td>6000000.0</td>\n",
              "      <td>1.000000</td>\n",
              "      <td>2.000000</td>\n",
              "    </tr>\n",
              "    <tr>\n",
              "      <th>49</th>\n",
              "      <td>https://nayoo.co/khonkaen/posts/602</td>\n",
              "      <td>2520000</td>\n",
              "      <td>3300000.0</td>\n",
              "      <td>3500000.0</td>\n",
              "      <td>1.309524</td>\n",
              "      <td>1.388889</td>\n",
              "    </tr>\n",
              "    <tr>\n",
              "      <th>169</th>\n",
              "      <td>https://nayoo.co/khonkaen/posts/6043</td>\n",
              "      <td>2240000</td>\n",
              "      <td>3500000.0</td>\n",
              "      <td>3000000.0</td>\n",
              "      <td>1.562500</td>\n",
              "      <td>1.339286</td>\n",
              "    </tr>\n",
              "    <tr>\n",
              "      <th>...</th>\n",
              "      <td>...</td>\n",
              "      <td>...</td>\n",
              "      <td>...</td>\n",
              "      <td>...</td>\n",
              "      <td>...</td>\n",
              "      <td>...</td>\n",
              "    </tr>\n",
              "    <tr>\n",
              "      <th>121</th>\n",
              "      <td>https://nayoo.co/khonkaen/posts/2180</td>\n",
              "      <td>5000000</td>\n",
              "      <td>4000000.0</td>\n",
              "      <td>5000000.0</td>\n",
              "      <td>1.250000</td>\n",
              "      <td>1.000000</td>\n",
              "    </tr>\n",
              "    <tr>\n",
              "      <th>109</th>\n",
              "      <td>https://nayoo.co/khonkaen/posts/1885</td>\n",
              "      <td>3500000</td>\n",
              "      <td>3400000.0</td>\n",
              "      <td>3500000.0</td>\n",
              "      <td>1.029412</td>\n",
              "      <td>1.000000</td>\n",
              "    </tr>\n",
              "    <tr>\n",
              "      <th>107</th>\n",
              "      <td>https://nayoo.co/khonkaen/posts/1858</td>\n",
              "      <td>1500000</td>\n",
              "      <td>2000000.0</td>\n",
              "      <td>1500000.0</td>\n",
              "      <td>1.333333</td>\n",
              "      <td>1.000000</td>\n",
              "    </tr>\n",
              "    <tr>\n",
              "      <th>101</th>\n",
              "      <td>https://nayoo.co/khonkaen/posts/1614</td>\n",
              "      <td>2500000</td>\n",
              "      <td>2700000.0</td>\n",
              "      <td>2500000.0</td>\n",
              "      <td>1.080000</td>\n",
              "      <td>1.000000</td>\n",
              "    </tr>\n",
              "    <tr>\n",
              "      <th>127</th>\n",
              "      <td>https://nayoo.co/khonkaen/posts/2247</td>\n",
              "      <td>1900000</td>\n",
              "      <td>2500000.0</td>\n",
              "      <td>1900000.0</td>\n",
              "      <td>1.315789</td>\n",
              "      <td>1.000000</td>\n",
              "    </tr>\n",
              "  </tbody>\n",
              "</table>\n",
              "<p>91 rows × 6 columns</p>\n",
              "</div>\n",
              "      <button class=\"colab-df-convert\" onclick=\"convertToInteractive('df-a5524b73-149d-46ca-8330-af0eccf385d2')\"\n",
              "              title=\"Convert this dataframe to an interactive table.\"\n",
              "              style=\"display:none;\">\n",
              "        \n",
              "  <svg xmlns=\"http://www.w3.org/2000/svg\" height=\"24px\"viewBox=\"0 0 24 24\"\n",
              "       width=\"24px\">\n",
              "    <path d=\"M0 0h24v24H0V0z\" fill=\"none\"/>\n",
              "    <path d=\"M18.56 5.44l.94 2.06.94-2.06 2.06-.94-2.06-.94-.94-2.06-.94 2.06-2.06.94zm-11 1L8.5 8.5l.94-2.06 2.06-.94-2.06-.94L8.5 2.5l-.94 2.06-2.06.94zm10 10l.94 2.06.94-2.06 2.06-.94-2.06-.94-.94-2.06-.94 2.06-2.06.94z\"/><path d=\"M17.41 7.96l-1.37-1.37c-.4-.4-.92-.59-1.43-.59-.52 0-1.04.2-1.43.59L10.3 9.45l-7.72 7.72c-.78.78-.78 2.05 0 2.83L4 21.41c.39.39.9.59 1.41.59.51 0 1.02-.2 1.41-.59l7.78-7.78 2.81-2.81c.8-.78.8-2.07 0-2.86zM5.41 20L4 18.59l7.72-7.72 1.47 1.35L5.41 20z\"/>\n",
              "  </svg>\n",
              "      </button>\n",
              "      \n",
              "  <style>\n",
              "    .colab-df-container {\n",
              "      display:flex;\n",
              "      flex-wrap:wrap;\n",
              "      gap: 12px;\n",
              "    }\n",
              "\n",
              "    .colab-df-convert {\n",
              "      background-color: #E8F0FE;\n",
              "      border: none;\n",
              "      border-radius: 50%;\n",
              "      cursor: pointer;\n",
              "      display: none;\n",
              "      fill: #1967D2;\n",
              "      height: 32px;\n",
              "      padding: 0 0 0 0;\n",
              "      width: 32px;\n",
              "    }\n",
              "\n",
              "    .colab-df-convert:hover {\n",
              "      background-color: #E2EBFA;\n",
              "      box-shadow: 0px 1px 2px rgba(60, 64, 67, 0.3), 0px 1px 3px 1px rgba(60, 64, 67, 0.15);\n",
              "      fill: #174EA6;\n",
              "    }\n",
              "\n",
              "    [theme=dark] .colab-df-convert {\n",
              "      background-color: #3B4455;\n",
              "      fill: #D2E3FC;\n",
              "    }\n",
              "\n",
              "    [theme=dark] .colab-df-convert:hover {\n",
              "      background-color: #434B5C;\n",
              "      box-shadow: 0px 1px 3px 1px rgba(0, 0, 0, 0.15);\n",
              "      filter: drop-shadow(0px 1px 2px rgba(0, 0, 0, 0.3));\n",
              "      fill: #FFFFFF;\n",
              "    }\n",
              "  </style>\n",
              "\n",
              "      <script>\n",
              "        const buttonEl =\n",
              "          document.querySelector('#df-a5524b73-149d-46ca-8330-af0eccf385d2 button.colab-df-convert');\n",
              "        buttonEl.style.display =\n",
              "          google.colab.kernel.accessAllowed ? 'block' : 'none';\n",
              "\n",
              "        async function convertToInteractive(key) {\n",
              "          const element = document.querySelector('#df-a5524b73-149d-46ca-8330-af0eccf385d2');\n",
              "          const dataTable =\n",
              "            await google.colab.kernel.invokeFunction('convertToInteractive',\n",
              "                                                     [key], {});\n",
              "          if (!dataTable) return;\n",
              "\n",
              "          const docLinkHtml = 'Like what you see? Visit the ' +\n",
              "            '<a target=\"_blank\" href=https://colab.research.google.com/notebooks/data_table.ipynb>data table notebook</a>'\n",
              "            + ' to learn more about interactive tables.';\n",
              "          element.innerHTML = '';\n",
              "          dataTable['output_type'] = 'display_data';\n",
              "          await google.colab.output.renderOutput(dataTable, element);\n",
              "          const docLink = document.createElement('div');\n",
              "          docLink.innerHTML = docLinkHtml;\n",
              "          element.appendChild(docLink);\n",
              "        }\n",
              "      </script>\n",
              "    </div>\n",
              "  </div>\n",
              "  "
            ]
          },
          "metadata": {},
          "execution_count": 97
        }
      ]
    },
    {
      "cell_type": "markdown",
      "source": [
        "### MAPE ใหม่"
      ],
      "metadata": {
        "id": "mEKg6M2Vu_AO"
      }
    },
    {
      "cell_type": "code",
      "source": [
        "sh_e = pd.read_excel(linke,sheet_name='shop house')\n",
        "ids1 = sh_e[sh_e['ID ผู้ประเมิน']==1]\n",
        "ids1 = ids1.dropna(subset=['ราคาทรัพย์','ประเมินราคาซื้อ-ขาย'])\n",
        "ids2 = sh_e[sh_e['ID ผู้ประเมิน']==2]\n",
        "ids2 = ids2.dropna(subset=['ราคาทรัพย์','ประเมินราคาซื้อ-ขาย'])\n",
        "ids1MAPE = mape(ids1['ประเมินราคาซื้อ-ขาย'],pd.to_numeric(ids1['ราคาทรัพย์']))\n",
        "ids2MAPE = mape(ids2['ประเมินราคาซื้อ-ขาย'],pd.to_numeric(ids2['ราคาทรัพย์']))\n",
        "print(f'ความแตกต่างระหว่างราคาประกาศขายและราคาประเมินของ\\nบ้าน\\nนักประเมิน คนที่ 1 = {ids1MAPE*100:.2f}%\\nนักประเมิน คนที่ 2 = {ids2MAPE*100:.2f}%')\n",
        "ids2['ประเมิน2'] = ids2['post id'].map(ids1.set_index('post id')['ประเมินราคาซื้อ-ขาย'])\n",
        "id2_s = idt2.dropna(subset=['ประเมินราคาซื้อ-ขาย','ประเมิน2','ราคาทรัพย์'])\n",
        "one2twos = mape(id2_s['ประเมินราคาซื้อ-ขาย'],id2_s['ประเมิน2'])\n",
        "two2ones = mape(id2_s['ประเมิน2'],id2_s['ประเมินราคาซื้อ-ขาย'])\n",
        "print(f'ความผิดพลาดระหว่างนักประเมินทั้ง {((one2twos)+(two2ones))*50:.2f}%')\n",
        "print(f'จำนวนทรัพย์ทั้งหมด {len(id2_s)} ทรัพย์')"
      ],
      "metadata": {
        "colab": {
          "base_uri": "https://localhost:8080/"
        },
        "id": "z5T_dOXyPRqG",
        "outputId": "51bb2037-3c62-4a5c-e04f-35b5bf516db7"
      },
      "execution_count": 98,
      "outputs": [
        {
          "output_type": "stream",
          "name": "stdout",
          "text": [
            "ความแตกต่างระหว่างราคาประกาศขายและราคาประเมินของ\n",
            "บ้าน\n",
            "นักประเมิน คนที่ 1 = 20.25%\n",
            "นักประเมิน คนที่ 2 = 9.49%\n",
            "ความผิดพลาดระหว่างนักประเมินทั้ง 10.92%\n",
            "จำนวนทรัพย์ทั้งหมด 120 ทรัพย์\n"
          ]
        }
      ]
    },
    {
      "cell_type": "markdown",
      "source": [
        "# HW3"
      ],
      "metadata": {
        "id": "LaGOM8YFtKbq"
      }
    },
    {
      "cell_type": "code",
      "source": [
        "fitness.plot(kind='bar', x='province_name_en',width=0.7,colormap='plasma')\n",
        "plt.xlabel('Province name')\n",
        "plt.ylabel('Score')\n",
        "plt.title('facility fitness rating');"
      ],
      "metadata": {
        "id": "Gb7l9GDpMmgT",
        "outputId": "5432341d-e77c-4625-ce4e-e9f79a6824f2",
        "colab": {
          "base_uri": "https://localhost:8080/",
          "height": 219
        }
      },
      "execution_count": 99,
      "outputs": [
        {
          "output_type": "error",
          "ename": "NameError",
          "evalue": "ignored",
          "traceback": [
            "\u001b[0;31m---------------------------------------------------------------------------\u001b[0m",
            "\u001b[0;31mNameError\u001b[0m                                 Traceback (most recent call last)",
            "\u001b[0;32m<ipython-input-99-1ae643bf9e92>\u001b[0m in \u001b[0;36m<module>\u001b[0;34m\u001b[0m\n\u001b[0;32m----> 1\u001b[0;31m \u001b[0mfitness\u001b[0m\u001b[0;34m.\u001b[0m\u001b[0mplot\u001b[0m\u001b[0;34m(\u001b[0m\u001b[0mkind\u001b[0m\u001b[0;34m=\u001b[0m\u001b[0;34m'bar'\u001b[0m\u001b[0;34m,\u001b[0m \u001b[0mx\u001b[0m\u001b[0;34m=\u001b[0m\u001b[0;34m'province_name_en'\u001b[0m\u001b[0;34m,\u001b[0m\u001b[0mwidth\u001b[0m\u001b[0;34m=\u001b[0m\u001b[0;36m0.7\u001b[0m\u001b[0;34m,\u001b[0m\u001b[0mcolormap\u001b[0m\u001b[0;34m=\u001b[0m\u001b[0;34m'plasma'\u001b[0m\u001b[0;34m)\u001b[0m\u001b[0;34m\u001b[0m\u001b[0;34m\u001b[0m\u001b[0m\n\u001b[0m\u001b[1;32m      2\u001b[0m \u001b[0mplt\u001b[0m\u001b[0;34m.\u001b[0m\u001b[0mxlabel\u001b[0m\u001b[0;34m(\u001b[0m\u001b[0;34m'Province name'\u001b[0m\u001b[0;34m)\u001b[0m\u001b[0;34m\u001b[0m\u001b[0;34m\u001b[0m\u001b[0m\n\u001b[1;32m      3\u001b[0m \u001b[0mplt\u001b[0m\u001b[0;34m.\u001b[0m\u001b[0mylabel\u001b[0m\u001b[0;34m(\u001b[0m\u001b[0;34m'Score'\u001b[0m\u001b[0;34m)\u001b[0m\u001b[0;34m\u001b[0m\u001b[0;34m\u001b[0m\u001b[0m\n\u001b[1;32m      4\u001b[0m \u001b[0mplt\u001b[0m\u001b[0;34m.\u001b[0m\u001b[0mtitle\u001b[0m\u001b[0;34m(\u001b[0m\u001b[0;34m'facility fitness rating'\u001b[0m\u001b[0;34m)\u001b[0m\u001b[0;34m;\u001b[0m\u001b[0;34m\u001b[0m\u001b[0;34m\u001b[0m\u001b[0m\n",
            "\u001b[0;31mNameError\u001b[0m: name 'fitness' is not defined"
          ]
        }
      ]
    },
    {
      "cell_type": "markdown",
      "source": [
        "#visualize แสดงความสัมพันธ์ ราคา(ตั้งขายและประเมิน)-ความมั่นใจ-ให้คะแนนทรัพย์"
      ],
      "metadata": {
        "id": "wi13PJpx_-ja"
      }
    },
    {
      "cell_type": "code",
      "source": [
        "house_e.columns"
      ],
      "metadata": {
        "colab": {
          "base_uri": "https://localhost:8080/"
        },
        "id": "X_4JUVgG9hs8",
        "outputId": "60a5fc08-e28a-4ad4-8950-f8f4da3ef839"
      },
      "execution_count": 100,
      "outputs": [
        {
          "output_type": "execute_result",
          "data": {
            "text/plain": [
              "Index(['ID ผู้ประเมิน', 'post id', 'property_type',\n",
              "       'ความมั่นใจในการเมินราคาทรัพย์', 'ราคาทรัพย์', 'ประเมินราคาซื้อ-ขาย',\n",
              "       'ปัจจัยในการประเมินราคาซื้อ-ขาย', 'เหตุผลไม่มั่นใจราคาประเมิน',\n",
              "       'ให้คะแนนทรัพย์'],\n",
              "      dtype='object')"
            ]
          },
          "metadata": {},
          "execution_count": 100
        }
      ]
    },
    {
      "cell_type": "code",
      "source": [
        "h1 = house_e[house_e['ID ผู้ประเมิน']== 1]"
      ],
      "metadata": {
        "id": "_iEtm8OxM0KS"
      },
      "execution_count": 101,
      "outputs": []
    },
    {
      "cell_type": "code",
      "source": [
        "h1 = h1[['ความมั่นใจในการเมินราคาทรัพย์', 'ราคาทรัพย์', 'ประเมินราคาซื้อ-ขาย',  'ให้คะแนนทรัพย์']]"
      ],
      "metadata": {
        "id": "TeZTMRyBPgTK"
      },
      "execution_count": 102,
      "outputs": []
    },
    {
      "cell_type": "code",
      "source": [
        "h1['percendiff'] = (abs(h1['ราคาทรัพย์']-h1['ประเมินราคาซื้อ-ขาย'])/h1['ราคาทรัพย์'])*100\n",
        "h1"
      ],
      "metadata": {
        "id": "oQsVNCyUVhe7",
        "outputId": "ca3182c9-8fb3-46ed-f340-8c36b908495f",
        "colab": {
          "base_uri": "https://localhost:8080/",
          "height": 424
        }
      },
      "execution_count": 103,
      "outputs": [
        {
          "output_type": "execute_result",
          "data": {
            "text/plain": [
              "     ความมั่นใจในการเมินราคาทรัพย์  ราคาทรัพย์  ประเมินราคาซื้อ-ขาย  \\\n",
              "0                           มั่นใจ     2890000            2500000.0   \n",
              "2                           มั่นใจ     2600000            2200000.0   \n",
              "4                           มั่นใจ     6050000            5000000.0   \n",
              "6                           มั่นใจ     4400000            3500000.0   \n",
              "8                           มั่นใจ     2750000            2500000.0   \n",
              "...                            ...         ...                  ...   \n",
              "1209                        มั่นใจ      260000             550000.0   \n",
              "1211                        มั่นใจ      610000             700000.0   \n",
              "1213                        มั่นใจ      295000             500000.0   \n",
              "1215                        มั่นใจ      615000             600000.0   \n",
              "1217                        มั่นใจ      620000             750000.0   \n",
              "\n",
              "                          ให้คะแนนทรัพย์  percendiff  \n",
              "0      3 ขายได้ ใช้ระยะเวลา 7 - 12 เดือน   13.494810  \n",
              "2     2 ขายได้ยาก ใช้ระยะเวลามากว่า 1 ปี   15.384615  \n",
              "4      3 ขายได้ ใช้ระยะเวลา 7 - 12 เดือน   17.355372  \n",
              "6     2 ขายได้ยาก ใช้ระยะเวลามากว่า 1 ปี   20.454545  \n",
              "8      3 ขายได้ ใช้ระยะเวลา 7 - 12 เดือน    9.090909  \n",
              "...                                  ...         ...  \n",
              "1209   3 ขายได้ ใช้ระยะเวลา 7 - 12 เดือน  111.538462  \n",
              "1211   3 ขายได้ ใช้ระยะเวลา 7 - 12 เดือน   14.754098  \n",
              "1213  2 ขายได้ยาก ใช้ระยะเวลามากว่า 1 ปี   69.491525  \n",
              "1215   3 ขายได้ ใช้ระยะเวลา 7 - 12 เดือน    2.439024  \n",
              "1217   3 ขายได้ ใช้ระยะเวลา 7 - 12 เดือน   20.967742  \n",
              "\n",
              "[609 rows x 5 columns]"
            ],
            "text/html": [
              "\n",
              "  <div id=\"df-d4ab01d4-19e4-49f5-bb20-4d64c8db032a\">\n",
              "    <div class=\"colab-df-container\">\n",
              "      <div>\n",
              "<style scoped>\n",
              "    .dataframe tbody tr th:only-of-type {\n",
              "        vertical-align: middle;\n",
              "    }\n",
              "\n",
              "    .dataframe tbody tr th {\n",
              "        vertical-align: top;\n",
              "    }\n",
              "\n",
              "    .dataframe thead th {\n",
              "        text-align: right;\n",
              "    }\n",
              "</style>\n",
              "<table border=\"1\" class=\"dataframe\">\n",
              "  <thead>\n",
              "    <tr style=\"text-align: right;\">\n",
              "      <th></th>\n",
              "      <th>ความมั่นใจในการเมินราคาทรัพย์</th>\n",
              "      <th>ราคาทรัพย์</th>\n",
              "      <th>ประเมินราคาซื้อ-ขาย</th>\n",
              "      <th>ให้คะแนนทรัพย์</th>\n",
              "      <th>percendiff</th>\n",
              "    </tr>\n",
              "  </thead>\n",
              "  <tbody>\n",
              "    <tr>\n",
              "      <th>0</th>\n",
              "      <td>มั่นใจ</td>\n",
              "      <td>2890000</td>\n",
              "      <td>2500000.0</td>\n",
              "      <td>3 ขายได้ ใช้ระยะเวลา 7 - 12 เดือน</td>\n",
              "      <td>13.494810</td>\n",
              "    </tr>\n",
              "    <tr>\n",
              "      <th>2</th>\n",
              "      <td>มั่นใจ</td>\n",
              "      <td>2600000</td>\n",
              "      <td>2200000.0</td>\n",
              "      <td>2 ขายได้ยาก ใช้ระยะเวลามากว่า 1 ปี</td>\n",
              "      <td>15.384615</td>\n",
              "    </tr>\n",
              "    <tr>\n",
              "      <th>4</th>\n",
              "      <td>มั่นใจ</td>\n",
              "      <td>6050000</td>\n",
              "      <td>5000000.0</td>\n",
              "      <td>3 ขายได้ ใช้ระยะเวลา 7 - 12 เดือน</td>\n",
              "      <td>17.355372</td>\n",
              "    </tr>\n",
              "    <tr>\n",
              "      <th>6</th>\n",
              "      <td>มั่นใจ</td>\n",
              "      <td>4400000</td>\n",
              "      <td>3500000.0</td>\n",
              "      <td>2 ขายได้ยาก ใช้ระยะเวลามากว่า 1 ปี</td>\n",
              "      <td>20.454545</td>\n",
              "    </tr>\n",
              "    <tr>\n",
              "      <th>8</th>\n",
              "      <td>มั่นใจ</td>\n",
              "      <td>2750000</td>\n",
              "      <td>2500000.0</td>\n",
              "      <td>3 ขายได้ ใช้ระยะเวลา 7 - 12 เดือน</td>\n",
              "      <td>9.090909</td>\n",
              "    </tr>\n",
              "    <tr>\n",
              "      <th>...</th>\n",
              "      <td>...</td>\n",
              "      <td>...</td>\n",
              "      <td>...</td>\n",
              "      <td>...</td>\n",
              "      <td>...</td>\n",
              "    </tr>\n",
              "    <tr>\n",
              "      <th>1209</th>\n",
              "      <td>มั่นใจ</td>\n",
              "      <td>260000</td>\n",
              "      <td>550000.0</td>\n",
              "      <td>3 ขายได้ ใช้ระยะเวลา 7 - 12 เดือน</td>\n",
              "      <td>111.538462</td>\n",
              "    </tr>\n",
              "    <tr>\n",
              "      <th>1211</th>\n",
              "      <td>มั่นใจ</td>\n",
              "      <td>610000</td>\n",
              "      <td>700000.0</td>\n",
              "      <td>3 ขายได้ ใช้ระยะเวลา 7 - 12 เดือน</td>\n",
              "      <td>14.754098</td>\n",
              "    </tr>\n",
              "    <tr>\n",
              "      <th>1213</th>\n",
              "      <td>มั่นใจ</td>\n",
              "      <td>295000</td>\n",
              "      <td>500000.0</td>\n",
              "      <td>2 ขายได้ยาก ใช้ระยะเวลามากว่า 1 ปี</td>\n",
              "      <td>69.491525</td>\n",
              "    </tr>\n",
              "    <tr>\n",
              "      <th>1215</th>\n",
              "      <td>มั่นใจ</td>\n",
              "      <td>615000</td>\n",
              "      <td>600000.0</td>\n",
              "      <td>3 ขายได้ ใช้ระยะเวลา 7 - 12 เดือน</td>\n",
              "      <td>2.439024</td>\n",
              "    </tr>\n",
              "    <tr>\n",
              "      <th>1217</th>\n",
              "      <td>มั่นใจ</td>\n",
              "      <td>620000</td>\n",
              "      <td>750000.0</td>\n",
              "      <td>3 ขายได้ ใช้ระยะเวลา 7 - 12 เดือน</td>\n",
              "      <td>20.967742</td>\n",
              "    </tr>\n",
              "  </tbody>\n",
              "</table>\n",
              "<p>609 rows × 5 columns</p>\n",
              "</div>\n",
              "      <button class=\"colab-df-convert\" onclick=\"convertToInteractive('df-d4ab01d4-19e4-49f5-bb20-4d64c8db032a')\"\n",
              "              title=\"Convert this dataframe to an interactive table.\"\n",
              "              style=\"display:none;\">\n",
              "        \n",
              "  <svg xmlns=\"http://www.w3.org/2000/svg\" height=\"24px\"viewBox=\"0 0 24 24\"\n",
              "       width=\"24px\">\n",
              "    <path d=\"M0 0h24v24H0V0z\" fill=\"none\"/>\n",
              "    <path d=\"M18.56 5.44l.94 2.06.94-2.06 2.06-.94-2.06-.94-.94-2.06-.94 2.06-2.06.94zm-11 1L8.5 8.5l.94-2.06 2.06-.94-2.06-.94L8.5 2.5l-.94 2.06-2.06.94zm10 10l.94 2.06.94-2.06 2.06-.94-2.06-.94-.94-2.06-.94 2.06-2.06.94z\"/><path d=\"M17.41 7.96l-1.37-1.37c-.4-.4-.92-.59-1.43-.59-.52 0-1.04.2-1.43.59L10.3 9.45l-7.72 7.72c-.78.78-.78 2.05 0 2.83L4 21.41c.39.39.9.59 1.41.59.51 0 1.02-.2 1.41-.59l7.78-7.78 2.81-2.81c.8-.78.8-2.07 0-2.86zM5.41 20L4 18.59l7.72-7.72 1.47 1.35L5.41 20z\"/>\n",
              "  </svg>\n",
              "      </button>\n",
              "      \n",
              "  <style>\n",
              "    .colab-df-container {\n",
              "      display:flex;\n",
              "      flex-wrap:wrap;\n",
              "      gap: 12px;\n",
              "    }\n",
              "\n",
              "    .colab-df-convert {\n",
              "      background-color: #E8F0FE;\n",
              "      border: none;\n",
              "      border-radius: 50%;\n",
              "      cursor: pointer;\n",
              "      display: none;\n",
              "      fill: #1967D2;\n",
              "      height: 32px;\n",
              "      padding: 0 0 0 0;\n",
              "      width: 32px;\n",
              "    }\n",
              "\n",
              "    .colab-df-convert:hover {\n",
              "      background-color: #E2EBFA;\n",
              "      box-shadow: 0px 1px 2px rgba(60, 64, 67, 0.3), 0px 1px 3px 1px rgba(60, 64, 67, 0.15);\n",
              "      fill: #174EA6;\n",
              "    }\n",
              "\n",
              "    [theme=dark] .colab-df-convert {\n",
              "      background-color: #3B4455;\n",
              "      fill: #D2E3FC;\n",
              "    }\n",
              "\n",
              "    [theme=dark] .colab-df-convert:hover {\n",
              "      background-color: #434B5C;\n",
              "      box-shadow: 0px 1px 3px 1px rgba(0, 0, 0, 0.15);\n",
              "      filter: drop-shadow(0px 1px 2px rgba(0, 0, 0, 0.3));\n",
              "      fill: #FFFFFF;\n",
              "    }\n",
              "  </style>\n",
              "\n",
              "      <script>\n",
              "        const buttonEl =\n",
              "          document.querySelector('#df-d4ab01d4-19e4-49f5-bb20-4d64c8db032a button.colab-df-convert');\n",
              "        buttonEl.style.display =\n",
              "          google.colab.kernel.accessAllowed ? 'block' : 'none';\n",
              "\n",
              "        async function convertToInteractive(key) {\n",
              "          const element = document.querySelector('#df-d4ab01d4-19e4-49f5-bb20-4d64c8db032a');\n",
              "          const dataTable =\n",
              "            await google.colab.kernel.invokeFunction('convertToInteractive',\n",
              "                                                     [key], {});\n",
              "          if (!dataTable) return;\n",
              "\n",
              "          const docLinkHtml = 'Like what you see? Visit the ' +\n",
              "            '<a target=\"_blank\" href=https://colab.research.google.com/notebooks/data_table.ipynb>data table notebook</a>'\n",
              "            + ' to learn more about interactive tables.';\n",
              "          element.innerHTML = '';\n",
              "          dataTable['output_type'] = 'display_data';\n",
              "          await google.colab.output.renderOutput(dataTable, element);\n",
              "          const docLink = document.createElement('div');\n",
              "          docLink.innerHTML = docLinkHtml;\n",
              "          element.appendChild(docLink);\n",
              "        }\n",
              "      </script>\n",
              "    </div>\n",
              "  </div>\n",
              "  "
            ]
          },
          "metadata": {},
          "execution_count": 103
        }
      ]
    },
    {
      "cell_type": "code",
      "source": [
        "h1['ความมั่นใจในการเมินราคาทรัพย์'].value_counts()"
      ],
      "metadata": {
        "id": "TbM6F8QXaG01",
        "outputId": "e99b015a-c31e-44ac-c194-c37d7cfeeb59",
        "colab": {
          "base_uri": "https://localhost:8080/"
        }
      },
      "execution_count": 104,
      "outputs": [
        {
          "output_type": "execute_result",
          "data": {
            "text/plain": [
              "มั่นใจ    609\n",
              "Name: ความมั่นใจในการเมินราคาทรัพย์, dtype: int64"
            ]
          },
          "metadata": {},
          "execution_count": 104
        }
      ]
    },
    {
      "cell_type": "code",
      "source": [
        "h1['ให้คะแนนทรัพย์'].value_counts()"
      ],
      "metadata": {
        "id": "rzqlka7za2ic",
        "outputId": "5db8f008-9411-4299-a52c-bd988190b127",
        "colab": {
          "base_uri": "https://localhost:8080/"
        }
      },
      "execution_count": 105,
      "outputs": [
        {
          "output_type": "execute_result",
          "data": {
            "text/plain": [
              "3 ขายได้ ใช้ระยะเวลา 7 - 12 เดือน     475\n",
              "2 ขายได้ยาก ใช้ระยะเวลามากว่า 1 ปี    126\n",
              "4 ขายได้ ใช้ระยะเวลา 4 - 6 เดือน        6\n",
              "1 ขายไม่ได้แน่นอน                       2\n",
              "Name: ให้คะแนนทรัพย์, dtype: int64"
            ]
          },
          "metadata": {},
          "execution_count": 105
        }
      ]
    },
    {
      "cell_type": "code",
      "source": [
        "plt.rcParams[\"figure.figsize\"] = (10, 6)"
      ],
      "metadata": {
        "id": "evOK1VoCjS-H"
      },
      "execution_count": 106,
      "outputs": []
    },
    {
      "cell_type": "code",
      "source": [
        "plt.scatter(x, z, linestyle=\"-\", marker=\"o\", label=\"Income\")"
      ],
      "metadata": {
        "id": "lgx4Yh5yiNrY"
      },
      "execution_count": null,
      "outputs": []
    },
    {
      "cell_type": "code",
      "source": [
        "plt.scatter(x, z, linestyle=\"-\", marker=\"o\", label=\"Income\")\n",
        "plt.plot(x, y, linestyle=\"-\", marker=\"o\", label=\"Expenses\")\n",
        "plt.legend()\n",
        "plt.show()"
      ],
      "metadata": {
        "id": "ro4a6Zgvhu_R"
      },
      "execution_count": null,
      "outputs": []
    },
    {
      "cell_type": "code",
      "source": [
        "h1.plot(kind='bar', x='percendiff',width=0.7,colormap='plasma')\n",
        "plt.xlabel('Province name')\n",
        "plt.ylabel('Score')\n",
        "plt.title('facility fitness rating');"
      ],
      "metadata": {
        "id": "lzRisIyCWCaZ"
      },
      "execution_count": null,
      "outputs": []
    },
    {
      "cell_type": "code",
      "source": [
        "h2 = house_e[house_e['ID ผู้ประเมิน']== 2]"
      ],
      "metadata": {
        "id": "gKTzqrT1QAWb"
      },
      "execution_count": null,
      "outputs": []
    },
    {
      "cell_type": "code",
      "source": [
        "h2 = h2[['ID ผู้ประเมิน','ความมั่นใจในการเมินราคาทรัพย์', 'ราคาทรัพย์', 'ประเมินราคาซื้อ-ขาย',  'ให้คะแนนทรัพย์']]\n",
        "h2"
      ],
      "metadata": {
        "id": "mzxTMeD9Pgm6"
      },
      "execution_count": null,
      "outputs": []
    },
    {
      "cell_type": "code",
      "source": [
        "h1m = h1.mean().reset_index()\n",
        "h1m"
      ],
      "metadata": {
        "id": "fcMcup7HRiRq"
      },
      "execution_count": null,
      "outputs": []
    },
    {
      "cell_type": "code",
      "source": [
        "# plot\n",
        "  plt.plot('ราคาทรัพย์', 'ประเมินราคาซื้อ-ขาย', data=h1, linestyle='-', marker='o')\n",
        "  plt.show()"
      ],
      "metadata": {
        "id": "SLQ0bjp3SXl4"
      },
      "execution_count": null,
      "outputs": []
    },
    {
      "cell_type": "code",
      "source": [],
      "metadata": {
        "id": "7C_zRI5RTfAF"
      },
      "execution_count": null,
      "outputs": []
    }
  ]
}